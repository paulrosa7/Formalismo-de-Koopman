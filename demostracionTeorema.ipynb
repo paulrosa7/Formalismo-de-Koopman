{
 "cells": [
  {
   "cell_type": "code",
   "execution_count": 1,
   "id": "1e21f0d6-37b2-402f-9057-a96672c6f0fa",
   "metadata": {},
   "outputs": [],
   "source": [
    "from sympy.physics.quantum import tensor_product_simp\n",
    "from sympy.physics.quantum import *\n",
    "\n",
    "from sympy import *\n"
   ]
  },
  {
   "cell_type": "code",
   "execution_count": 2,
   "id": "0eb74bcf-c296-4c15-906b-eb5aa3347368",
   "metadata": {},
   "outputs": [],
   "source": [
    "#NÚMERO DE OPERADORES DE KRAUS\n",
    "\n",
    "orden=3"
   ]
  },
  {
   "cell_type": "code",
   "execution_count": 35,
   "id": "a2ff2c8b-53a4-4f6a-aef9-2ff02a439d5c",
   "metadata": {},
   "outputs": [],
   "source": [
    "\n",
    "Ld=Operator('L')\n",
    "I=IdentityOperator()\n",
    "\n",
    "#AcM=Matrix([[0,1],[0,0]])\n",
    "\n",
    "j = Symbol('i')\n",
    "\n",
    "pic= Operator('\\pi_c')\n",
    "piq= Operator('\\pi_q')\n",
    "pih= Operator('\\pi_h')\n",
    "\n",
    "#pic= Operator('πc')\n",
    "#piq= Operator('πq')\n",
    "#pih= Operator('πh')\n",
    "\n",
    "pih=TensorProduct(pic,piq)\n",
    "\n",
    "\n",
    "H= Operator('H')\n",
    "Hc= Operator('H_c')\n",
    "Hq= Operator('H_q')\n",
    "Hcq= Operator('H_{cq}')\n",
    "hq= Operator('h_q')\n",
    "hc= Operator('h_c')\n",
    "\n",
    "Hcq=TensorProduct(hc,hq)\n",
    "H=TensorProduct(Hc,I)+TensorProduct(I,Hq)+Hcq\n",
    "\n",
    "for k in range(orden): \n",
    "    exec(f\"gamma{k}=Symbol('\\gamma_{'{'+str(k)+'}'}')\")\n",
    "    exec(f\"A{k}= Operator('A')\")\n",
    "    exec(f\"A{k}c= Operator('A_{'{'+str(k)+'c}'}')\")\n",
    "    exec(f\"A{k}q= Operator('A_{'{'+str(k)+'q}'}')\")\n",
    "    exec(f\"A{k}cq= Operator('A_{'{'+str(k)+'cq}'}')\")\n",
    "    exec(f\"a{k}c= Operator('a_{'{'+str(k)+'c}'}')\")\n",
    "    exec(f\"a{k}q= Operator('a_{'{'+str(k)+'q}'}')\")\n",
    "\n",
    "\n",
    "\n",
    "Piq1= Operator('\\Pi_{q1}')\n",
    "Pip1= Operator('\\Pi_{p1}')\n",
    "Piq2= Operator('\\Pi_{q2}')\n",
    "Pip2= Operator('\\Pi_{p2}')\n",
    "tq1=Symbol('t_{q1}')\n",
    "tp1=Symbol('t_{p1}')\n",
    "tq2=Symbol('t_{q2}')\n",
    "tp2=Symbol('t_{p2}')\n",
    "\n",
    "#DEFINICIÓN DE OPERADORES DE KRAUS\n",
    "a=Operator('a')\n",
    "b1=Operator('b_1')\n",
    "b2=Operator('b_2')\n",
    "b3=Operator('b_3')\n",
    "b4=Operator('b_4')\n",
    "\n",
    "c1=Operator('c_1')\n",
    "c2=Operator('c_2')\n",
    "c3=Operator('c_3')\n",
    "for k in range(orden): \n",
    "    exec(f\"d{k}=Operator('d_{'{'+str(k)+'}'}')\")\n",
    "    exec(f\"e{k}11=Operator('e_{'{'+str(k)+'11}'}')\")\n",
    "    exec(f\"e{k}12=Operator('e_{'{'+str(k)+'12}'}')\")\n",
    "    exec(f\"e{k}21=Operator('e_{'{'+str(k)+'21}'}')\")\n",
    "    exec(f\"e{k}22=Operator('e_{'{'+str(k)+'22}'}')\")\n",
    "    exec(f\"e{k}3=Operator('e_{'{'+str(k)+'3}'}')\")\n",
    "    exec(f\"e{k}4=Operator('e_{'{'+str(k)+'4}'}')\")\n",
    "    \n",
    "    exec(f\"f{k}1=Operator('f_{'{'+str(k)+'1}'}')\")\n",
    "    exec(f\"f{k}2=Operator('f_{'{'+str(k)+'2}'}')\")\n",
    "    exec(f\"f{k}3=Operator('f_{'{'+str(k)+'3}'}')\")\n",
    "    \n",
    "    \n",
    "    \n",
    "    \n",
    "    #exec(f\"a{k}c=d{k}+e{k}1*Piq*tq+e{k}2*Pip*tp+f{k}1*tq*tq*Piq*Piq+f{k}2*Pip*Pip*tp*tp+f{k}3*tq*tp*Pip*Piq\")\n",
    "    #exec(f\"a{k}c=d{k}+e{k}1*Piq*tq+e{k}2*Pip*tp+Piq*e{k}3*tq+Pip*e{k}4*tp\")\n",
    "    exec(f\"a{k}c=d{k}+e{k}11*Piq1*tq1+e{k}21*Pip1*tp1+e{k}12*Piq2*tq2+e{k}22*Pip2*tp2\")\n",
    "    #exec(f\"a{k}c=d{k}+e{k}11*Piq1+e{k}21*Pip1+e{k}12*Piq2+e{k}22*Pip2\")\n",
    "    #las variables t son auxiliares para propósitos de programación. Pueden considerarse que valen 1.\n",
    "    \n",
    "    exec(f\"aa{k}c=Dagger(a{k}c)\")\n",
    "\n",
    "    exec(f\"A{k}cq=TensorProduct(a{k}c,a{k}q)\")\n",
    "#    exec(f\"A{k}cq=TensorProduct(a{k}c,a)\")\n",
    "    exec(f\"A{k}=TensorProduct(A{k}c,I)+TensorProduct(I,A{k}q)+A{k}cq\")\n",
    "    exec(f\"A{k}=A{k}cq\")\n",
    "    #exec(f\"A{k}=TensorProduct(A{k}c,I)+TensorProduct(I,A{k}q)\")\n",
    "\n",
    "    exec(f\"AA{k}=Dagger(A{k})\")\n",
    "    exec(f\"AA{k}c=Dagger(A{k}c)\")\n",
    "\n",
    "#Hc=a+b1*Piq*tq+c1*Piq*Piq*tq*tq\n",
    "\n",
    "#Hc=a+b1*Piq*tq+b2*Pip*tp+c1*Piq*Piq*tq*tq+c2*Pip*Pip*tp*tp+c3*Pip*Piq*tq*tp\n",
    "#Hc=a+b1*Piq*tq+b2*Pip*tp+Piq*b3*tq+Pip*tp*b4\n",
    "#Hc=a+b1*Piq*tq+Piq*tq*b2\n",
    "#Hc=a+b1*Piq*tq\n",
    "#Hc=Dagger(Hc)*Hc\n",
    "#Hc=a"
   ]
  },
  {
   "cell_type": "code",
   "execution_count": 37,
   "id": "789ac03d-d21f-4523-8577-673aba7f7d96",
   "metadata": {},
   "outputs": [],
   "source": [
    "#DEFINICION DEL OPERADOR DE LINDBLAD ACTUANDO SOBRE π_c\n",
    "\n",
    "Ld=j*H*pih-j*pih*H\n",
    "for k in range(orden):\n",
    "    exec(f\"Ld+=gamma{k}*(AA{k}*pih*A{k}-0.5*pih*AA{k}*A{k}-0.5*AA{k}*A{k}*pih)\")\n",
    "Ld=tensor_product_simp((Ld).expand())\n"
   ]
  },
  {
   "cell_type": "code",
   "execution_count": 39,
   "id": "7f9c105c-4cd7-4d18-bc4e-ae54034bfe75",
   "metadata": {},
   "outputs": [
    {
     "data": {
      "text/latex": [
       "$\\displaystyle \\gamma_{0} \\left({\\Pi_{p1}^{\\dagger} e_{021}^{\\dagger} \\pi_{c} d_{0} + \\Pi_{p1}^{\\dagger} e_{021}^{\\dagger} \\pi_{c} e_{011} \\Pi_{q1} + \\Pi_{p1}^{\\dagger} e_{021}^{\\dagger} \\pi_{c} e_{012} \\Pi_{q2} + \\Pi_{p1}^{\\dagger} e_{021}^{\\dagger} \\pi_{c} e_{021} \\Pi_{p1} + \\Pi_{p1}^{\\dagger} e_{021}^{\\dagger} \\pi_{c} e_{022} \\Pi_{p2} + \\Pi_{p2}^{\\dagger} e_{022}^{\\dagger} \\pi_{c} d_{0} + \\Pi_{p2}^{\\dagger} e_{022}^{\\dagger} \\pi_{c} e_{011} \\Pi_{q1} + \\Pi_{p2}^{\\dagger} e_{022}^{\\dagger} \\pi_{c} e_{012} \\Pi_{q2} + \\Pi_{p2}^{\\dagger} e_{022}^{\\dagger} \\pi_{c} e_{021} \\Pi_{p1} + \\Pi_{p2}^{\\dagger} e_{022}^{\\dagger} \\pi_{c} e_{022} \\Pi_{p2} + \\Pi_{q1}^{\\dagger} e_{011}^{\\dagger} \\pi_{c} d_{0} + \\Pi_{q1}^{\\dagger} e_{011}^{\\dagger} \\pi_{c} e_{011} \\Pi_{q1} + \\Pi_{q1}^{\\dagger} e_{011}^{\\dagger} \\pi_{c} e_{012} \\Pi_{q2} + \\Pi_{q1}^{\\dagger} e_{011}^{\\dagger} \\pi_{c} e_{021} \\Pi_{p1} + \\Pi_{q1}^{\\dagger} e_{011}^{\\dagger} \\pi_{c} e_{022} \\Pi_{p2} + \\Pi_{q2}^{\\dagger} e_{012}^{\\dagger} \\pi_{c} d_{0} + \\Pi_{q2}^{\\dagger} e_{012}^{\\dagger} \\pi_{c} e_{011} \\Pi_{q1} + \\Pi_{q2}^{\\dagger} e_{012}^{\\dagger} \\pi_{c} e_{012} \\Pi_{q2} + \\Pi_{q2}^{\\dagger} e_{012}^{\\dagger} \\pi_{c} e_{021} \\Pi_{p1} + \\Pi_{q2}^{\\dagger} e_{012}^{\\dagger} \\pi_{c} e_{022} \\Pi_{p2} + d_{0}^{\\dagger} \\pi_{c} d_{0} + d_{0}^{\\dagger} \\pi_{c} e_{011} \\Pi_{q1} + d_{0}^{\\dagger} \\pi_{c} e_{012} \\Pi_{q2} + d_{0}^{\\dagger} \\pi_{c} e_{021} \\Pi_{p1} + d_{0}^{\\dagger} \\pi_{c} e_{022} \\Pi_{p2}}\\right)\\otimes \\left({a_{0q}^{\\dagger} \\pi_{q} a_{0q}}\\right) - 0.5 \\gamma_{0} \\left({\\Pi_{p1}^{\\dagger} e_{021}^{\\dagger} d_{0} \\pi_{c} + \\Pi_{p1}^{\\dagger} e_{021}^{\\dagger} e_{011} \\Pi_{q1} \\pi_{c} + \\Pi_{p1}^{\\dagger} e_{021}^{\\dagger} e_{012} \\Pi_{q2} \\pi_{c} + \\Pi_{p1}^{\\dagger} e_{021}^{\\dagger} e_{021} \\Pi_{p1} \\pi_{c} + \\Pi_{p1}^{\\dagger} e_{021}^{\\dagger} e_{022} \\Pi_{p2} \\pi_{c} + \\Pi_{p2}^{\\dagger} e_{022}^{\\dagger} d_{0} \\pi_{c} + \\Pi_{p2}^{\\dagger} e_{022}^{\\dagger} e_{011} \\Pi_{q1} \\pi_{c} + \\Pi_{p2}^{\\dagger} e_{022}^{\\dagger} e_{012} \\Pi_{q2} \\pi_{c} + \\Pi_{p2}^{\\dagger} e_{022}^{\\dagger} e_{021} \\Pi_{p1} \\pi_{c} + \\Pi_{p2}^{\\dagger} e_{022}^{\\dagger} e_{022} \\Pi_{p2} \\pi_{c} + \\Pi_{q1}^{\\dagger} e_{011}^{\\dagger} d_{0} \\pi_{c} + \\Pi_{q1}^{\\dagger} e_{011}^{\\dagger} e_{011} \\Pi_{q1} \\pi_{c} + \\Pi_{q1}^{\\dagger} e_{011}^{\\dagger} e_{012} \\Pi_{q2} \\pi_{c} + \\Pi_{q1}^{\\dagger} e_{011}^{\\dagger} e_{021} \\Pi_{p1} \\pi_{c} + \\Pi_{q1}^{\\dagger} e_{011}^{\\dagger} e_{022} \\Pi_{p2} \\pi_{c} + \\Pi_{q2}^{\\dagger} e_{012}^{\\dagger} d_{0} \\pi_{c} + \\Pi_{q2}^{\\dagger} e_{012}^{\\dagger} e_{011} \\Pi_{q1} \\pi_{c} + \\Pi_{q2}^{\\dagger} e_{012}^{\\dagger} e_{012} \\Pi_{q2} \\pi_{c} + \\Pi_{q2}^{\\dagger} e_{012}^{\\dagger} e_{021} \\Pi_{p1} \\pi_{c} + \\Pi_{q2}^{\\dagger} e_{012}^{\\dagger} e_{022} \\Pi_{p2} \\pi_{c} + d_{0}^{\\dagger} d_{0} \\pi_{c} + d_{0}^{\\dagger} e_{011} \\Pi_{q1} \\pi_{c} + d_{0}^{\\dagger} e_{012} \\Pi_{q2} \\pi_{c} + d_{0}^{\\dagger} e_{021} \\Pi_{p1} \\pi_{c} + d_{0}^{\\dagger} e_{022} \\Pi_{p2} \\pi_{c}}\\right)\\otimes \\left({a_{0q}^{\\dagger} a_{0q} \\pi_{q}}\\right) - 0.5 \\gamma_{0} \\left({\\pi_{c} \\Pi_{p1}^{\\dagger} e_{021}^{\\dagger} d_{0} + \\pi_{c} \\Pi_{p1}^{\\dagger} e_{021}^{\\dagger} e_{011} \\Pi_{q1} + \\pi_{c} \\Pi_{p1}^{\\dagger} e_{021}^{\\dagger} e_{012} \\Pi_{q2} + \\pi_{c} \\Pi_{p1}^{\\dagger} e_{021}^{\\dagger} e_{021} \\Pi_{p1} + \\pi_{c} \\Pi_{p1}^{\\dagger} e_{021}^{\\dagger} e_{022} \\Pi_{p2} + \\pi_{c} \\Pi_{p2}^{\\dagger} e_{022}^{\\dagger} d_{0} + \\pi_{c} \\Pi_{p2}^{\\dagger} e_{022}^{\\dagger} e_{011} \\Pi_{q1} + \\pi_{c} \\Pi_{p2}^{\\dagger} e_{022}^{\\dagger} e_{012} \\Pi_{q2} + \\pi_{c} \\Pi_{p2}^{\\dagger} e_{022}^{\\dagger} e_{021} \\Pi_{p1} + \\pi_{c} \\Pi_{p2}^{\\dagger} e_{022}^{\\dagger} e_{022} \\Pi_{p2} + \\pi_{c} \\Pi_{q1}^{\\dagger} e_{011}^{\\dagger} d_{0} + \\pi_{c} \\Pi_{q1}^{\\dagger} e_{011}^{\\dagger} e_{011} \\Pi_{q1} + \\pi_{c} \\Pi_{q1}^{\\dagger} e_{011}^{\\dagger} e_{012} \\Pi_{q2} + \\pi_{c} \\Pi_{q1}^{\\dagger} e_{011}^{\\dagger} e_{021} \\Pi_{p1} + \\pi_{c} \\Pi_{q1}^{\\dagger} e_{011}^{\\dagger} e_{022} \\Pi_{p2} + \\pi_{c} \\Pi_{q2}^{\\dagger} e_{012}^{\\dagger} d_{0} + \\pi_{c} \\Pi_{q2}^{\\dagger} e_{012}^{\\dagger} e_{011} \\Pi_{q1} + \\pi_{c} \\Pi_{q2}^{\\dagger} e_{012}^{\\dagger} e_{012} \\Pi_{q2} + \\pi_{c} \\Pi_{q2}^{\\dagger} e_{012}^{\\dagger} e_{021} \\Pi_{p1} + \\pi_{c} \\Pi_{q2}^{\\dagger} e_{012}^{\\dagger} e_{022} \\Pi_{p2} + \\pi_{c} d_{0}^{\\dagger} d_{0} + \\pi_{c} d_{0}^{\\dagger} e_{011} \\Pi_{q1} + \\pi_{c} d_{0}^{\\dagger} e_{012} \\Pi_{q2} + \\pi_{c} d_{0}^{\\dagger} e_{021} \\Pi_{p1} + \\pi_{c} d_{0}^{\\dagger} e_{022} \\Pi_{p2}}\\right)\\otimes \\left({\\pi_{q} a_{0q}^{\\dagger} a_{0q}}\\right) + \\gamma_{1} \\left({\\Pi_{p1}^{\\dagger} e_{121}^{\\dagger} \\pi_{c} d_{1} + \\Pi_{p1}^{\\dagger} e_{121}^{\\dagger} \\pi_{c} e_{111} \\Pi_{q1} + \\Pi_{p1}^{\\dagger} e_{121}^{\\dagger} \\pi_{c} e_{112} \\Pi_{q2} + \\Pi_{p1}^{\\dagger} e_{121}^{\\dagger} \\pi_{c} e_{121} \\Pi_{p1} + \\Pi_{p1}^{\\dagger} e_{121}^{\\dagger} \\pi_{c} e_{122} \\Pi_{p2} + \\Pi_{p2}^{\\dagger} e_{122}^{\\dagger} \\pi_{c} d_{1} + \\Pi_{p2}^{\\dagger} e_{122}^{\\dagger} \\pi_{c} e_{111} \\Pi_{q1} + \\Pi_{p2}^{\\dagger} e_{122}^{\\dagger} \\pi_{c} e_{112} \\Pi_{q2} + \\Pi_{p2}^{\\dagger} e_{122}^{\\dagger} \\pi_{c} e_{121} \\Pi_{p1} + \\Pi_{p2}^{\\dagger} e_{122}^{\\dagger} \\pi_{c} e_{122} \\Pi_{p2} + \\Pi_{q1}^{\\dagger} e_{111}^{\\dagger} \\pi_{c} d_{1} + \\Pi_{q1}^{\\dagger} e_{111}^{\\dagger} \\pi_{c} e_{111} \\Pi_{q1} + \\Pi_{q1}^{\\dagger} e_{111}^{\\dagger} \\pi_{c} e_{112} \\Pi_{q2} + \\Pi_{q1}^{\\dagger} e_{111}^{\\dagger} \\pi_{c} e_{121} \\Pi_{p1} + \\Pi_{q1}^{\\dagger} e_{111}^{\\dagger} \\pi_{c} e_{122} \\Pi_{p2} + \\Pi_{q2}^{\\dagger} e_{112}^{\\dagger} \\pi_{c} d_{1} + \\Pi_{q2}^{\\dagger} e_{112}^{\\dagger} \\pi_{c} e_{111} \\Pi_{q1} + \\Pi_{q2}^{\\dagger} e_{112}^{\\dagger} \\pi_{c} e_{112} \\Pi_{q2} + \\Pi_{q2}^{\\dagger} e_{112}^{\\dagger} \\pi_{c} e_{121} \\Pi_{p1} + \\Pi_{q2}^{\\dagger} e_{112}^{\\dagger} \\pi_{c} e_{122} \\Pi_{p2} + d_{1}^{\\dagger} \\pi_{c} d_{1} + d_{1}^{\\dagger} \\pi_{c} e_{111} \\Pi_{q1} + d_{1}^{\\dagger} \\pi_{c} e_{112} \\Pi_{q2} + d_{1}^{\\dagger} \\pi_{c} e_{121} \\Pi_{p1} + d_{1}^{\\dagger} \\pi_{c} e_{122} \\Pi_{p2}}\\right)\\otimes \\left({a_{1q}^{\\dagger} \\pi_{q} a_{1q}}\\right) - 0.5 \\gamma_{1} \\left({\\Pi_{p1}^{\\dagger} e_{121}^{\\dagger} d_{1} \\pi_{c} + \\Pi_{p1}^{\\dagger} e_{121}^{\\dagger} e_{111} \\Pi_{q1} \\pi_{c} + \\Pi_{p1}^{\\dagger} e_{121}^{\\dagger} e_{112} \\Pi_{q2} \\pi_{c} + \\Pi_{p1}^{\\dagger} e_{121}^{\\dagger} e_{121} \\Pi_{p1} \\pi_{c} + \\Pi_{p1}^{\\dagger} e_{121}^{\\dagger} e_{122} \\Pi_{p2} \\pi_{c} + \\Pi_{p2}^{\\dagger} e_{122}^{\\dagger} d_{1} \\pi_{c} + \\Pi_{p2}^{\\dagger} e_{122}^{\\dagger} e_{111} \\Pi_{q1} \\pi_{c} + \\Pi_{p2}^{\\dagger} e_{122}^{\\dagger} e_{112} \\Pi_{q2} \\pi_{c} + \\Pi_{p2}^{\\dagger} e_{122}^{\\dagger} e_{121} \\Pi_{p1} \\pi_{c} + \\Pi_{p2}^{\\dagger} e_{122}^{\\dagger} e_{122} \\Pi_{p2} \\pi_{c} + \\Pi_{q1}^{\\dagger} e_{111}^{\\dagger} d_{1} \\pi_{c} + \\Pi_{q1}^{\\dagger} e_{111}^{\\dagger} e_{111} \\Pi_{q1} \\pi_{c} + \\Pi_{q1}^{\\dagger} e_{111}^{\\dagger} e_{112} \\Pi_{q2} \\pi_{c} + \\Pi_{q1}^{\\dagger} e_{111}^{\\dagger} e_{121} \\Pi_{p1} \\pi_{c} + \\Pi_{q1}^{\\dagger} e_{111}^{\\dagger} e_{122} \\Pi_{p2} \\pi_{c} + \\Pi_{q2}^{\\dagger} e_{112}^{\\dagger} d_{1} \\pi_{c} + \\Pi_{q2}^{\\dagger} e_{112}^{\\dagger} e_{111} \\Pi_{q1} \\pi_{c} + \\Pi_{q2}^{\\dagger} e_{112}^{\\dagger} e_{112} \\Pi_{q2} \\pi_{c} + \\Pi_{q2}^{\\dagger} e_{112}^{\\dagger} e_{121} \\Pi_{p1} \\pi_{c} + \\Pi_{q2}^{\\dagger} e_{112}^{\\dagger} e_{122} \\Pi_{p2} \\pi_{c} + d_{1}^{\\dagger} d_{1} \\pi_{c} + d_{1}^{\\dagger} e_{111} \\Pi_{q1} \\pi_{c} + d_{1}^{\\dagger} e_{112} \\Pi_{q2} \\pi_{c} + d_{1}^{\\dagger} e_{121} \\Pi_{p1} \\pi_{c} + d_{1}^{\\dagger} e_{122} \\Pi_{p2} \\pi_{c}}\\right)\\otimes \\left({a_{1q}^{\\dagger} a_{1q} \\pi_{q}}\\right) - 0.5 \\gamma_{1} \\left({\\pi_{c} \\Pi_{p1}^{\\dagger} e_{121}^{\\dagger} d_{1} + \\pi_{c} \\Pi_{p1}^{\\dagger} e_{121}^{\\dagger} e_{111} \\Pi_{q1} + \\pi_{c} \\Pi_{p1}^{\\dagger} e_{121}^{\\dagger} e_{112} \\Pi_{q2} + \\pi_{c} \\Pi_{p1}^{\\dagger} e_{121}^{\\dagger} e_{121} \\Pi_{p1} + \\pi_{c} \\Pi_{p1}^{\\dagger} e_{121}^{\\dagger} e_{122} \\Pi_{p2} + \\pi_{c} \\Pi_{p2}^{\\dagger} e_{122}^{\\dagger} d_{1} + \\pi_{c} \\Pi_{p2}^{\\dagger} e_{122}^{\\dagger} e_{111} \\Pi_{q1} + \\pi_{c} \\Pi_{p2}^{\\dagger} e_{122}^{\\dagger} e_{112} \\Pi_{q2} + \\pi_{c} \\Pi_{p2}^{\\dagger} e_{122}^{\\dagger} e_{121} \\Pi_{p1} + \\pi_{c} \\Pi_{p2}^{\\dagger} e_{122}^{\\dagger} e_{122} \\Pi_{p2} + \\pi_{c} \\Pi_{q1}^{\\dagger} e_{111}^{\\dagger} d_{1} + \\pi_{c} \\Pi_{q1}^{\\dagger} e_{111}^{\\dagger} e_{111} \\Pi_{q1} + \\pi_{c} \\Pi_{q1}^{\\dagger} e_{111}^{\\dagger} e_{112} \\Pi_{q2} + \\pi_{c} \\Pi_{q1}^{\\dagger} e_{111}^{\\dagger} e_{121} \\Pi_{p1} + \\pi_{c} \\Pi_{q1}^{\\dagger} e_{111}^{\\dagger} e_{122} \\Pi_{p2} + \\pi_{c} \\Pi_{q2}^{\\dagger} e_{112}^{\\dagger} d_{1} + \\pi_{c} \\Pi_{q2}^{\\dagger} e_{112}^{\\dagger} e_{111} \\Pi_{q1} + \\pi_{c} \\Pi_{q2}^{\\dagger} e_{112}^{\\dagger} e_{112} \\Pi_{q2} + \\pi_{c} \\Pi_{q2}^{\\dagger} e_{112}^{\\dagger} e_{121} \\Pi_{p1} + \\pi_{c} \\Pi_{q2}^{\\dagger} e_{112}^{\\dagger} e_{122} \\Pi_{p2} + \\pi_{c} d_{1}^{\\dagger} d_{1} + \\pi_{c} d_{1}^{\\dagger} e_{111} \\Pi_{q1} + \\pi_{c} d_{1}^{\\dagger} e_{112} \\Pi_{q2} + \\pi_{c} d_{1}^{\\dagger} e_{121} \\Pi_{p1} + \\pi_{c} d_{1}^{\\dagger} e_{122} \\Pi_{p2}}\\right)\\otimes \\left({\\pi_{q} a_{1q}^{\\dagger} a_{1q}}\\right) + \\gamma_{2} \\left({\\Pi_{p1}^{\\dagger} e_{221}^{\\dagger} \\pi_{c} d_{2} + \\Pi_{p1}^{\\dagger} e_{221}^{\\dagger} \\pi_{c} e_{211} \\Pi_{q1} + \\Pi_{p1}^{\\dagger} e_{221}^{\\dagger} \\pi_{c} e_{212} \\Pi_{q2} + \\Pi_{p1}^{\\dagger} e_{221}^{\\dagger} \\pi_{c} e_{221} \\Pi_{p1} + \\Pi_{p1}^{\\dagger} e_{221}^{\\dagger} \\pi_{c} e_{222} \\Pi_{p2} + \\Pi_{p2}^{\\dagger} e_{222}^{\\dagger} \\pi_{c} d_{2} + \\Pi_{p2}^{\\dagger} e_{222}^{\\dagger} \\pi_{c} e_{211} \\Pi_{q1} + \\Pi_{p2}^{\\dagger} e_{222}^{\\dagger} \\pi_{c} e_{212} \\Pi_{q2} + \\Pi_{p2}^{\\dagger} e_{222}^{\\dagger} \\pi_{c} e_{221} \\Pi_{p1} + \\Pi_{p2}^{\\dagger} e_{222}^{\\dagger} \\pi_{c} e_{222} \\Pi_{p2} + \\Pi_{q1}^{\\dagger} e_{211}^{\\dagger} \\pi_{c} d_{2} + \\Pi_{q1}^{\\dagger} e_{211}^{\\dagger} \\pi_{c} e_{211} \\Pi_{q1} + \\Pi_{q1}^{\\dagger} e_{211}^{\\dagger} \\pi_{c} e_{212} \\Pi_{q2} + \\Pi_{q1}^{\\dagger} e_{211}^{\\dagger} \\pi_{c} e_{221} \\Pi_{p1} + \\Pi_{q1}^{\\dagger} e_{211}^{\\dagger} \\pi_{c} e_{222} \\Pi_{p2} + \\Pi_{q2}^{\\dagger} e_{212}^{\\dagger} \\pi_{c} d_{2} + \\Pi_{q2}^{\\dagger} e_{212}^{\\dagger} \\pi_{c} e_{211} \\Pi_{q1} + \\Pi_{q2}^{\\dagger} e_{212}^{\\dagger} \\pi_{c} e_{212} \\Pi_{q2} + \\Pi_{q2}^{\\dagger} e_{212}^{\\dagger} \\pi_{c} e_{221} \\Pi_{p1} + \\Pi_{q2}^{\\dagger} e_{212}^{\\dagger} \\pi_{c} e_{222} \\Pi_{p2} + d_{2}^{\\dagger} \\pi_{c} d_{2} + d_{2}^{\\dagger} \\pi_{c} e_{211} \\Pi_{q1} + d_{2}^{\\dagger} \\pi_{c} e_{212} \\Pi_{q2} + d_{2}^{\\dagger} \\pi_{c} e_{221} \\Pi_{p1} + d_{2}^{\\dagger} \\pi_{c} e_{222} \\Pi_{p2}}\\right)\\otimes \\left({a_{2q}^{\\dagger} \\pi_{q} a_{2q}}\\right) - 0.5 \\gamma_{2} \\left({\\Pi_{p1}^{\\dagger} e_{221}^{\\dagger} d_{2} \\pi_{c} + \\Pi_{p1}^{\\dagger} e_{221}^{\\dagger} e_{211} \\Pi_{q1} \\pi_{c} + \\Pi_{p1}^{\\dagger} e_{221}^{\\dagger} e_{212} \\Pi_{q2} \\pi_{c} + \\Pi_{p1}^{\\dagger} e_{221}^{\\dagger} e_{221} \\Pi_{p1} \\pi_{c} + \\Pi_{p1}^{\\dagger} e_{221}^{\\dagger} e_{222} \\Pi_{p2} \\pi_{c} + \\Pi_{p2}^{\\dagger} e_{222}^{\\dagger} d_{2} \\pi_{c} + \\Pi_{p2}^{\\dagger} e_{222}^{\\dagger} e_{211} \\Pi_{q1} \\pi_{c} + \\Pi_{p2}^{\\dagger} e_{222}^{\\dagger} e_{212} \\Pi_{q2} \\pi_{c} + \\Pi_{p2}^{\\dagger} e_{222}^{\\dagger} e_{221} \\Pi_{p1} \\pi_{c} + \\Pi_{p2}^{\\dagger} e_{222}^{\\dagger} e_{222} \\Pi_{p2} \\pi_{c} + \\Pi_{q1}^{\\dagger} e_{211}^{\\dagger} d_{2} \\pi_{c} + \\Pi_{q1}^{\\dagger} e_{211}^{\\dagger} e_{211} \\Pi_{q1} \\pi_{c} + \\Pi_{q1}^{\\dagger} e_{211}^{\\dagger} e_{212} \\Pi_{q2} \\pi_{c} + \\Pi_{q1}^{\\dagger} e_{211}^{\\dagger} e_{221} \\Pi_{p1} \\pi_{c} + \\Pi_{q1}^{\\dagger} e_{211}^{\\dagger} e_{222} \\Pi_{p2} \\pi_{c} + \\Pi_{q2}^{\\dagger} e_{212}^{\\dagger} d_{2} \\pi_{c} + \\Pi_{q2}^{\\dagger} e_{212}^{\\dagger} e_{211} \\Pi_{q1} \\pi_{c} + \\Pi_{q2}^{\\dagger} e_{212}^{\\dagger} e_{212} \\Pi_{q2} \\pi_{c} + \\Pi_{q2}^{\\dagger} e_{212}^{\\dagger} e_{221} \\Pi_{p1} \\pi_{c} + \\Pi_{q2}^{\\dagger} e_{212}^{\\dagger} e_{222} \\Pi_{p2} \\pi_{c} + d_{2}^{\\dagger} d_{2} \\pi_{c} + d_{2}^{\\dagger} e_{211} \\Pi_{q1} \\pi_{c} + d_{2}^{\\dagger} e_{212} \\Pi_{q2} \\pi_{c} + d_{2}^{\\dagger} e_{221} \\Pi_{p1} \\pi_{c} + d_{2}^{\\dagger} e_{222} \\Pi_{p2} \\pi_{c}}\\right)\\otimes \\left({a_{2q}^{\\dagger} a_{2q} \\pi_{q}}\\right) - 0.5 \\gamma_{2} \\left({\\pi_{c} \\Pi_{p1}^{\\dagger} e_{221}^{\\dagger} d_{2} + \\pi_{c} \\Pi_{p1}^{\\dagger} e_{221}^{\\dagger} e_{211} \\Pi_{q1} + \\pi_{c} \\Pi_{p1}^{\\dagger} e_{221}^{\\dagger} e_{212} \\Pi_{q2} + \\pi_{c} \\Pi_{p1}^{\\dagger} e_{221}^{\\dagger} e_{221} \\Pi_{p1} + \\pi_{c} \\Pi_{p1}^{\\dagger} e_{221}^{\\dagger} e_{222} \\Pi_{p2} + \\pi_{c} \\Pi_{p2}^{\\dagger} e_{222}^{\\dagger} d_{2} + \\pi_{c} \\Pi_{p2}^{\\dagger} e_{222}^{\\dagger} e_{211} \\Pi_{q1} + \\pi_{c} \\Pi_{p2}^{\\dagger} e_{222}^{\\dagger} e_{212} \\Pi_{q2} + \\pi_{c} \\Pi_{p2}^{\\dagger} e_{222}^{\\dagger} e_{221} \\Pi_{p1} + \\pi_{c} \\Pi_{p2}^{\\dagger} e_{222}^{\\dagger} e_{222} \\Pi_{p2} + \\pi_{c} \\Pi_{q1}^{\\dagger} e_{211}^{\\dagger} d_{2} + \\pi_{c} \\Pi_{q1}^{\\dagger} e_{211}^{\\dagger} e_{211} \\Pi_{q1} + \\pi_{c} \\Pi_{q1}^{\\dagger} e_{211}^{\\dagger} e_{212} \\Pi_{q2} + \\pi_{c} \\Pi_{q1}^{\\dagger} e_{211}^{\\dagger} e_{221} \\Pi_{p1} + \\pi_{c} \\Pi_{q1}^{\\dagger} e_{211}^{\\dagger} e_{222} \\Pi_{p2} + \\pi_{c} \\Pi_{q2}^{\\dagger} e_{212}^{\\dagger} d_{2} + \\pi_{c} \\Pi_{q2}^{\\dagger} e_{212}^{\\dagger} e_{211} \\Pi_{q1} + \\pi_{c} \\Pi_{q2}^{\\dagger} e_{212}^{\\dagger} e_{212} \\Pi_{q2} + \\pi_{c} \\Pi_{q2}^{\\dagger} e_{212}^{\\dagger} e_{221} \\Pi_{p1} + \\pi_{c} \\Pi_{q2}^{\\dagger} e_{212}^{\\dagger} e_{222} \\Pi_{p2} + \\pi_{c} d_{2}^{\\dagger} d_{2} + \\pi_{c} d_{2}^{\\dagger} e_{211} \\Pi_{q1} + \\pi_{c} d_{2}^{\\dagger} e_{212} \\Pi_{q2} + \\pi_{c} d_{2}^{\\dagger} e_{221} \\Pi_{p1} + \\pi_{c} d_{2}^{\\dagger} e_{222} \\Pi_{p2}}\\right)\\otimes \\left({\\pi_{q} a_{2q}^{\\dagger} a_{2q}}\\right) + i \\left({H_{c} \\pi_{c}}\\right)\\otimes {\\pi_{q}} - i \\left({\\pi_{c} H_{c}}\\right)\\otimes {\\pi_{q}} - i \\left({\\pi_{c} h_{c}}\\right)\\otimes \\left({\\pi_{q} h_{q}}\\right) + i \\left({h_{c} \\pi_{c}}\\right)\\otimes \\left({h_{q} \\pi_{q}}\\right) + i {\\pi_{c}}\\otimes \\left({H_{q} \\pi_{q}}\\right) - i {\\pi_{c}}\\otimes \\left({\\pi_{q} H_{q}}\\right)$"
      ],
      "text/plain": [
       "\\gamma_{0}*(Dagger(\\Pi_{p1})*Dagger(e_{021})*\\pi_c*d_{0} + Dagger(\\Pi_{p1})*Dagger(e_{021})*\\pi_c*e_{011}*\\Pi_{q1} + Dagger(\\Pi_{p1})*Dagger(e_{021})*\\pi_c*e_{012}*\\Pi_{q2} + Dagger(\\Pi_{p1})*Dagger(e_{021})*\\pi_c*e_{021}*\\Pi_{p1} + Dagger(\\Pi_{p1})*Dagger(e_{021})*\\pi_c*e_{022}*\\Pi_{p2} + Dagger(\\Pi_{p2})*Dagger(e_{022})*\\pi_c*d_{0} + Dagger(\\Pi_{p2})*Dagger(e_{022})*\\pi_c*e_{011}*\\Pi_{q1} + Dagger(\\Pi_{p2})*Dagger(e_{022})*\\pi_c*e_{012}*\\Pi_{q2} + Dagger(\\Pi_{p2})*Dagger(e_{022})*\\pi_c*e_{021}*\\Pi_{p1} + Dagger(\\Pi_{p2})*Dagger(e_{022})*\\pi_c*e_{022}*\\Pi_{p2} + Dagger(\\Pi_{q1})*Dagger(e_{011})*\\pi_c*d_{0} + Dagger(\\Pi_{q1})*Dagger(e_{011})*\\pi_c*e_{011}*\\Pi_{q1} + Dagger(\\Pi_{q1})*Dagger(e_{011})*\\pi_c*e_{012}*\\Pi_{q2} + Dagger(\\Pi_{q1})*Dagger(e_{011})*\\pi_c*e_{021}*\\Pi_{p1} + Dagger(\\Pi_{q1})*Dagger(e_{011})*\\pi_c*e_{022}*\\Pi_{p2} + Dagger(\\Pi_{q2})*Dagger(e_{012})*\\pi_c*d_{0} + Dagger(\\Pi_{q2})*Dagger(e_{012})*\\pi_c*e_{011}*\\Pi_{q1} + Dagger(\\Pi_{q2})*Dagger(e_{012})*\\pi_c*e_{012}*\\Pi_{q2} + Dagger(\\Pi_{q2})*Dagger(e_{012})*\\pi_c*e_{021}*\\Pi_{p1} + Dagger(\\Pi_{q2})*Dagger(e_{012})*\\pi_c*e_{022}*\\Pi_{p2} + Dagger(d_{0})*\\pi_c*d_{0} + Dagger(d_{0})*\\pi_c*e_{011}*\\Pi_{q1} + Dagger(d_{0})*\\pi_c*e_{012}*\\Pi_{q2} + Dagger(d_{0})*\\pi_c*e_{021}*\\Pi_{p1} + Dagger(d_{0})*\\pi_c*e_{022}*\\Pi_{p2})x(Dagger(a_{0q})*\\pi_q*a_{0q}) - 0.5*\\gamma_{0}*(Dagger(\\Pi_{p1})*Dagger(e_{021})*d_{0}*\\pi_c + Dagger(\\Pi_{p1})*Dagger(e_{021})*e_{011}*\\Pi_{q1}*\\pi_c + Dagger(\\Pi_{p1})*Dagger(e_{021})*e_{012}*\\Pi_{q2}*\\pi_c + Dagger(\\Pi_{p1})*Dagger(e_{021})*e_{021}*\\Pi_{p1}*\\pi_c + Dagger(\\Pi_{p1})*Dagger(e_{021})*e_{022}*\\Pi_{p2}*\\pi_c + Dagger(\\Pi_{p2})*Dagger(e_{022})*d_{0}*\\pi_c + Dagger(\\Pi_{p2})*Dagger(e_{022})*e_{011}*\\Pi_{q1}*\\pi_c + Dagger(\\Pi_{p2})*Dagger(e_{022})*e_{012}*\\Pi_{q2}*\\pi_c + Dagger(\\Pi_{p2})*Dagger(e_{022})*e_{021}*\\Pi_{p1}*\\pi_c + Dagger(\\Pi_{p2})*Dagger(e_{022})*e_{022}*\\Pi_{p2}*\\pi_c + Dagger(\\Pi_{q1})*Dagger(e_{011})*d_{0}*\\pi_c + Dagger(\\Pi_{q1})*Dagger(e_{011})*e_{011}*\\Pi_{q1}*\\pi_c + Dagger(\\Pi_{q1})*Dagger(e_{011})*e_{012}*\\Pi_{q2}*\\pi_c + Dagger(\\Pi_{q1})*Dagger(e_{011})*e_{021}*\\Pi_{p1}*\\pi_c + Dagger(\\Pi_{q1})*Dagger(e_{011})*e_{022}*\\Pi_{p2}*\\pi_c + Dagger(\\Pi_{q2})*Dagger(e_{012})*d_{0}*\\pi_c + Dagger(\\Pi_{q2})*Dagger(e_{012})*e_{011}*\\Pi_{q1}*\\pi_c + Dagger(\\Pi_{q2})*Dagger(e_{012})*e_{012}*\\Pi_{q2}*\\pi_c + Dagger(\\Pi_{q2})*Dagger(e_{012})*e_{021}*\\Pi_{p1}*\\pi_c + Dagger(\\Pi_{q2})*Dagger(e_{012})*e_{022}*\\Pi_{p2}*\\pi_c + Dagger(d_{0})*d_{0}*\\pi_c + Dagger(d_{0})*e_{011}*\\Pi_{q1}*\\pi_c + Dagger(d_{0})*e_{012}*\\Pi_{q2}*\\pi_c + Dagger(d_{0})*e_{021}*\\Pi_{p1}*\\pi_c + Dagger(d_{0})*e_{022}*\\Pi_{p2}*\\pi_c)x(Dagger(a_{0q})*a_{0q}*\\pi_q) - 0.5*\\gamma_{0}*(\\pi_c*Dagger(\\Pi_{p1})*Dagger(e_{021})*d_{0} + \\pi_c*Dagger(\\Pi_{p1})*Dagger(e_{021})*e_{011}*\\Pi_{q1} + \\pi_c*Dagger(\\Pi_{p1})*Dagger(e_{021})*e_{012}*\\Pi_{q2} + \\pi_c*Dagger(\\Pi_{p1})*Dagger(e_{021})*e_{021}*\\Pi_{p1} + \\pi_c*Dagger(\\Pi_{p1})*Dagger(e_{021})*e_{022}*\\Pi_{p2} + \\pi_c*Dagger(\\Pi_{p2})*Dagger(e_{022})*d_{0} + \\pi_c*Dagger(\\Pi_{p2})*Dagger(e_{022})*e_{011}*\\Pi_{q1} + \\pi_c*Dagger(\\Pi_{p2})*Dagger(e_{022})*e_{012}*\\Pi_{q2} + \\pi_c*Dagger(\\Pi_{p2})*Dagger(e_{022})*e_{021}*\\Pi_{p1} + \\pi_c*Dagger(\\Pi_{p2})*Dagger(e_{022})*e_{022}*\\Pi_{p2} + \\pi_c*Dagger(\\Pi_{q1})*Dagger(e_{011})*d_{0} + \\pi_c*Dagger(\\Pi_{q1})*Dagger(e_{011})*e_{011}*\\Pi_{q1} + \\pi_c*Dagger(\\Pi_{q1})*Dagger(e_{011})*e_{012}*\\Pi_{q2} + \\pi_c*Dagger(\\Pi_{q1})*Dagger(e_{011})*e_{021}*\\Pi_{p1} + \\pi_c*Dagger(\\Pi_{q1})*Dagger(e_{011})*e_{022}*\\Pi_{p2} + \\pi_c*Dagger(\\Pi_{q2})*Dagger(e_{012})*d_{0} + \\pi_c*Dagger(\\Pi_{q2})*Dagger(e_{012})*e_{011}*\\Pi_{q1} + \\pi_c*Dagger(\\Pi_{q2})*Dagger(e_{012})*e_{012}*\\Pi_{q2} + \\pi_c*Dagger(\\Pi_{q2})*Dagger(e_{012})*e_{021}*\\Pi_{p1} + \\pi_c*Dagger(\\Pi_{q2})*Dagger(e_{012})*e_{022}*\\Pi_{p2} + \\pi_c*Dagger(d_{0})*d_{0} + \\pi_c*Dagger(d_{0})*e_{011}*\\Pi_{q1} + \\pi_c*Dagger(d_{0})*e_{012}*\\Pi_{q2} + \\pi_c*Dagger(d_{0})*e_{021}*\\Pi_{p1} + \\pi_c*Dagger(d_{0})*e_{022}*\\Pi_{p2})x(\\pi_q*Dagger(a_{0q})*a_{0q}) + \\gamma_{1}*(Dagger(\\Pi_{p1})*Dagger(e_{121})*\\pi_c*d_{1} + Dagger(\\Pi_{p1})*Dagger(e_{121})*\\pi_c*e_{111}*\\Pi_{q1} + Dagger(\\Pi_{p1})*Dagger(e_{121})*\\pi_c*e_{112}*\\Pi_{q2} + Dagger(\\Pi_{p1})*Dagger(e_{121})*\\pi_c*e_{121}*\\Pi_{p1} + Dagger(\\Pi_{p1})*Dagger(e_{121})*\\pi_c*e_{122}*\\Pi_{p2} + Dagger(\\Pi_{p2})*Dagger(e_{122})*\\pi_c*d_{1} + Dagger(\\Pi_{p2})*Dagger(e_{122})*\\pi_c*e_{111}*\\Pi_{q1} + Dagger(\\Pi_{p2})*Dagger(e_{122})*\\pi_c*e_{112}*\\Pi_{q2} + Dagger(\\Pi_{p2})*Dagger(e_{122})*\\pi_c*e_{121}*\\Pi_{p1} + Dagger(\\Pi_{p2})*Dagger(e_{122})*\\pi_c*e_{122}*\\Pi_{p2} + Dagger(\\Pi_{q1})*Dagger(e_{111})*\\pi_c*d_{1} + Dagger(\\Pi_{q1})*Dagger(e_{111})*\\pi_c*e_{111}*\\Pi_{q1} + Dagger(\\Pi_{q1})*Dagger(e_{111})*\\pi_c*e_{112}*\\Pi_{q2} + Dagger(\\Pi_{q1})*Dagger(e_{111})*\\pi_c*e_{121}*\\Pi_{p1} + Dagger(\\Pi_{q1})*Dagger(e_{111})*\\pi_c*e_{122}*\\Pi_{p2} + Dagger(\\Pi_{q2})*Dagger(e_{112})*\\pi_c*d_{1} + Dagger(\\Pi_{q2})*Dagger(e_{112})*\\pi_c*e_{111}*\\Pi_{q1} + Dagger(\\Pi_{q2})*Dagger(e_{112})*\\pi_c*e_{112}*\\Pi_{q2} + Dagger(\\Pi_{q2})*Dagger(e_{112})*\\pi_c*e_{121}*\\Pi_{p1} + Dagger(\\Pi_{q2})*Dagger(e_{112})*\\pi_c*e_{122}*\\Pi_{p2} + Dagger(d_{1})*\\pi_c*d_{1} + Dagger(d_{1})*\\pi_c*e_{111}*\\Pi_{q1} + Dagger(d_{1})*\\pi_c*e_{112}*\\Pi_{q2} + Dagger(d_{1})*\\pi_c*e_{121}*\\Pi_{p1} + Dagger(d_{1})*\\pi_c*e_{122}*\\Pi_{p2})x(Dagger(a_{1q})*\\pi_q*a_{1q}) - 0.5*\\gamma_{1}*(Dagger(\\Pi_{p1})*Dagger(e_{121})*d_{1}*\\pi_c + Dagger(\\Pi_{p1})*Dagger(e_{121})*e_{111}*\\Pi_{q1}*\\pi_c + Dagger(\\Pi_{p1})*Dagger(e_{121})*e_{112}*\\Pi_{q2}*\\pi_c + Dagger(\\Pi_{p1})*Dagger(e_{121})*e_{121}*\\Pi_{p1}*\\pi_c + Dagger(\\Pi_{p1})*Dagger(e_{121})*e_{122}*\\Pi_{p2}*\\pi_c + Dagger(\\Pi_{p2})*Dagger(e_{122})*d_{1}*\\pi_c + Dagger(\\Pi_{p2})*Dagger(e_{122})*e_{111}*\\Pi_{q1}*\\pi_c + Dagger(\\Pi_{p2})*Dagger(e_{122})*e_{112}*\\Pi_{q2}*\\pi_c + Dagger(\\Pi_{p2})*Dagger(e_{122})*e_{121}*\\Pi_{p1}*\\pi_c + Dagger(\\Pi_{p2})*Dagger(e_{122})*e_{122}*\\Pi_{p2}*\\pi_c + Dagger(\\Pi_{q1})*Dagger(e_{111})*d_{1}*\\pi_c + Dagger(\\Pi_{q1})*Dagger(e_{111})*e_{111}*\\Pi_{q1}*\\pi_c + Dagger(\\Pi_{q1})*Dagger(e_{111})*e_{112}*\\Pi_{q2}*\\pi_c + Dagger(\\Pi_{q1})*Dagger(e_{111})*e_{121}*\\Pi_{p1}*\\pi_c + Dagger(\\Pi_{q1})*Dagger(e_{111})*e_{122}*\\Pi_{p2}*\\pi_c + Dagger(\\Pi_{q2})*Dagger(e_{112})*d_{1}*\\pi_c + Dagger(\\Pi_{q2})*Dagger(e_{112})*e_{111}*\\Pi_{q1}*\\pi_c + Dagger(\\Pi_{q2})*Dagger(e_{112})*e_{112}*\\Pi_{q2}*\\pi_c + Dagger(\\Pi_{q2})*Dagger(e_{112})*e_{121}*\\Pi_{p1}*\\pi_c + Dagger(\\Pi_{q2})*Dagger(e_{112})*e_{122}*\\Pi_{p2}*\\pi_c + Dagger(d_{1})*d_{1}*\\pi_c + Dagger(d_{1})*e_{111}*\\Pi_{q1}*\\pi_c + Dagger(d_{1})*e_{112}*\\Pi_{q2}*\\pi_c + Dagger(d_{1})*e_{121}*\\Pi_{p1}*\\pi_c + Dagger(d_{1})*e_{122}*\\Pi_{p2}*\\pi_c)x(Dagger(a_{1q})*a_{1q}*\\pi_q) - 0.5*\\gamma_{1}*(\\pi_c*Dagger(\\Pi_{p1})*Dagger(e_{121})*d_{1} + \\pi_c*Dagger(\\Pi_{p1})*Dagger(e_{121})*e_{111}*\\Pi_{q1} + \\pi_c*Dagger(\\Pi_{p1})*Dagger(e_{121})*e_{112}*\\Pi_{q2} + \\pi_c*Dagger(\\Pi_{p1})*Dagger(e_{121})*e_{121}*\\Pi_{p1} + \\pi_c*Dagger(\\Pi_{p1})*Dagger(e_{121})*e_{122}*\\Pi_{p2} + \\pi_c*Dagger(\\Pi_{p2})*Dagger(e_{122})*d_{1} + \\pi_c*Dagger(\\Pi_{p2})*Dagger(e_{122})*e_{111}*\\Pi_{q1} + \\pi_c*Dagger(\\Pi_{p2})*Dagger(e_{122})*e_{112}*\\Pi_{q2} + \\pi_c*Dagger(\\Pi_{p2})*Dagger(e_{122})*e_{121}*\\Pi_{p1} + \\pi_c*Dagger(\\Pi_{p2})*Dagger(e_{122})*e_{122}*\\Pi_{p2} + \\pi_c*Dagger(\\Pi_{q1})*Dagger(e_{111})*d_{1} + \\pi_c*Dagger(\\Pi_{q1})*Dagger(e_{111})*e_{111}*\\Pi_{q1} + \\pi_c*Dagger(\\Pi_{q1})*Dagger(e_{111})*e_{112}*\\Pi_{q2} + \\pi_c*Dagger(\\Pi_{q1})*Dagger(e_{111})*e_{121}*\\Pi_{p1} + \\pi_c*Dagger(\\Pi_{q1})*Dagger(e_{111})*e_{122}*\\Pi_{p2} + \\pi_c*Dagger(\\Pi_{q2})*Dagger(e_{112})*d_{1} + \\pi_c*Dagger(\\Pi_{q2})*Dagger(e_{112})*e_{111}*\\Pi_{q1} + \\pi_c*Dagger(\\Pi_{q2})*Dagger(e_{112})*e_{112}*\\Pi_{q2} + \\pi_c*Dagger(\\Pi_{q2})*Dagger(e_{112})*e_{121}*\\Pi_{p1} + \\pi_c*Dagger(\\Pi_{q2})*Dagger(e_{112})*e_{122}*\\Pi_{p2} + \\pi_c*Dagger(d_{1})*d_{1} + \\pi_c*Dagger(d_{1})*e_{111}*\\Pi_{q1} + \\pi_c*Dagger(d_{1})*e_{112}*\\Pi_{q2} + \\pi_c*Dagger(d_{1})*e_{121}*\\Pi_{p1} + \\pi_c*Dagger(d_{1})*e_{122}*\\Pi_{p2})x(\\pi_q*Dagger(a_{1q})*a_{1q}) + \\gamma_{2}*(Dagger(\\Pi_{p1})*Dagger(e_{221})*\\pi_c*d_{2} + Dagger(\\Pi_{p1})*Dagger(e_{221})*\\pi_c*e_{211}*\\Pi_{q1} + Dagger(\\Pi_{p1})*Dagger(e_{221})*\\pi_c*e_{212}*\\Pi_{q2} + Dagger(\\Pi_{p1})*Dagger(e_{221})*\\pi_c*e_{221}*\\Pi_{p1} + Dagger(\\Pi_{p1})*Dagger(e_{221})*\\pi_c*e_{222}*\\Pi_{p2} + Dagger(\\Pi_{p2})*Dagger(e_{222})*\\pi_c*d_{2} + Dagger(\\Pi_{p2})*Dagger(e_{222})*\\pi_c*e_{211}*\\Pi_{q1} + Dagger(\\Pi_{p2})*Dagger(e_{222})*\\pi_c*e_{212}*\\Pi_{q2} + Dagger(\\Pi_{p2})*Dagger(e_{222})*\\pi_c*e_{221}*\\Pi_{p1} + Dagger(\\Pi_{p2})*Dagger(e_{222})*\\pi_c*e_{222}*\\Pi_{p2} + Dagger(\\Pi_{q1})*Dagger(e_{211})*\\pi_c*d_{2} + Dagger(\\Pi_{q1})*Dagger(e_{211})*\\pi_c*e_{211}*\\Pi_{q1} + Dagger(\\Pi_{q1})*Dagger(e_{211})*\\pi_c*e_{212}*\\Pi_{q2} + Dagger(\\Pi_{q1})*Dagger(e_{211})*\\pi_c*e_{221}*\\Pi_{p1} + Dagger(\\Pi_{q1})*Dagger(e_{211})*\\pi_c*e_{222}*\\Pi_{p2} + Dagger(\\Pi_{q2})*Dagger(e_{212})*\\pi_c*d_{2} + Dagger(\\Pi_{q2})*Dagger(e_{212})*\\pi_c*e_{211}*\\Pi_{q1} + Dagger(\\Pi_{q2})*Dagger(e_{212})*\\pi_c*e_{212}*\\Pi_{q2} + Dagger(\\Pi_{q2})*Dagger(e_{212})*\\pi_c*e_{221}*\\Pi_{p1} + Dagger(\\Pi_{q2})*Dagger(e_{212})*\\pi_c*e_{222}*\\Pi_{p2} + Dagger(d_{2})*\\pi_c*d_{2} + Dagger(d_{2})*\\pi_c*e_{211}*\\Pi_{q1} + Dagger(d_{2})*\\pi_c*e_{212}*\\Pi_{q2} + Dagger(d_{2})*\\pi_c*e_{221}*\\Pi_{p1} + Dagger(d_{2})*\\pi_c*e_{222}*\\Pi_{p2})x(Dagger(a_{2q})*\\pi_q*a_{2q}) - 0.5*\\gamma_{2}*(Dagger(\\Pi_{p1})*Dagger(e_{221})*d_{2}*\\pi_c + Dagger(\\Pi_{p1})*Dagger(e_{221})*e_{211}*\\Pi_{q1}*\\pi_c + Dagger(\\Pi_{p1})*Dagger(e_{221})*e_{212}*\\Pi_{q2}*\\pi_c + Dagger(\\Pi_{p1})*Dagger(e_{221})*e_{221}*\\Pi_{p1}*\\pi_c + Dagger(\\Pi_{p1})*Dagger(e_{221})*e_{222}*\\Pi_{p2}*\\pi_c + Dagger(\\Pi_{p2})*Dagger(e_{222})*d_{2}*\\pi_c + Dagger(\\Pi_{p2})*Dagger(e_{222})*e_{211}*\\Pi_{q1}*\\pi_c + Dagger(\\Pi_{p2})*Dagger(e_{222})*e_{212}*\\Pi_{q2}*\\pi_c + Dagger(\\Pi_{p2})*Dagger(e_{222})*e_{221}*\\Pi_{p1}*\\pi_c + Dagger(\\Pi_{p2})*Dagger(e_{222})*e_{222}*\\Pi_{p2}*\\pi_c + Dagger(\\Pi_{q1})*Dagger(e_{211})*d_{2}*\\pi_c + Dagger(\\Pi_{q1})*Dagger(e_{211})*e_{211}*\\Pi_{q1}*\\pi_c + Dagger(\\Pi_{q1})*Dagger(e_{211})*e_{212}*\\Pi_{q2}*\\pi_c + Dagger(\\Pi_{q1})*Dagger(e_{211})*e_{221}*\\Pi_{p1}*\\pi_c + Dagger(\\Pi_{q1})*Dagger(e_{211})*e_{222}*\\Pi_{p2}*\\pi_c + Dagger(\\Pi_{q2})*Dagger(e_{212})*d_{2}*\\pi_c + Dagger(\\Pi_{q2})*Dagger(e_{212})*e_{211}*\\Pi_{q1}*\\pi_c + Dagger(\\Pi_{q2})*Dagger(e_{212})*e_{212}*\\Pi_{q2}*\\pi_c + Dagger(\\Pi_{q2})*Dagger(e_{212})*e_{221}*\\Pi_{p1}*\\pi_c + Dagger(\\Pi_{q2})*Dagger(e_{212})*e_{222}*\\Pi_{p2}*\\pi_c + Dagger(d_{2})*d_{2}*\\pi_c + Dagger(d_{2})*e_{211}*\\Pi_{q1}*\\pi_c + Dagger(d_{2})*e_{212}*\\Pi_{q2}*\\pi_c + Dagger(d_{2})*e_{221}*\\Pi_{p1}*\\pi_c + Dagger(d_{2})*e_{222}*\\Pi_{p2}*\\pi_c)x(Dagger(a_{2q})*a_{2q}*\\pi_q) - 0.5*\\gamma_{2}*(\\pi_c*Dagger(\\Pi_{p1})*Dagger(e_{221})*d_{2} + \\pi_c*Dagger(\\Pi_{p1})*Dagger(e_{221})*e_{211}*\\Pi_{q1} + \\pi_c*Dagger(\\Pi_{p1})*Dagger(e_{221})*e_{212}*\\Pi_{q2} + \\pi_c*Dagger(\\Pi_{p1})*Dagger(e_{221})*e_{221}*\\Pi_{p1} + \\pi_c*Dagger(\\Pi_{p1})*Dagger(e_{221})*e_{222}*\\Pi_{p2} + \\pi_c*Dagger(\\Pi_{p2})*Dagger(e_{222})*d_{2} + \\pi_c*Dagger(\\Pi_{p2})*Dagger(e_{222})*e_{211}*\\Pi_{q1} + \\pi_c*Dagger(\\Pi_{p2})*Dagger(e_{222})*e_{212}*\\Pi_{q2} + \\pi_c*Dagger(\\Pi_{p2})*Dagger(e_{222})*e_{221}*\\Pi_{p1} + \\pi_c*Dagger(\\Pi_{p2})*Dagger(e_{222})*e_{222}*\\Pi_{p2} + \\pi_c*Dagger(\\Pi_{q1})*Dagger(e_{211})*d_{2} + \\pi_c*Dagger(\\Pi_{q1})*Dagger(e_{211})*e_{211}*\\Pi_{q1} + \\pi_c*Dagger(\\Pi_{q1})*Dagger(e_{211})*e_{212}*\\Pi_{q2} + \\pi_c*Dagger(\\Pi_{q1})*Dagger(e_{211})*e_{221}*\\Pi_{p1} + \\pi_c*Dagger(\\Pi_{q1})*Dagger(e_{211})*e_{222}*\\Pi_{p2} + \\pi_c*Dagger(\\Pi_{q2})*Dagger(e_{212})*d_{2} + \\pi_c*Dagger(\\Pi_{q2})*Dagger(e_{212})*e_{211}*\\Pi_{q1} + \\pi_c*Dagger(\\Pi_{q2})*Dagger(e_{212})*e_{212}*\\Pi_{q2} + \\pi_c*Dagger(\\Pi_{q2})*Dagger(e_{212})*e_{221}*\\Pi_{p1} + \\pi_c*Dagger(\\Pi_{q2})*Dagger(e_{212})*e_{222}*\\Pi_{p2} + \\pi_c*Dagger(d_{2})*d_{2} + \\pi_c*Dagger(d_{2})*e_{211}*\\Pi_{q1} + \\pi_c*Dagger(d_{2})*e_{212}*\\Pi_{q2} + \\pi_c*Dagger(d_{2})*e_{221}*\\Pi_{p1} + \\pi_c*Dagger(d_{2})*e_{222}*\\Pi_{p2})x(\\pi_q*Dagger(a_{2q})*a_{2q}) + i*(H_c*\\pi_c)x\\pi_q - i*(\\pi_c*H_c)x\\pi_q - i*(\\pi_c*h_c)x(\\pi_q*h_q) + i*(h_c*\\pi_c)x(h_q*\\pi_q) + i*\\pi_cx(H_q*\\pi_q) - i*\\pi_cx(\\pi_q*H_q)"
      ]
     },
     "execution_count": 39,
     "metadata": {},
     "output_type": "execute_result"
    }
   ],
   "source": [
    "Ld.expand()"
   ]
  },
  {
   "cell_type": "code",
   "execution_count": 20,
   "id": "5f716af7-5bd4-4776-b588-a3cf35f702ab",
   "metadata": {},
   "outputs": [
    {
     "data": {
      "text/latex": [
       "$\\displaystyle {{\\mathcal{I}}}\\otimes {H_{q}} + {H_{c}}\\otimes {{\\mathcal{I}}} + {h_{c}}\\otimes {h_{q}}$"
      ],
      "text/plain": [
       "IxH_q + H_cxI + h_cxh_q"
      ]
     },
     "execution_count": 20,
     "metadata": {},
     "output_type": "execute_result"
    }
   ],
   "source": [
    "#HAMILTONIANO\n",
    "\n",
    "H"
   ]
  },
  {
   "cell_type": "code",
   "execution_count": 21,
   "id": "5aa57f81-5e74-48dd-bfce-2a2344971796",
   "metadata": {},
   "outputs": [
    {
     "data": {
      "text/latex": [
       "$\\displaystyle - 0.5 \\gamma_{0} \\left(t_{p1}^{\\dagger} \\Pi_{p1}^{\\dagger} e_{021}^{\\dagger} + t_{p2}^{\\dagger} \\Pi_{p2}^{\\dagger} e_{022}^{\\dagger} + t_{q1}^{\\dagger} \\Pi_{q1}^{\\dagger} e_{011}^{\\dagger} + t_{q2}^{\\dagger} \\Pi_{q2}^{\\dagger} e_{012}^{\\dagger} + d_{0}^{\\dagger}\\right) \\left(t_{p1} e_{021} \\Pi_{p1} + t_{p2} e_{022} \\Pi_{p2} + t_{q1} e_{011} \\Pi_{q1} + t_{q2} e_{012} \\Pi_{q2} + d_{0}\\right) \\pi_{c} + \\gamma_{0} \\left(t_{p1}^{\\dagger} \\Pi_{p1}^{\\dagger} e_{021}^{\\dagger} + t_{p2}^{\\dagger} \\Pi_{p2}^{\\dagger} e_{022}^{\\dagger} + t_{q1}^{\\dagger} \\Pi_{q1}^{\\dagger} e_{011}^{\\dagger} + t_{q2}^{\\dagger} \\Pi_{q2}^{\\dagger} e_{012}^{\\dagger} + d_{0}^{\\dagger}\\right) \\pi_{c} \\left(t_{p1} e_{021} \\Pi_{p1} + t_{p2} e_{022} \\Pi_{p2} + t_{q1} e_{011} \\Pi_{q1} + t_{q2} e_{012} \\Pi_{q2} + d_{0}\\right) - 0.5 \\gamma_{0} \\pi_{c} \\left(t_{p1}^{\\dagger} \\Pi_{p1}^{\\dagger} e_{021}^{\\dagger} + t_{p2}^{\\dagger} \\Pi_{p2}^{\\dagger} e_{022}^{\\dagger} + t_{q1}^{\\dagger} \\Pi_{q1}^{\\dagger} e_{011}^{\\dagger} + t_{q2}^{\\dagger} \\Pi_{q2}^{\\dagger} e_{012}^{\\dagger} + d_{0}^{\\dagger}\\right) \\left(t_{p1} e_{021} \\Pi_{p1} + t_{p2} e_{022} \\Pi_{p2} + t_{q1} e_{011} \\Pi_{q1} + t_{q2} e_{012} \\Pi_{q2} + d_{0}\\right) - 0.5 \\gamma_{1} \\left(t_{p1}^{\\dagger} \\Pi_{p1}^{\\dagger} e_{121}^{\\dagger} + t_{p2}^{\\dagger} \\Pi_{p2}^{\\dagger} e_{122}^{\\dagger} + t_{q1}^{\\dagger} \\Pi_{q1}^{\\dagger} e_{111}^{\\dagger} + t_{q2}^{\\dagger} \\Pi_{q2}^{\\dagger} e_{112}^{\\dagger} + d_{1}^{\\dagger}\\right) \\left(t_{p1} e_{121} \\Pi_{p1} + t_{p2} e_{122} \\Pi_{p2} + t_{q1} e_{111} \\Pi_{q1} + t_{q2} e_{112} \\Pi_{q2} + d_{1}\\right) \\pi_{c} + \\gamma_{1} \\left(t_{p1}^{\\dagger} \\Pi_{p1}^{\\dagger} e_{121}^{\\dagger} + t_{p2}^{\\dagger} \\Pi_{p2}^{\\dagger} e_{122}^{\\dagger} + t_{q1}^{\\dagger} \\Pi_{q1}^{\\dagger} e_{111}^{\\dagger} + t_{q2}^{\\dagger} \\Pi_{q2}^{\\dagger} e_{112}^{\\dagger} + d_{1}^{\\dagger}\\right) \\pi_{c} \\left(t_{p1} e_{121} \\Pi_{p1} + t_{p2} e_{122} \\Pi_{p2} + t_{q1} e_{111} \\Pi_{q1} + t_{q2} e_{112} \\Pi_{q2} + d_{1}\\right) - 0.5 \\gamma_{1} \\pi_{c} \\left(t_{p1}^{\\dagger} \\Pi_{p1}^{\\dagger} e_{121}^{\\dagger} + t_{p2}^{\\dagger} \\Pi_{p2}^{\\dagger} e_{122}^{\\dagger} + t_{q1}^{\\dagger} \\Pi_{q1}^{\\dagger} e_{111}^{\\dagger} + t_{q2}^{\\dagger} \\Pi_{q2}^{\\dagger} e_{112}^{\\dagger} + d_{1}^{\\dagger}\\right) \\left(t_{p1} e_{121} \\Pi_{p1} + t_{p2} e_{122} \\Pi_{p2} + t_{q1} e_{111} \\Pi_{q1} + t_{q2} e_{112} \\Pi_{q2} + d_{1}\\right) - 0.5 \\gamma_{2} \\left(t_{p1}^{\\dagger} \\Pi_{p1}^{\\dagger} e_{221}^{\\dagger} + t_{p2}^{\\dagger} \\Pi_{p2}^{\\dagger} e_{222}^{\\dagger} + t_{q1}^{\\dagger} \\Pi_{q1}^{\\dagger} e_{211}^{\\dagger} + t_{q2}^{\\dagger} \\Pi_{q2}^{\\dagger} e_{212}^{\\dagger} + d_{2}^{\\dagger}\\right) \\left(t_{p1} e_{221} \\Pi_{p1} + t_{p2} e_{222} \\Pi_{p2} + t_{q1} e_{211} \\Pi_{q1} + t_{q2} e_{212} \\Pi_{q2} + d_{2}\\right) \\pi_{c} + \\gamma_{2} \\left(t_{p1}^{\\dagger} \\Pi_{p1}^{\\dagger} e_{221}^{\\dagger} + t_{p2}^{\\dagger} \\Pi_{p2}^{\\dagger} e_{222}^{\\dagger} + t_{q1}^{\\dagger} \\Pi_{q1}^{\\dagger} e_{211}^{\\dagger} + t_{q2}^{\\dagger} \\Pi_{q2}^{\\dagger} e_{212}^{\\dagger} + d_{2}^{\\dagger}\\right) \\pi_{c} \\left(t_{p1} e_{221} \\Pi_{p1} + t_{p2} e_{222} \\Pi_{p2} + t_{q1} e_{211} \\Pi_{q1} + t_{q2} e_{212} \\Pi_{q2} + d_{2}\\right) - 0.5 \\gamma_{2} \\pi_{c} \\left(t_{p1}^{\\dagger} \\Pi_{p1}^{\\dagger} e_{221}^{\\dagger} + t_{p2}^{\\dagger} \\Pi_{p2}^{\\dagger} e_{222}^{\\dagger} + t_{q1}^{\\dagger} \\Pi_{q1}^{\\dagger} e_{211}^{\\dagger} + t_{q2}^{\\dagger} \\Pi_{q2}^{\\dagger} e_{212}^{\\dagger} + d_{2}^{\\dagger}\\right) \\left(t_{p1} e_{221} \\Pi_{p1} + t_{p2} e_{222} \\Pi_{p2} + t_{q1} e_{211} \\Pi_{q1} + t_{q2} e_{212} \\Pi_{q2} + d_{2}\\right) + i H_{c} \\pi_{c} - i \\pi_{c} H_{c}$"
      ],
      "text/plain": [
       "-0.5*\\gamma_{0}*(Dagger(t_{p1})*Dagger(\\Pi_{p1})*Dagger(e_{021}) + Dagger(t_{p2})*Dagger(\\Pi_{p2})*Dagger(e_{022}) + Dagger(t_{q1})*Dagger(\\Pi_{q1})*Dagger(e_{011}) + Dagger(t_{q2})*Dagger(\\Pi_{q2})*Dagger(e_{012}) + Dagger(d_{0}))*(t_{p1}*e_{021}*\\Pi_{p1} + t_{p2}*e_{022}*\\Pi_{p2} + t_{q1}*e_{011}*\\Pi_{q1} + t_{q2}*e_{012}*\\Pi_{q2} + d_{0})*\\pi_c + \\gamma_{0}*(Dagger(t_{p1})*Dagger(\\Pi_{p1})*Dagger(e_{021}) + Dagger(t_{p2})*Dagger(\\Pi_{p2})*Dagger(e_{022}) + Dagger(t_{q1})*Dagger(\\Pi_{q1})*Dagger(e_{011}) + Dagger(t_{q2})*Dagger(\\Pi_{q2})*Dagger(e_{012}) + Dagger(d_{0}))*\\pi_c*(t_{p1}*e_{021}*\\Pi_{p1} + t_{p2}*e_{022}*\\Pi_{p2} + t_{q1}*e_{011}*\\Pi_{q1} + t_{q2}*e_{012}*\\Pi_{q2} + d_{0}) - 0.5*\\gamma_{0}*\\pi_c*(Dagger(t_{p1})*Dagger(\\Pi_{p1})*Dagger(e_{021}) + Dagger(t_{p2})*Dagger(\\Pi_{p2})*Dagger(e_{022}) + Dagger(t_{q1})*Dagger(\\Pi_{q1})*Dagger(e_{011}) + Dagger(t_{q2})*Dagger(\\Pi_{q2})*Dagger(e_{012}) + Dagger(d_{0}))*(t_{p1}*e_{021}*\\Pi_{p1} + t_{p2}*e_{022}*\\Pi_{p2} + t_{q1}*e_{011}*\\Pi_{q1} + t_{q2}*e_{012}*\\Pi_{q2} + d_{0}) - 0.5*\\gamma_{1}*(Dagger(t_{p1})*Dagger(\\Pi_{p1})*Dagger(e_{121}) + Dagger(t_{p2})*Dagger(\\Pi_{p2})*Dagger(e_{122}) + Dagger(t_{q1})*Dagger(\\Pi_{q1})*Dagger(e_{111}) + Dagger(t_{q2})*Dagger(\\Pi_{q2})*Dagger(e_{112}) + Dagger(d_{1}))*(t_{p1}*e_{121}*\\Pi_{p1} + t_{p2}*e_{122}*\\Pi_{p2} + t_{q1}*e_{111}*\\Pi_{q1} + t_{q2}*e_{112}*\\Pi_{q2} + d_{1})*\\pi_c + \\gamma_{1}*(Dagger(t_{p1})*Dagger(\\Pi_{p1})*Dagger(e_{121}) + Dagger(t_{p2})*Dagger(\\Pi_{p2})*Dagger(e_{122}) + Dagger(t_{q1})*Dagger(\\Pi_{q1})*Dagger(e_{111}) + Dagger(t_{q2})*Dagger(\\Pi_{q2})*Dagger(e_{112}) + Dagger(d_{1}))*\\pi_c*(t_{p1}*e_{121}*\\Pi_{p1} + t_{p2}*e_{122}*\\Pi_{p2} + t_{q1}*e_{111}*\\Pi_{q1} + t_{q2}*e_{112}*\\Pi_{q2} + d_{1}) - 0.5*\\gamma_{1}*\\pi_c*(Dagger(t_{p1})*Dagger(\\Pi_{p1})*Dagger(e_{121}) + Dagger(t_{p2})*Dagger(\\Pi_{p2})*Dagger(e_{122}) + Dagger(t_{q1})*Dagger(\\Pi_{q1})*Dagger(e_{111}) + Dagger(t_{q2})*Dagger(\\Pi_{q2})*Dagger(e_{112}) + Dagger(d_{1}))*(t_{p1}*e_{121}*\\Pi_{p1} + t_{p2}*e_{122}*\\Pi_{p2} + t_{q1}*e_{111}*\\Pi_{q1} + t_{q2}*e_{112}*\\Pi_{q2} + d_{1}) - 0.5*\\gamma_{2}*(Dagger(t_{p1})*Dagger(\\Pi_{p1})*Dagger(e_{221}) + Dagger(t_{p2})*Dagger(\\Pi_{p2})*Dagger(e_{222}) + Dagger(t_{q1})*Dagger(\\Pi_{q1})*Dagger(e_{211}) + Dagger(t_{q2})*Dagger(\\Pi_{q2})*Dagger(e_{212}) + Dagger(d_{2}))*(t_{p1}*e_{221}*\\Pi_{p1} + t_{p2}*e_{222}*\\Pi_{p2} + t_{q1}*e_{211}*\\Pi_{q1} + t_{q2}*e_{212}*\\Pi_{q2} + d_{2})*\\pi_c + \\gamma_{2}*(Dagger(t_{p1})*Dagger(\\Pi_{p1})*Dagger(e_{221}) + Dagger(t_{p2})*Dagger(\\Pi_{p2})*Dagger(e_{222}) + Dagger(t_{q1})*Dagger(\\Pi_{q1})*Dagger(e_{211}) + Dagger(t_{q2})*Dagger(\\Pi_{q2})*Dagger(e_{212}) + Dagger(d_{2}))*\\pi_c*(t_{p1}*e_{221}*\\Pi_{p1} + t_{p2}*e_{222}*\\Pi_{p2} + t_{q1}*e_{211}*\\Pi_{q1} + t_{q2}*e_{212}*\\Pi_{q2} + d_{2}) - 0.5*\\gamma_{2}*\\pi_c*(Dagger(t_{p1})*Dagger(\\Pi_{p1})*Dagger(e_{221}) + Dagger(t_{p2})*Dagger(\\Pi_{p2})*Dagger(e_{222}) + Dagger(t_{q1})*Dagger(\\Pi_{q1})*Dagger(e_{211}) + Dagger(t_{q2})*Dagger(\\Pi_{q2})*Dagger(e_{212}) + Dagger(d_{2}))*(t_{p1}*e_{221}*\\Pi_{p1} + t_{p2}*e_{222}*\\Pi_{p2} + t_{q1}*e_{211}*\\Pi_{q1} + t_{q2}*e_{212}*\\Pi_{q2} + d_{2}) + i*H_c*\\pi_c - i*\\pi_c*H_c"
      ]
     },
     "execution_count": 21,
     "metadata": {},
     "output_type": "execute_result"
    }
   ],
   "source": [
    "G=Operator('G')\n",
    "for k in range(orden):\n",
    "    exec(f\"G+=gamma{k}*aa{k}c*pic*a{k}c-gamma{k}*0.5*aa{k}c*a{k}c*pic-gamma{k}*0.5*pic*aa{k}c*a{k}c\")\n",
    "    \n",
    "G2=Operator('G2')\n",
    "G2=j*Hc*pic-j*pic*Hc\n",
    "for k in range(orden):\n",
    "    exec(f\"G2+=gamma{k}*aa{k}c*pic*a{k}c-gamma{k}*0.5*aa{k}c*a{k}c*pic-gamma{k}*0.5*pic*aa{k}c*a{k}c\")\n",
    "G2"
   ]
  },
  {
   "cell_type": "code",
   "execution_count": 22,
   "id": "d7bb2ccb-e539-467e-af60-9c5d31dd89f8",
   "metadata": {},
   "outputs": [
    {
     "data": {
      "text/latex": [
       "$\\displaystyle - 0.5 \\gamma_{0} \\left(t_{p1}^{\\dagger} \\Pi_{p1}^{\\dagger} e_{021}^{\\dagger} + t_{p2}^{\\dagger} \\Pi_{p2}^{\\dagger} e_{022}^{\\dagger} + t_{q1}^{\\dagger} \\Pi_{q1}^{\\dagger} e_{011}^{\\dagger} + t_{q2}^{\\dagger} \\Pi_{q2}^{\\dagger} e_{012}^{\\dagger} + d_{0}^{\\dagger}\\right) \\left(t_{p1} e_{021} \\Pi_{p1} + t_{p2} e_{022} \\Pi_{p2} + t_{q1} e_{011} \\Pi_{q1} + t_{q2} e_{012} \\Pi_{q2} + d_{0}\\right) \\pi_{c} + \\gamma_{0} \\left(t_{p1}^{\\dagger} \\Pi_{p1}^{\\dagger} e_{021}^{\\dagger} + t_{p2}^{\\dagger} \\Pi_{p2}^{\\dagger} e_{022}^{\\dagger} + t_{q1}^{\\dagger} \\Pi_{q1}^{\\dagger} e_{011}^{\\dagger} + t_{q2}^{\\dagger} \\Pi_{q2}^{\\dagger} e_{012}^{\\dagger} + d_{0}^{\\dagger}\\right) \\pi_{c} \\left(t_{p1} e_{021} \\Pi_{p1} + t_{p2} e_{022} \\Pi_{p2} + t_{q1} e_{011} \\Pi_{q1} + t_{q2} e_{012} \\Pi_{q2} + d_{0}\\right) - 0.5 \\gamma_{0} \\pi_{c} \\left(t_{p1}^{\\dagger} \\Pi_{p1}^{\\dagger} e_{021}^{\\dagger} + t_{p2}^{\\dagger} \\Pi_{p2}^{\\dagger} e_{022}^{\\dagger} + t_{q1}^{\\dagger} \\Pi_{q1}^{\\dagger} e_{011}^{\\dagger} + t_{q2}^{\\dagger} \\Pi_{q2}^{\\dagger} e_{012}^{\\dagger} + d_{0}^{\\dagger}\\right) \\left(t_{p1} e_{021} \\Pi_{p1} + t_{p2} e_{022} \\Pi_{p2} + t_{q1} e_{011} \\Pi_{q1} + t_{q2} e_{012} \\Pi_{q2} + d_{0}\\right) - 0.5 \\gamma_{1} \\left(t_{p1}^{\\dagger} \\Pi_{p1}^{\\dagger} e_{121}^{\\dagger} + t_{p2}^{\\dagger} \\Pi_{p2}^{\\dagger} e_{122}^{\\dagger} + t_{q1}^{\\dagger} \\Pi_{q1}^{\\dagger} e_{111}^{\\dagger} + t_{q2}^{\\dagger} \\Pi_{q2}^{\\dagger} e_{112}^{\\dagger} + d_{1}^{\\dagger}\\right) \\left(t_{p1} e_{121} \\Pi_{p1} + t_{p2} e_{122} \\Pi_{p2} + t_{q1} e_{111} \\Pi_{q1} + t_{q2} e_{112} \\Pi_{q2} + d_{1}\\right) \\pi_{c} + \\gamma_{1} \\left(t_{p1}^{\\dagger} \\Pi_{p1}^{\\dagger} e_{121}^{\\dagger} + t_{p2}^{\\dagger} \\Pi_{p2}^{\\dagger} e_{122}^{\\dagger} + t_{q1}^{\\dagger} \\Pi_{q1}^{\\dagger} e_{111}^{\\dagger} + t_{q2}^{\\dagger} \\Pi_{q2}^{\\dagger} e_{112}^{\\dagger} + d_{1}^{\\dagger}\\right) \\pi_{c} \\left(t_{p1} e_{121} \\Pi_{p1} + t_{p2} e_{122} \\Pi_{p2} + t_{q1} e_{111} \\Pi_{q1} + t_{q2} e_{112} \\Pi_{q2} + d_{1}\\right) - 0.5 \\gamma_{1} \\pi_{c} \\left(t_{p1}^{\\dagger} \\Pi_{p1}^{\\dagger} e_{121}^{\\dagger} + t_{p2}^{\\dagger} \\Pi_{p2}^{\\dagger} e_{122}^{\\dagger} + t_{q1}^{\\dagger} \\Pi_{q1}^{\\dagger} e_{111}^{\\dagger} + t_{q2}^{\\dagger} \\Pi_{q2}^{\\dagger} e_{112}^{\\dagger} + d_{1}^{\\dagger}\\right) \\left(t_{p1} e_{121} \\Pi_{p1} + t_{p2} e_{122} \\Pi_{p2} + t_{q1} e_{111} \\Pi_{q1} + t_{q2} e_{112} \\Pi_{q2} + d_{1}\\right) - 0.5 \\gamma_{2} \\left(t_{p1}^{\\dagger} \\Pi_{p1}^{\\dagger} e_{221}^{\\dagger} + t_{p2}^{\\dagger} \\Pi_{p2}^{\\dagger} e_{222}^{\\dagger} + t_{q1}^{\\dagger} \\Pi_{q1}^{\\dagger} e_{211}^{\\dagger} + t_{q2}^{\\dagger} \\Pi_{q2}^{\\dagger} e_{212}^{\\dagger} + d_{2}^{\\dagger}\\right) \\left(t_{p1} e_{221} \\Pi_{p1} + t_{p2} e_{222} \\Pi_{p2} + t_{q1} e_{211} \\Pi_{q1} + t_{q2} e_{212} \\Pi_{q2} + d_{2}\\right) \\pi_{c} + \\gamma_{2} \\left(t_{p1}^{\\dagger} \\Pi_{p1}^{\\dagger} e_{221}^{\\dagger} + t_{p2}^{\\dagger} \\Pi_{p2}^{\\dagger} e_{222}^{\\dagger} + t_{q1}^{\\dagger} \\Pi_{q1}^{\\dagger} e_{211}^{\\dagger} + t_{q2}^{\\dagger} \\Pi_{q2}^{\\dagger} e_{212}^{\\dagger} + d_{2}^{\\dagger}\\right) \\pi_{c} \\left(t_{p1} e_{221} \\Pi_{p1} + t_{p2} e_{222} \\Pi_{p2} + t_{q1} e_{211} \\Pi_{q1} + t_{q2} e_{212} \\Pi_{q2} + d_{2}\\right) - 0.5 \\gamma_{2} \\pi_{c} \\left(t_{p1}^{\\dagger} \\Pi_{p1}^{\\dagger} e_{221}^{\\dagger} + t_{p2}^{\\dagger} \\Pi_{p2}^{\\dagger} e_{222}^{\\dagger} + t_{q1}^{\\dagger} \\Pi_{q1}^{\\dagger} e_{211}^{\\dagger} + t_{q2}^{\\dagger} \\Pi_{q2}^{\\dagger} e_{212}^{\\dagger} + d_{2}^{\\dagger}\\right) \\left(t_{p1} e_{221} \\Pi_{p1} + t_{p2} e_{222} \\Pi_{p2} + t_{q1} e_{211} \\Pi_{q1} + t_{q2} e_{212} \\Pi_{q2} + d_{2}\\right) + G$"
      ],
      "text/plain": [
       "-0.5*\\gamma_{0}*(Dagger(t_{p1})*Dagger(\\Pi_{p1})*Dagger(e_{021}) + Dagger(t_{p2})*Dagger(\\Pi_{p2})*Dagger(e_{022}) + Dagger(t_{q1})*Dagger(\\Pi_{q1})*Dagger(e_{011}) + Dagger(t_{q2})*Dagger(\\Pi_{q2})*Dagger(e_{012}) + Dagger(d_{0}))*(t_{p1}*e_{021}*\\Pi_{p1} + t_{p2}*e_{022}*\\Pi_{p2} + t_{q1}*e_{011}*\\Pi_{q1} + t_{q2}*e_{012}*\\Pi_{q2} + d_{0})*\\pi_c + \\gamma_{0}*(Dagger(t_{p1})*Dagger(\\Pi_{p1})*Dagger(e_{021}) + Dagger(t_{p2})*Dagger(\\Pi_{p2})*Dagger(e_{022}) + Dagger(t_{q1})*Dagger(\\Pi_{q1})*Dagger(e_{011}) + Dagger(t_{q2})*Dagger(\\Pi_{q2})*Dagger(e_{012}) + Dagger(d_{0}))*\\pi_c*(t_{p1}*e_{021}*\\Pi_{p1} + t_{p2}*e_{022}*\\Pi_{p2} + t_{q1}*e_{011}*\\Pi_{q1} + t_{q2}*e_{012}*\\Pi_{q2} + d_{0}) - 0.5*\\gamma_{0}*\\pi_c*(Dagger(t_{p1})*Dagger(\\Pi_{p1})*Dagger(e_{021}) + Dagger(t_{p2})*Dagger(\\Pi_{p2})*Dagger(e_{022}) + Dagger(t_{q1})*Dagger(\\Pi_{q1})*Dagger(e_{011}) + Dagger(t_{q2})*Dagger(\\Pi_{q2})*Dagger(e_{012}) + Dagger(d_{0}))*(t_{p1}*e_{021}*\\Pi_{p1} + t_{p2}*e_{022}*\\Pi_{p2} + t_{q1}*e_{011}*\\Pi_{q1} + t_{q2}*e_{012}*\\Pi_{q2} + d_{0}) - 0.5*\\gamma_{1}*(Dagger(t_{p1})*Dagger(\\Pi_{p1})*Dagger(e_{121}) + Dagger(t_{p2})*Dagger(\\Pi_{p2})*Dagger(e_{122}) + Dagger(t_{q1})*Dagger(\\Pi_{q1})*Dagger(e_{111}) + Dagger(t_{q2})*Dagger(\\Pi_{q2})*Dagger(e_{112}) + Dagger(d_{1}))*(t_{p1}*e_{121}*\\Pi_{p1} + t_{p2}*e_{122}*\\Pi_{p2} + t_{q1}*e_{111}*\\Pi_{q1} + t_{q2}*e_{112}*\\Pi_{q2} + d_{1})*\\pi_c + \\gamma_{1}*(Dagger(t_{p1})*Dagger(\\Pi_{p1})*Dagger(e_{121}) + Dagger(t_{p2})*Dagger(\\Pi_{p2})*Dagger(e_{122}) + Dagger(t_{q1})*Dagger(\\Pi_{q1})*Dagger(e_{111}) + Dagger(t_{q2})*Dagger(\\Pi_{q2})*Dagger(e_{112}) + Dagger(d_{1}))*\\pi_c*(t_{p1}*e_{121}*\\Pi_{p1} + t_{p2}*e_{122}*\\Pi_{p2} + t_{q1}*e_{111}*\\Pi_{q1} + t_{q2}*e_{112}*\\Pi_{q2} + d_{1}) - 0.5*\\gamma_{1}*\\pi_c*(Dagger(t_{p1})*Dagger(\\Pi_{p1})*Dagger(e_{121}) + Dagger(t_{p2})*Dagger(\\Pi_{p2})*Dagger(e_{122}) + Dagger(t_{q1})*Dagger(\\Pi_{q1})*Dagger(e_{111}) + Dagger(t_{q2})*Dagger(\\Pi_{q2})*Dagger(e_{112}) + Dagger(d_{1}))*(t_{p1}*e_{121}*\\Pi_{p1} + t_{p2}*e_{122}*\\Pi_{p2} + t_{q1}*e_{111}*\\Pi_{q1} + t_{q2}*e_{112}*\\Pi_{q2} + d_{1}) - 0.5*\\gamma_{2}*(Dagger(t_{p1})*Dagger(\\Pi_{p1})*Dagger(e_{221}) + Dagger(t_{p2})*Dagger(\\Pi_{p2})*Dagger(e_{222}) + Dagger(t_{q1})*Dagger(\\Pi_{q1})*Dagger(e_{211}) + Dagger(t_{q2})*Dagger(\\Pi_{q2})*Dagger(e_{212}) + Dagger(d_{2}))*(t_{p1}*e_{221}*\\Pi_{p1} + t_{p2}*e_{222}*\\Pi_{p2} + t_{q1}*e_{211}*\\Pi_{q1} + t_{q2}*e_{212}*\\Pi_{q2} + d_{2})*\\pi_c + \\gamma_{2}*(Dagger(t_{p1})*Dagger(\\Pi_{p1})*Dagger(e_{221}) + Dagger(t_{p2})*Dagger(\\Pi_{p2})*Dagger(e_{222}) + Dagger(t_{q1})*Dagger(\\Pi_{q1})*Dagger(e_{211}) + Dagger(t_{q2})*Dagger(\\Pi_{q2})*Dagger(e_{212}) + Dagger(d_{2}))*\\pi_c*(t_{p1}*e_{221}*\\Pi_{p1} + t_{p2}*e_{222}*\\Pi_{p2} + t_{q1}*e_{211}*\\Pi_{q1} + t_{q2}*e_{212}*\\Pi_{q2} + d_{2}) - 0.5*\\gamma_{2}*\\pi_c*(Dagger(t_{p1})*Dagger(\\Pi_{p1})*Dagger(e_{221}) + Dagger(t_{p2})*Dagger(\\Pi_{p2})*Dagger(e_{222}) + Dagger(t_{q1})*Dagger(\\Pi_{q1})*Dagger(e_{211}) + Dagger(t_{q2})*Dagger(\\Pi_{q2})*Dagger(e_{212}) + Dagger(d_{2}))*(t_{p1}*e_{221}*\\Pi_{p1} + t_{p2}*e_{222}*\\Pi_{p2} + t_{q1}*e_{211}*\\Pi_{q1} + t_{q2}*e_{212}*\\Pi_{q2} + d_{2}) + G"
      ]
     },
     "execution_count": 22,
     "metadata": {},
     "output_type": "execute_result"
    }
   ],
   "source": [
    "G"
   ]
  },
  {
   "cell_type": "code",
   "execution_count": 23,
   "id": "b6b6ebee-80d4-4205-a2fe-b7d9054caf94",
   "metadata": {},
   "outputs": [
    {
     "ename": "NameError",
     "evalue": "name 'tp' is not defined",
     "output_type": "error",
     "traceback": [
      "\u001b[1;31m---------------------------------------------------------------------------\u001b[0m",
      "\u001b[1;31mNameError\u001b[0m                                 Traceback (most recent call last)",
      "\u001b[1;32m~\\AppData\\Local\\Temp/ipykernel_15020/1366510462.py\u001b[0m in \u001b[0;36m<module>\u001b[1;34m\u001b[0m\n\u001b[1;32m----> 1\u001b[1;33m \u001b[0mG\u001b[0m\u001b[1;33m=\u001b[0m\u001b[0mG\u001b[0m\u001b[1;33m.\u001b[0m\u001b[0mexpand\u001b[0m\u001b[1;33m(\u001b[0m\u001b[1;33m)\u001b[0m\u001b[1;33m.\u001b[0m\u001b[0mcollect\u001b[0m\u001b[1;33m(\u001b[0m\u001b[0mtp\u001b[0m\u001b[1;33m)\u001b[0m\u001b[1;33m.\u001b[0m\u001b[0mcollect\u001b[0m\u001b[1;33m(\u001b[0m\u001b[0mtq\u001b[0m\u001b[1;33m)\u001b[0m\u001b[1;33m.\u001b[0m\u001b[0mcollect\u001b[0m\u001b[1;33m(\u001b[0m\u001b[0mDagger\u001b[0m\u001b[1;33m(\u001b[0m\u001b[0mtp\u001b[0m\u001b[1;33m)\u001b[0m\u001b[1;33m)\u001b[0m\u001b[1;33m.\u001b[0m\u001b[0mcollect\u001b[0m\u001b[1;33m(\u001b[0m\u001b[0mDagger\u001b[0m\u001b[1;33m(\u001b[0m\u001b[0mtq\u001b[0m\u001b[1;33m)\u001b[0m\u001b[1;33m)\u001b[0m\u001b[1;33m.\u001b[0m\u001b[0mcollect\u001b[0m\u001b[1;33m(\u001b[0m\u001b[0mtp\u001b[0m\u001b[1;33m**\u001b[0m\u001b[1;36m2\u001b[0m\u001b[1;33m)\u001b[0m\u001b[1;33m.\u001b[0m\u001b[0mcollect\u001b[0m\u001b[1;33m(\u001b[0m\u001b[0mtq\u001b[0m\u001b[1;33m**\u001b[0m\u001b[1;36m2\u001b[0m\u001b[1;33m)\u001b[0m\u001b[1;33m.\u001b[0m\u001b[0mcollect\u001b[0m\u001b[1;33m(\u001b[0m\u001b[0mDagger\u001b[0m\u001b[1;33m(\u001b[0m\u001b[0mtp\u001b[0m\u001b[1;33m)\u001b[0m\u001b[1;33m**\u001b[0m\u001b[1;36m2\u001b[0m\u001b[1;33m)\u001b[0m\u001b[1;33m.\u001b[0m\u001b[0mcollect\u001b[0m\u001b[1;33m(\u001b[0m\u001b[0mDagger\u001b[0m\u001b[1;33m(\u001b[0m\u001b[0mtq\u001b[0m\u001b[1;33m)\u001b[0m\u001b[1;33m**\u001b[0m\u001b[1;36m2\u001b[0m\u001b[1;33m)\u001b[0m\u001b[1;33m\u001b[0m\u001b[1;33m\u001b[0m\u001b[0m\n\u001b[0m\u001b[0;32m      2\u001b[0m \u001b[0mG\u001b[0m\u001b[1;33m\u001b[0m\u001b[1;33m\u001b[0m\u001b[0m\n",
      "\u001b[1;31mNameError\u001b[0m: name 'tp' is not defined"
     ]
    }
   ],
   "source": [
    "G=G.expand().collect(tp).collect(tq).collect(Dagger(tp)).collect(Dagger(tq)).collect(tp**2).collect(tq**2).collect(Dagger(tp)**2).collect(Dagger(tq)**2)\n",
    "G"
   ]
  },
  {
   "cell_type": "code",
   "execution_count": 24,
   "id": "dfc6ce80-0c80-466a-9d4e-3454a4f460c3",
   "metadata": {},
   "outputs": [
    {
     "name": "stdout",
     "output_type": "stream",
     "text": [
      "24\n"
     ]
    }
   ],
   "source": [
    "etiqueta=[tq1,tp1,tq2,tp2,Dagger(tq1),Dagger(tp1),Dagger(tq2),Dagger(tp2)]\n",
    "etiqueta2=[tq1**2,tp1**2,tq2**2,tp2**2,Dagger(tq1)**2,Dagger(tp1)**2,Dagger(tq2)**2,Dagger(tp2)**2]\n",
    "etiqueta_total=etiqueta+etiqueta2\n",
    "condicion=[]\n",
    "\n",
    "#aux=G.expand()\n",
    "#for g in etiqueta_total:\n",
    "#    aux2=aux.expand().coeff(g)\n",
    "#    aux=(aux-g*aux2).expand()\n",
    "#if aux!=0:\n",
    "#    condicion.append(aux.expand()) \n",
    "\n",
    "\n",
    "for i in etiqueta2:\n",
    "        aux=G.expand().coeff(i)\n",
    "        for g in etiqueta_total:\n",
    "            aux2=aux.expand().coeff(g)\n",
    "            aux=(aux-g*aux2).expand()\n",
    "        if aux!=0:\n",
    "            condicion.append(aux.expand()) \n",
    "        \n",
    "for i in etiqueta2:\n",
    "    for jj in etiqueta:\n",
    "        aux=G.expand().coeff(i).coeff(jj)\n",
    "        for g in etiqueta_total:\n",
    "            aux2=aux.expand().coeff(g)\n",
    "            aux=(aux-g*aux2).expand()\n",
    "        if aux!=0:\n",
    "            condicion.append(aux.expand()) \n",
    "            \n",
    "for i in etiqueta:\n",
    "    for jj in etiqueta:\n",
    "        aux=G.expand().coeff(i).coeff(jj)\n",
    "        for g in etiqueta_total:\n",
    "            aux2=aux.expand().coeff(g)\n",
    "            aux=(aux-g*aux2).expand()\n",
    "        if aux!=0:\n",
    "            condicion.append(aux.expand())            \n",
    "            \n",
    "for i in etiqueta:\n",
    "    for jj in etiqueta:\n",
    "        for k in etiqueta:\n",
    "                aux=G.expand().coeff(i).coeff(jj).coeff(k)\n",
    "                for g in etiqueta_total:\n",
    "                    aux2=aux.expand().coeff(g)\n",
    "                    aux=(aux-g*aux2).expand()                        \n",
    "                if aux!=0 :\n",
    "                    condicion.append(aux.expand()) \n",
    "    \n",
    "                    \n",
    "for i in etiqueta:\n",
    "        aux=G.expand().coeff(i)\n",
    "        flag=False\n",
    "        for g in etiqueta_total:\n",
    "            aux=(aux-g*(aux.expand().coeff(g))).expand()\n",
    "        if aux!=0:\n",
    "            condicion.append(aux.expand())\n",
    "\n",
    "condicion_ND=[]\n",
    "\n",
    "for c in condicion:\n",
    "    if c not in condicion_ND:\n",
    "        condicion_ND.append(c)\n",
    "    \n",
    "\n",
    "print(len(condicion_ND))"
   ]
  },
  {
   "cell_type": "code",
   "execution_count": 25,
   "id": "dce381db-5073-44c4-b4bb-b38c4b2ade02",
   "metadata": {},
   "outputs": [
    {
     "data": {
      "text/latex": [
       "$\\displaystyle \\gamma_{0} \\Pi_{q1}^{\\dagger} e_{011}^{\\dagger} \\pi_{c} e_{011} \\Pi_{q1} - 0.5 \\gamma_{0} \\Pi_{q1}^{\\dagger} e_{011}^{\\dagger} e_{011} \\Pi_{q1} \\pi_{c} - 0.5 \\gamma_{0} \\pi_{c} \\Pi_{q1}^{\\dagger} e_{011}^{\\dagger} e_{011} \\Pi_{q1} + \\gamma_{1} \\Pi_{q1}^{\\dagger} e_{111}^{\\dagger} \\pi_{c} e_{111} \\Pi_{q1} - 0.5 \\gamma_{1} \\Pi_{q1}^{\\dagger} e_{111}^{\\dagger} e_{111} \\Pi_{q1} \\pi_{c} - 0.5 \\gamma_{1} \\pi_{c} \\Pi_{q1}^{\\dagger} e_{111}^{\\dagger} e_{111} \\Pi_{q1} + \\gamma_{2} \\Pi_{q1}^{\\dagger} e_{211}^{\\dagger} \\pi_{c} e_{211} \\Pi_{q1} - 0.5 \\gamma_{2} \\Pi_{q1}^{\\dagger} e_{211}^{\\dagger} e_{211} \\Pi_{q1} \\pi_{c} - 0.5 \\gamma_{2} \\pi_{c} \\Pi_{q1}^{\\dagger} e_{211}^{\\dagger} e_{211} \\Pi_{q1}$"
      ],
      "text/plain": [
       "\\gamma_{0}*Dagger(\\Pi_{q1})*Dagger(e_{011})*\\pi_c*e_{011}*\\Pi_{q1} - 0.5*\\gamma_{0}*Dagger(\\Pi_{q1})*Dagger(e_{011})*e_{011}*\\Pi_{q1}*\\pi_c - 0.5*\\gamma_{0}*\\pi_c*Dagger(\\Pi_{q1})*Dagger(e_{011})*e_{011}*\\Pi_{q1} + \\gamma_{1}*Dagger(\\Pi_{q1})*Dagger(e_{111})*\\pi_c*e_{111}*\\Pi_{q1} - 0.5*\\gamma_{1}*Dagger(\\Pi_{q1})*Dagger(e_{111})*e_{111}*\\Pi_{q1}*\\pi_c - 0.5*\\gamma_{1}*\\pi_c*Dagger(\\Pi_{q1})*Dagger(e_{111})*e_{111}*\\Pi_{q1} + \\gamma_{2}*Dagger(\\Pi_{q1})*Dagger(e_{211})*\\pi_c*e_{211}*\\Pi_{q1} - 0.5*\\gamma_{2}*Dagger(\\Pi_{q1})*Dagger(e_{211})*e_{211}*\\Pi_{q1}*\\pi_c - 0.5*\\gamma_{2}*\\pi_c*Dagger(\\Pi_{q1})*Dagger(e_{211})*e_{211}*\\Pi_{q1}"
      ]
     },
     "metadata": {},
     "output_type": "display_data"
    },
    {
     "name": "stdout",
     "output_type": "stream",
     "text": [
      "------------\n"
     ]
    },
    {
     "data": {
      "text/latex": [
       "$\\displaystyle \\gamma_{0} \\Pi_{p1}^{\\dagger} e_{021}^{\\dagger} \\pi_{c} e_{011} \\Pi_{q1} - 0.5 \\gamma_{0} \\Pi_{p1}^{\\dagger} e_{021}^{\\dagger} e_{011} \\Pi_{q1} \\pi_{c} - 0.5 \\gamma_{0} \\pi_{c} \\Pi_{p1}^{\\dagger} e_{021}^{\\dagger} e_{011} \\Pi_{q1} + \\gamma_{1} \\Pi_{p1}^{\\dagger} e_{121}^{\\dagger} \\pi_{c} e_{111} \\Pi_{q1} - 0.5 \\gamma_{1} \\Pi_{p1}^{\\dagger} e_{121}^{\\dagger} e_{111} \\Pi_{q1} \\pi_{c} - 0.5 \\gamma_{1} \\pi_{c} \\Pi_{p1}^{\\dagger} e_{121}^{\\dagger} e_{111} \\Pi_{q1} + \\gamma_{2} \\Pi_{p1}^{\\dagger} e_{221}^{\\dagger} \\pi_{c} e_{211} \\Pi_{q1} - 0.5 \\gamma_{2} \\Pi_{p1}^{\\dagger} e_{221}^{\\dagger} e_{211} \\Pi_{q1} \\pi_{c} - 0.5 \\gamma_{2} \\pi_{c} \\Pi_{p1}^{\\dagger} e_{221}^{\\dagger} e_{211} \\Pi_{q1}$"
      ],
      "text/plain": [
       "\\gamma_{0}*Dagger(\\Pi_{p1})*Dagger(e_{021})*\\pi_c*e_{011}*\\Pi_{q1} - 0.5*\\gamma_{0}*Dagger(\\Pi_{p1})*Dagger(e_{021})*e_{011}*\\Pi_{q1}*\\pi_c - 0.5*\\gamma_{0}*\\pi_c*Dagger(\\Pi_{p1})*Dagger(e_{021})*e_{011}*\\Pi_{q1} + \\gamma_{1}*Dagger(\\Pi_{p1})*Dagger(e_{121})*\\pi_c*e_{111}*\\Pi_{q1} - 0.5*\\gamma_{1}*Dagger(\\Pi_{p1})*Dagger(e_{121})*e_{111}*\\Pi_{q1}*\\pi_c - 0.5*\\gamma_{1}*\\pi_c*Dagger(\\Pi_{p1})*Dagger(e_{121})*e_{111}*\\Pi_{q1} + \\gamma_{2}*Dagger(\\Pi_{p1})*Dagger(e_{221})*\\pi_c*e_{211}*\\Pi_{q1} - 0.5*\\gamma_{2}*Dagger(\\Pi_{p1})*Dagger(e_{221})*e_{211}*\\Pi_{q1}*\\pi_c - 0.5*\\gamma_{2}*\\pi_c*Dagger(\\Pi_{p1})*Dagger(e_{221})*e_{211}*\\Pi_{q1}"
      ]
     },
     "metadata": {},
     "output_type": "display_data"
    },
    {
     "name": "stdout",
     "output_type": "stream",
     "text": [
      "------------\n"
     ]
    },
    {
     "data": {
      "text/latex": [
       "$\\displaystyle \\gamma_{0} \\Pi_{q2}^{\\dagger} e_{012}^{\\dagger} \\pi_{c} e_{011} \\Pi_{q1} - 0.5 \\gamma_{0} \\Pi_{q2}^{\\dagger} e_{012}^{\\dagger} e_{011} \\Pi_{q1} \\pi_{c} - 0.5 \\gamma_{0} \\pi_{c} \\Pi_{q2}^{\\dagger} e_{012}^{\\dagger} e_{011} \\Pi_{q1} + \\gamma_{1} \\Pi_{q2}^{\\dagger} e_{112}^{\\dagger} \\pi_{c} e_{111} \\Pi_{q1} - 0.5 \\gamma_{1} \\Pi_{q2}^{\\dagger} e_{112}^{\\dagger} e_{111} \\Pi_{q1} \\pi_{c} - 0.5 \\gamma_{1} \\pi_{c} \\Pi_{q2}^{\\dagger} e_{112}^{\\dagger} e_{111} \\Pi_{q1} + \\gamma_{2} \\Pi_{q2}^{\\dagger} e_{212}^{\\dagger} \\pi_{c} e_{211} \\Pi_{q1} - 0.5 \\gamma_{2} \\Pi_{q2}^{\\dagger} e_{212}^{\\dagger} e_{211} \\Pi_{q1} \\pi_{c} - 0.5 \\gamma_{2} \\pi_{c} \\Pi_{q2}^{\\dagger} e_{212}^{\\dagger} e_{211} \\Pi_{q1}$"
      ],
      "text/plain": [
       "\\gamma_{0}*Dagger(\\Pi_{q2})*Dagger(e_{012})*\\pi_c*e_{011}*\\Pi_{q1} - 0.5*\\gamma_{0}*Dagger(\\Pi_{q2})*Dagger(e_{012})*e_{011}*\\Pi_{q1}*\\pi_c - 0.5*\\gamma_{0}*\\pi_c*Dagger(\\Pi_{q2})*Dagger(e_{012})*e_{011}*\\Pi_{q1} + \\gamma_{1}*Dagger(\\Pi_{q2})*Dagger(e_{112})*\\pi_c*e_{111}*\\Pi_{q1} - 0.5*\\gamma_{1}*Dagger(\\Pi_{q2})*Dagger(e_{112})*e_{111}*\\Pi_{q1}*\\pi_c - 0.5*\\gamma_{1}*\\pi_c*Dagger(\\Pi_{q2})*Dagger(e_{112})*e_{111}*\\Pi_{q1} + \\gamma_{2}*Dagger(\\Pi_{q2})*Dagger(e_{212})*\\pi_c*e_{211}*\\Pi_{q1} - 0.5*\\gamma_{2}*Dagger(\\Pi_{q2})*Dagger(e_{212})*e_{211}*\\Pi_{q1}*\\pi_c - 0.5*\\gamma_{2}*\\pi_c*Dagger(\\Pi_{q2})*Dagger(e_{212})*e_{211}*\\Pi_{q1}"
      ]
     },
     "metadata": {},
     "output_type": "display_data"
    },
    {
     "name": "stdout",
     "output_type": "stream",
     "text": [
      "------------\n"
     ]
    },
    {
     "data": {
      "text/latex": [
       "$\\displaystyle \\gamma_{0} \\Pi_{p2}^{\\dagger} e_{022}^{\\dagger} \\pi_{c} e_{011} \\Pi_{q1} - 0.5 \\gamma_{0} \\Pi_{p2}^{\\dagger} e_{022}^{\\dagger} e_{011} \\Pi_{q1} \\pi_{c} - 0.5 \\gamma_{0} \\pi_{c} \\Pi_{p2}^{\\dagger} e_{022}^{\\dagger} e_{011} \\Pi_{q1} + \\gamma_{1} \\Pi_{p2}^{\\dagger} e_{122}^{\\dagger} \\pi_{c} e_{111} \\Pi_{q1} - 0.5 \\gamma_{1} \\Pi_{p2}^{\\dagger} e_{122}^{\\dagger} e_{111} \\Pi_{q1} \\pi_{c} - 0.5 \\gamma_{1} \\pi_{c} \\Pi_{p2}^{\\dagger} e_{122}^{\\dagger} e_{111} \\Pi_{q1} + \\gamma_{2} \\Pi_{p2}^{\\dagger} e_{222}^{\\dagger} \\pi_{c} e_{211} \\Pi_{q1} - 0.5 \\gamma_{2} \\Pi_{p2}^{\\dagger} e_{222}^{\\dagger} e_{211} \\Pi_{q1} \\pi_{c} - 0.5 \\gamma_{2} \\pi_{c} \\Pi_{p2}^{\\dagger} e_{222}^{\\dagger} e_{211} \\Pi_{q1}$"
      ],
      "text/plain": [
       "\\gamma_{0}*Dagger(\\Pi_{p2})*Dagger(e_{022})*\\pi_c*e_{011}*\\Pi_{q1} - 0.5*\\gamma_{0}*Dagger(\\Pi_{p2})*Dagger(e_{022})*e_{011}*\\Pi_{q1}*\\pi_c - 0.5*\\gamma_{0}*\\pi_c*Dagger(\\Pi_{p2})*Dagger(e_{022})*e_{011}*\\Pi_{q1} + \\gamma_{1}*Dagger(\\Pi_{p2})*Dagger(e_{122})*\\pi_c*e_{111}*\\Pi_{q1} - 0.5*\\gamma_{1}*Dagger(\\Pi_{p2})*Dagger(e_{122})*e_{111}*\\Pi_{q1}*\\pi_c - 0.5*\\gamma_{1}*\\pi_c*Dagger(\\Pi_{p2})*Dagger(e_{122})*e_{111}*\\Pi_{q1} + \\gamma_{2}*Dagger(\\Pi_{p2})*Dagger(e_{222})*\\pi_c*e_{211}*\\Pi_{q1} - 0.5*\\gamma_{2}*Dagger(\\Pi_{p2})*Dagger(e_{222})*e_{211}*\\Pi_{q1}*\\pi_c - 0.5*\\gamma_{2}*\\pi_c*Dagger(\\Pi_{p2})*Dagger(e_{222})*e_{211}*\\Pi_{q1}"
      ]
     },
     "metadata": {},
     "output_type": "display_data"
    },
    {
     "name": "stdout",
     "output_type": "stream",
     "text": [
      "------------\n"
     ]
    },
    {
     "data": {
      "text/latex": [
       "$\\displaystyle \\gamma_{0} \\Pi_{q1}^{\\dagger} e_{011}^{\\dagger} \\pi_{c} e_{021} \\Pi_{p1} - 0.5 \\gamma_{0} \\Pi_{q1}^{\\dagger} e_{011}^{\\dagger} e_{021} \\Pi_{p1} \\pi_{c} - 0.5 \\gamma_{0} \\pi_{c} \\Pi_{q1}^{\\dagger} e_{011}^{\\dagger} e_{021} \\Pi_{p1} + \\gamma_{1} \\Pi_{q1}^{\\dagger} e_{111}^{\\dagger} \\pi_{c} e_{121} \\Pi_{p1} - 0.5 \\gamma_{1} \\Pi_{q1}^{\\dagger} e_{111}^{\\dagger} e_{121} \\Pi_{p1} \\pi_{c} - 0.5 \\gamma_{1} \\pi_{c} \\Pi_{q1}^{\\dagger} e_{111}^{\\dagger} e_{121} \\Pi_{p1} + \\gamma_{2} \\Pi_{q1}^{\\dagger} e_{211}^{\\dagger} \\pi_{c} e_{221} \\Pi_{p1} - 0.5 \\gamma_{2} \\Pi_{q1}^{\\dagger} e_{211}^{\\dagger} e_{221} \\Pi_{p1} \\pi_{c} - 0.5 \\gamma_{2} \\pi_{c} \\Pi_{q1}^{\\dagger} e_{211}^{\\dagger} e_{221} \\Pi_{p1}$"
      ],
      "text/plain": [
       "\\gamma_{0}*Dagger(\\Pi_{q1})*Dagger(e_{011})*\\pi_c*e_{021}*\\Pi_{p1} - 0.5*\\gamma_{0}*Dagger(\\Pi_{q1})*Dagger(e_{011})*e_{021}*\\Pi_{p1}*\\pi_c - 0.5*\\gamma_{0}*\\pi_c*Dagger(\\Pi_{q1})*Dagger(e_{011})*e_{021}*\\Pi_{p1} + \\gamma_{1}*Dagger(\\Pi_{q1})*Dagger(e_{111})*\\pi_c*e_{121}*\\Pi_{p1} - 0.5*\\gamma_{1}*Dagger(\\Pi_{q1})*Dagger(e_{111})*e_{121}*\\Pi_{p1}*\\pi_c - 0.5*\\gamma_{1}*\\pi_c*Dagger(\\Pi_{q1})*Dagger(e_{111})*e_{121}*\\Pi_{p1} + \\gamma_{2}*Dagger(\\Pi_{q1})*Dagger(e_{211})*\\pi_c*e_{221}*\\Pi_{p1} - 0.5*\\gamma_{2}*Dagger(\\Pi_{q1})*Dagger(e_{211})*e_{221}*\\Pi_{p1}*\\pi_c - 0.5*\\gamma_{2}*\\pi_c*Dagger(\\Pi_{q1})*Dagger(e_{211})*e_{221}*\\Pi_{p1}"
      ]
     },
     "metadata": {},
     "output_type": "display_data"
    },
    {
     "name": "stdout",
     "output_type": "stream",
     "text": [
      "------------\n"
     ]
    },
    {
     "data": {
      "text/latex": [
       "$\\displaystyle \\gamma_{0} \\Pi_{p1}^{\\dagger} e_{021}^{\\dagger} \\pi_{c} e_{021} \\Pi_{p1} - 0.5 \\gamma_{0} \\Pi_{p1}^{\\dagger} e_{021}^{\\dagger} e_{021} \\Pi_{p1} \\pi_{c} - 0.5 \\gamma_{0} \\pi_{c} \\Pi_{p1}^{\\dagger} e_{021}^{\\dagger} e_{021} \\Pi_{p1} + \\gamma_{1} \\Pi_{p1}^{\\dagger} e_{121}^{\\dagger} \\pi_{c} e_{121} \\Pi_{p1} - 0.5 \\gamma_{1} \\Pi_{p1}^{\\dagger} e_{121}^{\\dagger} e_{121} \\Pi_{p1} \\pi_{c} - 0.5 \\gamma_{1} \\pi_{c} \\Pi_{p1}^{\\dagger} e_{121}^{\\dagger} e_{121} \\Pi_{p1} + \\gamma_{2} \\Pi_{p1}^{\\dagger} e_{221}^{\\dagger} \\pi_{c} e_{221} \\Pi_{p1} - 0.5 \\gamma_{2} \\Pi_{p1}^{\\dagger} e_{221}^{\\dagger} e_{221} \\Pi_{p1} \\pi_{c} - 0.5 \\gamma_{2} \\pi_{c} \\Pi_{p1}^{\\dagger} e_{221}^{\\dagger} e_{221} \\Pi_{p1}$"
      ],
      "text/plain": [
       "\\gamma_{0}*Dagger(\\Pi_{p1})*Dagger(e_{021})*\\pi_c*e_{021}*\\Pi_{p1} - 0.5*\\gamma_{0}*Dagger(\\Pi_{p1})*Dagger(e_{021})*e_{021}*\\Pi_{p1}*\\pi_c - 0.5*\\gamma_{0}*\\pi_c*Dagger(\\Pi_{p1})*Dagger(e_{021})*e_{021}*\\Pi_{p1} + \\gamma_{1}*Dagger(\\Pi_{p1})*Dagger(e_{121})*\\pi_c*e_{121}*\\Pi_{p1} - 0.5*\\gamma_{1}*Dagger(\\Pi_{p1})*Dagger(e_{121})*e_{121}*\\Pi_{p1}*\\pi_c - 0.5*\\gamma_{1}*\\pi_c*Dagger(\\Pi_{p1})*Dagger(e_{121})*e_{121}*\\Pi_{p1} + \\gamma_{2}*Dagger(\\Pi_{p1})*Dagger(e_{221})*\\pi_c*e_{221}*\\Pi_{p1} - 0.5*\\gamma_{2}*Dagger(\\Pi_{p1})*Dagger(e_{221})*e_{221}*\\Pi_{p1}*\\pi_c - 0.5*\\gamma_{2}*\\pi_c*Dagger(\\Pi_{p1})*Dagger(e_{221})*e_{221}*\\Pi_{p1}"
      ]
     },
     "metadata": {},
     "output_type": "display_data"
    },
    {
     "name": "stdout",
     "output_type": "stream",
     "text": [
      "------------\n"
     ]
    },
    {
     "data": {
      "text/latex": [
       "$\\displaystyle \\gamma_{0} \\Pi_{q2}^{\\dagger} e_{012}^{\\dagger} \\pi_{c} e_{021} \\Pi_{p1} - 0.5 \\gamma_{0} \\Pi_{q2}^{\\dagger} e_{012}^{\\dagger} e_{021} \\Pi_{p1} \\pi_{c} - 0.5 \\gamma_{0} \\pi_{c} \\Pi_{q2}^{\\dagger} e_{012}^{\\dagger} e_{021} \\Pi_{p1} + \\gamma_{1} \\Pi_{q2}^{\\dagger} e_{112}^{\\dagger} \\pi_{c} e_{121} \\Pi_{p1} - 0.5 \\gamma_{1} \\Pi_{q2}^{\\dagger} e_{112}^{\\dagger} e_{121} \\Pi_{p1} \\pi_{c} - 0.5 \\gamma_{1} \\pi_{c} \\Pi_{q2}^{\\dagger} e_{112}^{\\dagger} e_{121} \\Pi_{p1} + \\gamma_{2} \\Pi_{q2}^{\\dagger} e_{212}^{\\dagger} \\pi_{c} e_{221} \\Pi_{p1} - 0.5 \\gamma_{2} \\Pi_{q2}^{\\dagger} e_{212}^{\\dagger} e_{221} \\Pi_{p1} \\pi_{c} - 0.5 \\gamma_{2} \\pi_{c} \\Pi_{q2}^{\\dagger} e_{212}^{\\dagger} e_{221} \\Pi_{p1}$"
      ],
      "text/plain": [
       "\\gamma_{0}*Dagger(\\Pi_{q2})*Dagger(e_{012})*\\pi_c*e_{021}*\\Pi_{p1} - 0.5*\\gamma_{0}*Dagger(\\Pi_{q2})*Dagger(e_{012})*e_{021}*\\Pi_{p1}*\\pi_c - 0.5*\\gamma_{0}*\\pi_c*Dagger(\\Pi_{q2})*Dagger(e_{012})*e_{021}*\\Pi_{p1} + \\gamma_{1}*Dagger(\\Pi_{q2})*Dagger(e_{112})*\\pi_c*e_{121}*\\Pi_{p1} - 0.5*\\gamma_{1}*Dagger(\\Pi_{q2})*Dagger(e_{112})*e_{121}*\\Pi_{p1}*\\pi_c - 0.5*\\gamma_{1}*\\pi_c*Dagger(\\Pi_{q2})*Dagger(e_{112})*e_{121}*\\Pi_{p1} + \\gamma_{2}*Dagger(\\Pi_{q2})*Dagger(e_{212})*\\pi_c*e_{221}*\\Pi_{p1} - 0.5*\\gamma_{2}*Dagger(\\Pi_{q2})*Dagger(e_{212})*e_{221}*\\Pi_{p1}*\\pi_c - 0.5*\\gamma_{2}*\\pi_c*Dagger(\\Pi_{q2})*Dagger(e_{212})*e_{221}*\\Pi_{p1}"
      ]
     },
     "metadata": {},
     "output_type": "display_data"
    },
    {
     "name": "stdout",
     "output_type": "stream",
     "text": [
      "------------\n"
     ]
    },
    {
     "data": {
      "text/latex": [
       "$\\displaystyle \\gamma_{0} \\Pi_{p2}^{\\dagger} e_{022}^{\\dagger} \\pi_{c} e_{021} \\Pi_{p1} - 0.5 \\gamma_{0} \\Pi_{p2}^{\\dagger} e_{022}^{\\dagger} e_{021} \\Pi_{p1} \\pi_{c} - 0.5 \\gamma_{0} \\pi_{c} \\Pi_{p2}^{\\dagger} e_{022}^{\\dagger} e_{021} \\Pi_{p1} + \\gamma_{1} \\Pi_{p2}^{\\dagger} e_{122}^{\\dagger} \\pi_{c} e_{121} \\Pi_{p1} - 0.5 \\gamma_{1} \\Pi_{p2}^{\\dagger} e_{122}^{\\dagger} e_{121} \\Pi_{p1} \\pi_{c} - 0.5 \\gamma_{1} \\pi_{c} \\Pi_{p2}^{\\dagger} e_{122}^{\\dagger} e_{121} \\Pi_{p1} + \\gamma_{2} \\Pi_{p2}^{\\dagger} e_{222}^{\\dagger} \\pi_{c} e_{221} \\Pi_{p1} - 0.5 \\gamma_{2} \\Pi_{p2}^{\\dagger} e_{222}^{\\dagger} e_{221} \\Pi_{p1} \\pi_{c} - 0.5 \\gamma_{2} \\pi_{c} \\Pi_{p2}^{\\dagger} e_{222}^{\\dagger} e_{221} \\Pi_{p1}$"
      ],
      "text/plain": [
       "\\gamma_{0}*Dagger(\\Pi_{p2})*Dagger(e_{022})*\\pi_c*e_{021}*\\Pi_{p1} - 0.5*\\gamma_{0}*Dagger(\\Pi_{p2})*Dagger(e_{022})*e_{021}*\\Pi_{p1}*\\pi_c - 0.5*\\gamma_{0}*\\pi_c*Dagger(\\Pi_{p2})*Dagger(e_{022})*e_{021}*\\Pi_{p1} + \\gamma_{1}*Dagger(\\Pi_{p2})*Dagger(e_{122})*\\pi_c*e_{121}*\\Pi_{p1} - 0.5*\\gamma_{1}*Dagger(\\Pi_{p2})*Dagger(e_{122})*e_{121}*\\Pi_{p1}*\\pi_c - 0.5*\\gamma_{1}*\\pi_c*Dagger(\\Pi_{p2})*Dagger(e_{122})*e_{121}*\\Pi_{p1} + \\gamma_{2}*Dagger(\\Pi_{p2})*Dagger(e_{222})*\\pi_c*e_{221}*\\Pi_{p1} - 0.5*\\gamma_{2}*Dagger(\\Pi_{p2})*Dagger(e_{222})*e_{221}*\\Pi_{p1}*\\pi_c - 0.5*\\gamma_{2}*\\pi_c*Dagger(\\Pi_{p2})*Dagger(e_{222})*e_{221}*\\Pi_{p1}"
      ]
     },
     "metadata": {},
     "output_type": "display_data"
    },
    {
     "name": "stdout",
     "output_type": "stream",
     "text": [
      "------------\n"
     ]
    },
    {
     "data": {
      "text/latex": [
       "$\\displaystyle \\gamma_{0} \\Pi_{q1}^{\\dagger} e_{011}^{\\dagger} \\pi_{c} e_{012} \\Pi_{q2} - 0.5 \\gamma_{0} \\Pi_{q1}^{\\dagger} e_{011}^{\\dagger} e_{012} \\Pi_{q2} \\pi_{c} - 0.5 \\gamma_{0} \\pi_{c} \\Pi_{q1}^{\\dagger} e_{011}^{\\dagger} e_{012} \\Pi_{q2} + \\gamma_{1} \\Pi_{q1}^{\\dagger} e_{111}^{\\dagger} \\pi_{c} e_{112} \\Pi_{q2} - 0.5 \\gamma_{1} \\Pi_{q1}^{\\dagger} e_{111}^{\\dagger} e_{112} \\Pi_{q2} \\pi_{c} - 0.5 \\gamma_{1} \\pi_{c} \\Pi_{q1}^{\\dagger} e_{111}^{\\dagger} e_{112} \\Pi_{q2} + \\gamma_{2} \\Pi_{q1}^{\\dagger} e_{211}^{\\dagger} \\pi_{c} e_{212} \\Pi_{q2} - 0.5 \\gamma_{2} \\Pi_{q1}^{\\dagger} e_{211}^{\\dagger} e_{212} \\Pi_{q2} \\pi_{c} - 0.5 \\gamma_{2} \\pi_{c} \\Pi_{q1}^{\\dagger} e_{211}^{\\dagger} e_{212} \\Pi_{q2}$"
      ],
      "text/plain": [
       "\\gamma_{0}*Dagger(\\Pi_{q1})*Dagger(e_{011})*\\pi_c*e_{012}*\\Pi_{q2} - 0.5*\\gamma_{0}*Dagger(\\Pi_{q1})*Dagger(e_{011})*e_{012}*\\Pi_{q2}*\\pi_c - 0.5*\\gamma_{0}*\\pi_c*Dagger(\\Pi_{q1})*Dagger(e_{011})*e_{012}*\\Pi_{q2} + \\gamma_{1}*Dagger(\\Pi_{q1})*Dagger(e_{111})*\\pi_c*e_{112}*\\Pi_{q2} - 0.5*\\gamma_{1}*Dagger(\\Pi_{q1})*Dagger(e_{111})*e_{112}*\\Pi_{q2}*\\pi_c - 0.5*\\gamma_{1}*\\pi_c*Dagger(\\Pi_{q1})*Dagger(e_{111})*e_{112}*\\Pi_{q2} + \\gamma_{2}*Dagger(\\Pi_{q1})*Dagger(e_{211})*\\pi_c*e_{212}*\\Pi_{q2} - 0.5*\\gamma_{2}*Dagger(\\Pi_{q1})*Dagger(e_{211})*e_{212}*\\Pi_{q2}*\\pi_c - 0.5*\\gamma_{2}*\\pi_c*Dagger(\\Pi_{q1})*Dagger(e_{211})*e_{212}*\\Pi_{q2}"
      ]
     },
     "metadata": {},
     "output_type": "display_data"
    },
    {
     "name": "stdout",
     "output_type": "stream",
     "text": [
      "------------\n"
     ]
    },
    {
     "data": {
      "text/latex": [
       "$\\displaystyle \\gamma_{0} \\Pi_{p1}^{\\dagger} e_{021}^{\\dagger} \\pi_{c} e_{012} \\Pi_{q2} - 0.5 \\gamma_{0} \\Pi_{p1}^{\\dagger} e_{021}^{\\dagger} e_{012} \\Pi_{q2} \\pi_{c} - 0.5 \\gamma_{0} \\pi_{c} \\Pi_{p1}^{\\dagger} e_{021}^{\\dagger} e_{012} \\Pi_{q2} + \\gamma_{1} \\Pi_{p1}^{\\dagger} e_{121}^{\\dagger} \\pi_{c} e_{112} \\Pi_{q2} - 0.5 \\gamma_{1} \\Pi_{p1}^{\\dagger} e_{121}^{\\dagger} e_{112} \\Pi_{q2} \\pi_{c} - 0.5 \\gamma_{1} \\pi_{c} \\Pi_{p1}^{\\dagger} e_{121}^{\\dagger} e_{112} \\Pi_{q2} + \\gamma_{2} \\Pi_{p1}^{\\dagger} e_{221}^{\\dagger} \\pi_{c} e_{212} \\Pi_{q2} - 0.5 \\gamma_{2} \\Pi_{p1}^{\\dagger} e_{221}^{\\dagger} e_{212} \\Pi_{q2} \\pi_{c} - 0.5 \\gamma_{2} \\pi_{c} \\Pi_{p1}^{\\dagger} e_{221}^{\\dagger} e_{212} \\Pi_{q2}$"
      ],
      "text/plain": [
       "\\gamma_{0}*Dagger(\\Pi_{p1})*Dagger(e_{021})*\\pi_c*e_{012}*\\Pi_{q2} - 0.5*\\gamma_{0}*Dagger(\\Pi_{p1})*Dagger(e_{021})*e_{012}*\\Pi_{q2}*\\pi_c - 0.5*\\gamma_{0}*\\pi_c*Dagger(\\Pi_{p1})*Dagger(e_{021})*e_{012}*\\Pi_{q2} + \\gamma_{1}*Dagger(\\Pi_{p1})*Dagger(e_{121})*\\pi_c*e_{112}*\\Pi_{q2} - 0.5*\\gamma_{1}*Dagger(\\Pi_{p1})*Dagger(e_{121})*e_{112}*\\Pi_{q2}*\\pi_c - 0.5*\\gamma_{1}*\\pi_c*Dagger(\\Pi_{p1})*Dagger(e_{121})*e_{112}*\\Pi_{q2} + \\gamma_{2}*Dagger(\\Pi_{p1})*Dagger(e_{221})*\\pi_c*e_{212}*\\Pi_{q2} - 0.5*\\gamma_{2}*Dagger(\\Pi_{p1})*Dagger(e_{221})*e_{212}*\\Pi_{q2}*\\pi_c - 0.5*\\gamma_{2}*\\pi_c*Dagger(\\Pi_{p1})*Dagger(e_{221})*e_{212}*\\Pi_{q2}"
      ]
     },
     "metadata": {},
     "output_type": "display_data"
    },
    {
     "name": "stdout",
     "output_type": "stream",
     "text": [
      "------------\n"
     ]
    },
    {
     "data": {
      "text/latex": [
       "$\\displaystyle \\gamma_{0} \\Pi_{q2}^{\\dagger} e_{012}^{\\dagger} \\pi_{c} e_{012} \\Pi_{q2} - 0.5 \\gamma_{0} \\Pi_{q2}^{\\dagger} e_{012}^{\\dagger} e_{012} \\Pi_{q2} \\pi_{c} - 0.5 \\gamma_{0} \\pi_{c} \\Pi_{q2}^{\\dagger} e_{012}^{\\dagger} e_{012} \\Pi_{q2} + \\gamma_{1} \\Pi_{q2}^{\\dagger} e_{112}^{\\dagger} \\pi_{c} e_{112} \\Pi_{q2} - 0.5 \\gamma_{1} \\Pi_{q2}^{\\dagger} e_{112}^{\\dagger} e_{112} \\Pi_{q2} \\pi_{c} - 0.5 \\gamma_{1} \\pi_{c} \\Pi_{q2}^{\\dagger} e_{112}^{\\dagger} e_{112} \\Pi_{q2} + \\gamma_{2} \\Pi_{q2}^{\\dagger} e_{212}^{\\dagger} \\pi_{c} e_{212} \\Pi_{q2} - 0.5 \\gamma_{2} \\Pi_{q2}^{\\dagger} e_{212}^{\\dagger} e_{212} \\Pi_{q2} \\pi_{c} - 0.5 \\gamma_{2} \\pi_{c} \\Pi_{q2}^{\\dagger} e_{212}^{\\dagger} e_{212} \\Pi_{q2}$"
      ],
      "text/plain": [
       "\\gamma_{0}*Dagger(\\Pi_{q2})*Dagger(e_{012})*\\pi_c*e_{012}*\\Pi_{q2} - 0.5*\\gamma_{0}*Dagger(\\Pi_{q2})*Dagger(e_{012})*e_{012}*\\Pi_{q2}*\\pi_c - 0.5*\\gamma_{0}*\\pi_c*Dagger(\\Pi_{q2})*Dagger(e_{012})*e_{012}*\\Pi_{q2} + \\gamma_{1}*Dagger(\\Pi_{q2})*Dagger(e_{112})*\\pi_c*e_{112}*\\Pi_{q2} - 0.5*\\gamma_{1}*Dagger(\\Pi_{q2})*Dagger(e_{112})*e_{112}*\\Pi_{q2}*\\pi_c - 0.5*\\gamma_{1}*\\pi_c*Dagger(\\Pi_{q2})*Dagger(e_{112})*e_{112}*\\Pi_{q2} + \\gamma_{2}*Dagger(\\Pi_{q2})*Dagger(e_{212})*\\pi_c*e_{212}*\\Pi_{q2} - 0.5*\\gamma_{2}*Dagger(\\Pi_{q2})*Dagger(e_{212})*e_{212}*\\Pi_{q2}*\\pi_c - 0.5*\\gamma_{2}*\\pi_c*Dagger(\\Pi_{q2})*Dagger(e_{212})*e_{212}*\\Pi_{q2}"
      ]
     },
     "metadata": {},
     "output_type": "display_data"
    },
    {
     "name": "stdout",
     "output_type": "stream",
     "text": [
      "------------\n"
     ]
    },
    {
     "data": {
      "text/latex": [
       "$\\displaystyle \\gamma_{0} \\Pi_{p2}^{\\dagger} e_{022}^{\\dagger} \\pi_{c} e_{012} \\Pi_{q2} - 0.5 \\gamma_{0} \\Pi_{p2}^{\\dagger} e_{022}^{\\dagger} e_{012} \\Pi_{q2} \\pi_{c} - 0.5 \\gamma_{0} \\pi_{c} \\Pi_{p2}^{\\dagger} e_{022}^{\\dagger} e_{012} \\Pi_{q2} + \\gamma_{1} \\Pi_{p2}^{\\dagger} e_{122}^{\\dagger} \\pi_{c} e_{112} \\Pi_{q2} - 0.5 \\gamma_{1} \\Pi_{p2}^{\\dagger} e_{122}^{\\dagger} e_{112} \\Pi_{q2} \\pi_{c} - 0.5 \\gamma_{1} \\pi_{c} \\Pi_{p2}^{\\dagger} e_{122}^{\\dagger} e_{112} \\Pi_{q2} + \\gamma_{2} \\Pi_{p2}^{\\dagger} e_{222}^{\\dagger} \\pi_{c} e_{212} \\Pi_{q2} - 0.5 \\gamma_{2} \\Pi_{p2}^{\\dagger} e_{222}^{\\dagger} e_{212} \\Pi_{q2} \\pi_{c} - 0.5 \\gamma_{2} \\pi_{c} \\Pi_{p2}^{\\dagger} e_{222}^{\\dagger} e_{212} \\Pi_{q2}$"
      ],
      "text/plain": [
       "\\gamma_{0}*Dagger(\\Pi_{p2})*Dagger(e_{022})*\\pi_c*e_{012}*\\Pi_{q2} - 0.5*\\gamma_{0}*Dagger(\\Pi_{p2})*Dagger(e_{022})*e_{012}*\\Pi_{q2}*\\pi_c - 0.5*\\gamma_{0}*\\pi_c*Dagger(\\Pi_{p2})*Dagger(e_{022})*e_{012}*\\Pi_{q2} + \\gamma_{1}*Dagger(\\Pi_{p2})*Dagger(e_{122})*\\pi_c*e_{112}*\\Pi_{q2} - 0.5*\\gamma_{1}*Dagger(\\Pi_{p2})*Dagger(e_{122})*e_{112}*\\Pi_{q2}*\\pi_c - 0.5*\\gamma_{1}*\\pi_c*Dagger(\\Pi_{p2})*Dagger(e_{122})*e_{112}*\\Pi_{q2} + \\gamma_{2}*Dagger(\\Pi_{p2})*Dagger(e_{222})*\\pi_c*e_{212}*\\Pi_{q2} - 0.5*\\gamma_{2}*Dagger(\\Pi_{p2})*Dagger(e_{222})*e_{212}*\\Pi_{q2}*\\pi_c - 0.5*\\gamma_{2}*\\pi_c*Dagger(\\Pi_{p2})*Dagger(e_{222})*e_{212}*\\Pi_{q2}"
      ]
     },
     "metadata": {},
     "output_type": "display_data"
    },
    {
     "name": "stdout",
     "output_type": "stream",
     "text": [
      "------------\n"
     ]
    },
    {
     "data": {
      "text/latex": [
       "$\\displaystyle \\gamma_{0} \\Pi_{q1}^{\\dagger} e_{011}^{\\dagger} \\pi_{c} e_{022} \\Pi_{p2} - 0.5 \\gamma_{0} \\Pi_{q1}^{\\dagger} e_{011}^{\\dagger} e_{022} \\Pi_{p2} \\pi_{c} - 0.5 \\gamma_{0} \\pi_{c} \\Pi_{q1}^{\\dagger} e_{011}^{\\dagger} e_{022} \\Pi_{p2} + \\gamma_{1} \\Pi_{q1}^{\\dagger} e_{111}^{\\dagger} \\pi_{c} e_{122} \\Pi_{p2} - 0.5 \\gamma_{1} \\Pi_{q1}^{\\dagger} e_{111}^{\\dagger} e_{122} \\Pi_{p2} \\pi_{c} - 0.5 \\gamma_{1} \\pi_{c} \\Pi_{q1}^{\\dagger} e_{111}^{\\dagger} e_{122} \\Pi_{p2} + \\gamma_{2} \\Pi_{q1}^{\\dagger} e_{211}^{\\dagger} \\pi_{c} e_{222} \\Pi_{p2} - 0.5 \\gamma_{2} \\Pi_{q1}^{\\dagger} e_{211}^{\\dagger} e_{222} \\Pi_{p2} \\pi_{c} - 0.5 \\gamma_{2} \\pi_{c} \\Pi_{q1}^{\\dagger} e_{211}^{\\dagger} e_{222} \\Pi_{p2}$"
      ],
      "text/plain": [
       "\\gamma_{0}*Dagger(\\Pi_{q1})*Dagger(e_{011})*\\pi_c*e_{022}*\\Pi_{p2} - 0.5*\\gamma_{0}*Dagger(\\Pi_{q1})*Dagger(e_{011})*e_{022}*\\Pi_{p2}*\\pi_c - 0.5*\\gamma_{0}*\\pi_c*Dagger(\\Pi_{q1})*Dagger(e_{011})*e_{022}*\\Pi_{p2} + \\gamma_{1}*Dagger(\\Pi_{q1})*Dagger(e_{111})*\\pi_c*e_{122}*\\Pi_{p2} - 0.5*\\gamma_{1}*Dagger(\\Pi_{q1})*Dagger(e_{111})*e_{122}*\\Pi_{p2}*\\pi_c - 0.5*\\gamma_{1}*\\pi_c*Dagger(\\Pi_{q1})*Dagger(e_{111})*e_{122}*\\Pi_{p2} + \\gamma_{2}*Dagger(\\Pi_{q1})*Dagger(e_{211})*\\pi_c*e_{222}*\\Pi_{p2} - 0.5*\\gamma_{2}*Dagger(\\Pi_{q1})*Dagger(e_{211})*e_{222}*\\Pi_{p2}*\\pi_c - 0.5*\\gamma_{2}*\\pi_c*Dagger(\\Pi_{q1})*Dagger(e_{211})*e_{222}*\\Pi_{p2}"
      ]
     },
     "metadata": {},
     "output_type": "display_data"
    },
    {
     "name": "stdout",
     "output_type": "stream",
     "text": [
      "------------\n"
     ]
    },
    {
     "data": {
      "text/latex": [
       "$\\displaystyle \\gamma_{0} \\Pi_{p1}^{\\dagger} e_{021}^{\\dagger} \\pi_{c} e_{022} \\Pi_{p2} - 0.5 \\gamma_{0} \\Pi_{p1}^{\\dagger} e_{021}^{\\dagger} e_{022} \\Pi_{p2} \\pi_{c} - 0.5 \\gamma_{0} \\pi_{c} \\Pi_{p1}^{\\dagger} e_{021}^{\\dagger} e_{022} \\Pi_{p2} + \\gamma_{1} \\Pi_{p1}^{\\dagger} e_{121}^{\\dagger} \\pi_{c} e_{122} \\Pi_{p2} - 0.5 \\gamma_{1} \\Pi_{p1}^{\\dagger} e_{121}^{\\dagger} e_{122} \\Pi_{p2} \\pi_{c} - 0.5 \\gamma_{1} \\pi_{c} \\Pi_{p1}^{\\dagger} e_{121}^{\\dagger} e_{122} \\Pi_{p2} + \\gamma_{2} \\Pi_{p1}^{\\dagger} e_{221}^{\\dagger} \\pi_{c} e_{222} \\Pi_{p2} - 0.5 \\gamma_{2} \\Pi_{p1}^{\\dagger} e_{221}^{\\dagger} e_{222} \\Pi_{p2} \\pi_{c} - 0.5 \\gamma_{2} \\pi_{c} \\Pi_{p1}^{\\dagger} e_{221}^{\\dagger} e_{222} \\Pi_{p2}$"
      ],
      "text/plain": [
       "\\gamma_{0}*Dagger(\\Pi_{p1})*Dagger(e_{021})*\\pi_c*e_{022}*\\Pi_{p2} - 0.5*\\gamma_{0}*Dagger(\\Pi_{p1})*Dagger(e_{021})*e_{022}*\\Pi_{p2}*\\pi_c - 0.5*\\gamma_{0}*\\pi_c*Dagger(\\Pi_{p1})*Dagger(e_{021})*e_{022}*\\Pi_{p2} + \\gamma_{1}*Dagger(\\Pi_{p1})*Dagger(e_{121})*\\pi_c*e_{122}*\\Pi_{p2} - 0.5*\\gamma_{1}*Dagger(\\Pi_{p1})*Dagger(e_{121})*e_{122}*\\Pi_{p2}*\\pi_c - 0.5*\\gamma_{1}*\\pi_c*Dagger(\\Pi_{p1})*Dagger(e_{121})*e_{122}*\\Pi_{p2} + \\gamma_{2}*Dagger(\\Pi_{p1})*Dagger(e_{221})*\\pi_c*e_{222}*\\Pi_{p2} - 0.5*\\gamma_{2}*Dagger(\\Pi_{p1})*Dagger(e_{221})*e_{222}*\\Pi_{p2}*\\pi_c - 0.5*\\gamma_{2}*\\pi_c*Dagger(\\Pi_{p1})*Dagger(e_{221})*e_{222}*\\Pi_{p2}"
      ]
     },
     "metadata": {},
     "output_type": "display_data"
    },
    {
     "name": "stdout",
     "output_type": "stream",
     "text": [
      "------------\n"
     ]
    },
    {
     "data": {
      "text/latex": [
       "$\\displaystyle \\gamma_{0} \\Pi_{q2}^{\\dagger} e_{012}^{\\dagger} \\pi_{c} e_{022} \\Pi_{p2} - 0.5 \\gamma_{0} \\Pi_{q2}^{\\dagger} e_{012}^{\\dagger} e_{022} \\Pi_{p2} \\pi_{c} - 0.5 \\gamma_{0} \\pi_{c} \\Pi_{q2}^{\\dagger} e_{012}^{\\dagger} e_{022} \\Pi_{p2} + \\gamma_{1} \\Pi_{q2}^{\\dagger} e_{112}^{\\dagger} \\pi_{c} e_{122} \\Pi_{p2} - 0.5 \\gamma_{1} \\Pi_{q2}^{\\dagger} e_{112}^{\\dagger} e_{122} \\Pi_{p2} \\pi_{c} - 0.5 \\gamma_{1} \\pi_{c} \\Pi_{q2}^{\\dagger} e_{112}^{\\dagger} e_{122} \\Pi_{p2} + \\gamma_{2} \\Pi_{q2}^{\\dagger} e_{212}^{\\dagger} \\pi_{c} e_{222} \\Pi_{p2} - 0.5 \\gamma_{2} \\Pi_{q2}^{\\dagger} e_{212}^{\\dagger} e_{222} \\Pi_{p2} \\pi_{c} - 0.5 \\gamma_{2} \\pi_{c} \\Pi_{q2}^{\\dagger} e_{212}^{\\dagger} e_{222} \\Pi_{p2}$"
      ],
      "text/plain": [
       "\\gamma_{0}*Dagger(\\Pi_{q2})*Dagger(e_{012})*\\pi_c*e_{022}*\\Pi_{p2} - 0.5*\\gamma_{0}*Dagger(\\Pi_{q2})*Dagger(e_{012})*e_{022}*\\Pi_{p2}*\\pi_c - 0.5*\\gamma_{0}*\\pi_c*Dagger(\\Pi_{q2})*Dagger(e_{012})*e_{022}*\\Pi_{p2} + \\gamma_{1}*Dagger(\\Pi_{q2})*Dagger(e_{112})*\\pi_c*e_{122}*\\Pi_{p2} - 0.5*\\gamma_{1}*Dagger(\\Pi_{q2})*Dagger(e_{112})*e_{122}*\\Pi_{p2}*\\pi_c - 0.5*\\gamma_{1}*\\pi_c*Dagger(\\Pi_{q2})*Dagger(e_{112})*e_{122}*\\Pi_{p2} + \\gamma_{2}*Dagger(\\Pi_{q2})*Dagger(e_{212})*\\pi_c*e_{222}*\\Pi_{p2} - 0.5*\\gamma_{2}*Dagger(\\Pi_{q2})*Dagger(e_{212})*e_{222}*\\Pi_{p2}*\\pi_c - 0.5*\\gamma_{2}*\\pi_c*Dagger(\\Pi_{q2})*Dagger(e_{212})*e_{222}*\\Pi_{p2}"
      ]
     },
     "metadata": {},
     "output_type": "display_data"
    },
    {
     "name": "stdout",
     "output_type": "stream",
     "text": [
      "------------\n"
     ]
    },
    {
     "data": {
      "text/latex": [
       "$\\displaystyle \\gamma_{0} \\Pi_{p2}^{\\dagger} e_{022}^{\\dagger} \\pi_{c} e_{022} \\Pi_{p2} - 0.5 \\gamma_{0} \\Pi_{p2}^{\\dagger} e_{022}^{\\dagger} e_{022} \\Pi_{p2} \\pi_{c} - 0.5 \\gamma_{0} \\pi_{c} \\Pi_{p2}^{\\dagger} e_{022}^{\\dagger} e_{022} \\Pi_{p2} + \\gamma_{1} \\Pi_{p2}^{\\dagger} e_{122}^{\\dagger} \\pi_{c} e_{122} \\Pi_{p2} - 0.5 \\gamma_{1} \\Pi_{p2}^{\\dagger} e_{122}^{\\dagger} e_{122} \\Pi_{p2} \\pi_{c} - 0.5 \\gamma_{1} \\pi_{c} \\Pi_{p2}^{\\dagger} e_{122}^{\\dagger} e_{122} \\Pi_{p2} + \\gamma_{2} \\Pi_{p2}^{\\dagger} e_{222}^{\\dagger} \\pi_{c} e_{222} \\Pi_{p2} - 0.5 \\gamma_{2} \\Pi_{p2}^{\\dagger} e_{222}^{\\dagger} e_{222} \\Pi_{p2} \\pi_{c} - 0.5 \\gamma_{2} \\pi_{c} \\Pi_{p2}^{\\dagger} e_{222}^{\\dagger} e_{222} \\Pi_{p2}$"
      ],
      "text/plain": [
       "\\gamma_{0}*Dagger(\\Pi_{p2})*Dagger(e_{022})*\\pi_c*e_{022}*\\Pi_{p2} - 0.5*\\gamma_{0}*Dagger(\\Pi_{p2})*Dagger(e_{022})*e_{022}*\\Pi_{p2}*\\pi_c - 0.5*\\gamma_{0}*\\pi_c*Dagger(\\Pi_{p2})*Dagger(e_{022})*e_{022}*\\Pi_{p2} + \\gamma_{1}*Dagger(\\Pi_{p2})*Dagger(e_{122})*\\pi_c*e_{122}*\\Pi_{p2} - 0.5*\\gamma_{1}*Dagger(\\Pi_{p2})*Dagger(e_{122})*e_{122}*\\Pi_{p2}*\\pi_c - 0.5*\\gamma_{1}*\\pi_c*Dagger(\\Pi_{p2})*Dagger(e_{122})*e_{122}*\\Pi_{p2} + \\gamma_{2}*Dagger(\\Pi_{p2})*Dagger(e_{222})*\\pi_c*e_{222}*\\Pi_{p2} - 0.5*\\gamma_{2}*Dagger(\\Pi_{p2})*Dagger(e_{222})*e_{222}*\\Pi_{p2}*\\pi_c - 0.5*\\gamma_{2}*\\pi_c*Dagger(\\Pi_{p2})*Dagger(e_{222})*e_{222}*\\Pi_{p2}"
      ]
     },
     "metadata": {},
     "output_type": "display_data"
    },
    {
     "name": "stdout",
     "output_type": "stream",
     "text": [
      "------------\n"
     ]
    },
    {
     "data": {
      "text/latex": [
       "$\\displaystyle \\gamma_{0} d_{0}^{\\dagger} \\pi_{c} e_{011} \\Pi_{q1} - 0.5 \\gamma_{0} d_{0}^{\\dagger} e_{011} \\Pi_{q1} \\pi_{c} - 0.5 \\gamma_{0} \\pi_{c} d_{0}^{\\dagger} e_{011} \\Pi_{q1} + \\gamma_{1} d_{1}^{\\dagger} \\pi_{c} e_{111} \\Pi_{q1} - 0.5 \\gamma_{1} d_{1}^{\\dagger} e_{111} \\Pi_{q1} \\pi_{c} - 0.5 \\gamma_{1} \\pi_{c} d_{1}^{\\dagger} e_{111} \\Pi_{q1} + \\gamma_{2} d_{2}^{\\dagger} \\pi_{c} e_{211} \\Pi_{q1} - 0.5 \\gamma_{2} d_{2}^{\\dagger} e_{211} \\Pi_{q1} \\pi_{c} - 0.5 \\gamma_{2} \\pi_{c} d_{2}^{\\dagger} e_{211} \\Pi_{q1}$"
      ],
      "text/plain": [
       "\\gamma_{0}*Dagger(d_{0})*\\pi_c*e_{011}*\\Pi_{q1} - 0.5*\\gamma_{0}*Dagger(d_{0})*e_{011}*\\Pi_{q1}*\\pi_c - 0.5*\\gamma_{0}*\\pi_c*Dagger(d_{0})*e_{011}*\\Pi_{q1} + \\gamma_{1}*Dagger(d_{1})*\\pi_c*e_{111}*\\Pi_{q1} - 0.5*\\gamma_{1}*Dagger(d_{1})*e_{111}*\\Pi_{q1}*\\pi_c - 0.5*\\gamma_{1}*\\pi_c*Dagger(d_{1})*e_{111}*\\Pi_{q1} + \\gamma_{2}*Dagger(d_{2})*\\pi_c*e_{211}*\\Pi_{q1} - 0.5*\\gamma_{2}*Dagger(d_{2})*e_{211}*\\Pi_{q1}*\\pi_c - 0.5*\\gamma_{2}*\\pi_c*Dagger(d_{2})*e_{211}*\\Pi_{q1}"
      ]
     },
     "metadata": {},
     "output_type": "display_data"
    },
    {
     "name": "stdout",
     "output_type": "stream",
     "text": [
      "------------\n"
     ]
    },
    {
     "data": {
      "text/latex": [
       "$\\displaystyle \\gamma_{0} d_{0}^{\\dagger} \\pi_{c} e_{021} \\Pi_{p1} - 0.5 \\gamma_{0} d_{0}^{\\dagger} e_{021} \\Pi_{p1} \\pi_{c} - 0.5 \\gamma_{0} \\pi_{c} d_{0}^{\\dagger} e_{021} \\Pi_{p1} + \\gamma_{1} d_{1}^{\\dagger} \\pi_{c} e_{121} \\Pi_{p1} - 0.5 \\gamma_{1} d_{1}^{\\dagger} e_{121} \\Pi_{p1} \\pi_{c} - 0.5 \\gamma_{1} \\pi_{c} d_{1}^{\\dagger} e_{121} \\Pi_{p1} + \\gamma_{2} d_{2}^{\\dagger} \\pi_{c} e_{221} \\Pi_{p1} - 0.5 \\gamma_{2} d_{2}^{\\dagger} e_{221} \\Pi_{p1} \\pi_{c} - 0.5 \\gamma_{2} \\pi_{c} d_{2}^{\\dagger} e_{221} \\Pi_{p1}$"
      ],
      "text/plain": [
       "\\gamma_{0}*Dagger(d_{0})*\\pi_c*e_{021}*\\Pi_{p1} - 0.5*\\gamma_{0}*Dagger(d_{0})*e_{021}*\\Pi_{p1}*\\pi_c - 0.5*\\gamma_{0}*\\pi_c*Dagger(d_{0})*e_{021}*\\Pi_{p1} + \\gamma_{1}*Dagger(d_{1})*\\pi_c*e_{121}*\\Pi_{p1} - 0.5*\\gamma_{1}*Dagger(d_{1})*e_{121}*\\Pi_{p1}*\\pi_c - 0.5*\\gamma_{1}*\\pi_c*Dagger(d_{1})*e_{121}*\\Pi_{p1} + \\gamma_{2}*Dagger(d_{2})*\\pi_c*e_{221}*\\Pi_{p1} - 0.5*\\gamma_{2}*Dagger(d_{2})*e_{221}*\\Pi_{p1}*\\pi_c - 0.5*\\gamma_{2}*\\pi_c*Dagger(d_{2})*e_{221}*\\Pi_{p1}"
      ]
     },
     "metadata": {},
     "output_type": "display_data"
    },
    {
     "name": "stdout",
     "output_type": "stream",
     "text": [
      "------------\n"
     ]
    },
    {
     "data": {
      "text/latex": [
       "$\\displaystyle \\gamma_{0} d_{0}^{\\dagger} \\pi_{c} e_{012} \\Pi_{q2} - 0.5 \\gamma_{0} d_{0}^{\\dagger} e_{012} \\Pi_{q2} \\pi_{c} - 0.5 \\gamma_{0} \\pi_{c} d_{0}^{\\dagger} e_{012} \\Pi_{q2} + \\gamma_{1} d_{1}^{\\dagger} \\pi_{c} e_{112} \\Pi_{q2} - 0.5 \\gamma_{1} d_{1}^{\\dagger} e_{112} \\Pi_{q2} \\pi_{c} - 0.5 \\gamma_{1} \\pi_{c} d_{1}^{\\dagger} e_{112} \\Pi_{q2} + \\gamma_{2} d_{2}^{\\dagger} \\pi_{c} e_{212} \\Pi_{q2} - 0.5 \\gamma_{2} d_{2}^{\\dagger} e_{212} \\Pi_{q2} \\pi_{c} - 0.5 \\gamma_{2} \\pi_{c} d_{2}^{\\dagger} e_{212} \\Pi_{q2}$"
      ],
      "text/plain": [
       "\\gamma_{0}*Dagger(d_{0})*\\pi_c*e_{012}*\\Pi_{q2} - 0.5*\\gamma_{0}*Dagger(d_{0})*e_{012}*\\Pi_{q2}*\\pi_c - 0.5*\\gamma_{0}*\\pi_c*Dagger(d_{0})*e_{012}*\\Pi_{q2} + \\gamma_{1}*Dagger(d_{1})*\\pi_c*e_{112}*\\Pi_{q2} - 0.5*\\gamma_{1}*Dagger(d_{1})*e_{112}*\\Pi_{q2}*\\pi_c - 0.5*\\gamma_{1}*\\pi_c*Dagger(d_{1})*e_{112}*\\Pi_{q2} + \\gamma_{2}*Dagger(d_{2})*\\pi_c*e_{212}*\\Pi_{q2} - 0.5*\\gamma_{2}*Dagger(d_{2})*e_{212}*\\Pi_{q2}*\\pi_c - 0.5*\\gamma_{2}*\\pi_c*Dagger(d_{2})*e_{212}*\\Pi_{q2}"
      ]
     },
     "metadata": {},
     "output_type": "display_data"
    },
    {
     "name": "stdout",
     "output_type": "stream",
     "text": [
      "------------\n"
     ]
    },
    {
     "data": {
      "text/latex": [
       "$\\displaystyle \\gamma_{0} d_{0}^{\\dagger} \\pi_{c} e_{022} \\Pi_{p2} - 0.5 \\gamma_{0} d_{0}^{\\dagger} e_{022} \\Pi_{p2} \\pi_{c} - 0.5 \\gamma_{0} \\pi_{c} d_{0}^{\\dagger} e_{022} \\Pi_{p2} + \\gamma_{1} d_{1}^{\\dagger} \\pi_{c} e_{122} \\Pi_{p2} - 0.5 \\gamma_{1} d_{1}^{\\dagger} e_{122} \\Pi_{p2} \\pi_{c} - 0.5 \\gamma_{1} \\pi_{c} d_{1}^{\\dagger} e_{122} \\Pi_{p2} + \\gamma_{2} d_{2}^{\\dagger} \\pi_{c} e_{222} \\Pi_{p2} - 0.5 \\gamma_{2} d_{2}^{\\dagger} e_{222} \\Pi_{p2} \\pi_{c} - 0.5 \\gamma_{2} \\pi_{c} d_{2}^{\\dagger} e_{222} \\Pi_{p2}$"
      ],
      "text/plain": [
       "\\gamma_{0}*Dagger(d_{0})*\\pi_c*e_{022}*\\Pi_{p2} - 0.5*\\gamma_{0}*Dagger(d_{0})*e_{022}*\\Pi_{p2}*\\pi_c - 0.5*\\gamma_{0}*\\pi_c*Dagger(d_{0})*e_{022}*\\Pi_{p2} + \\gamma_{1}*Dagger(d_{1})*\\pi_c*e_{122}*\\Pi_{p2} - 0.5*\\gamma_{1}*Dagger(d_{1})*e_{122}*\\Pi_{p2}*\\pi_c - 0.5*\\gamma_{1}*\\pi_c*Dagger(d_{1})*e_{122}*\\Pi_{p2} + \\gamma_{2}*Dagger(d_{2})*\\pi_c*e_{222}*\\Pi_{p2} - 0.5*\\gamma_{2}*Dagger(d_{2})*e_{222}*\\Pi_{p2}*\\pi_c - 0.5*\\gamma_{2}*\\pi_c*Dagger(d_{2})*e_{222}*\\Pi_{p2}"
      ]
     },
     "metadata": {},
     "output_type": "display_data"
    },
    {
     "name": "stdout",
     "output_type": "stream",
     "text": [
      "------------\n"
     ]
    },
    {
     "data": {
      "text/latex": [
       "$\\displaystyle \\gamma_{0} \\Pi_{q1}^{\\dagger} e_{011}^{\\dagger} \\pi_{c} d_{0} - 0.5 \\gamma_{0} \\Pi_{q1}^{\\dagger} e_{011}^{\\dagger} d_{0} \\pi_{c} - 0.5 \\gamma_{0} \\pi_{c} \\Pi_{q1}^{\\dagger} e_{011}^{\\dagger} d_{0} + \\gamma_{1} \\Pi_{q1}^{\\dagger} e_{111}^{\\dagger} \\pi_{c} d_{1} - 0.5 \\gamma_{1} \\Pi_{q1}^{\\dagger} e_{111}^{\\dagger} d_{1} \\pi_{c} - 0.5 \\gamma_{1} \\pi_{c} \\Pi_{q1}^{\\dagger} e_{111}^{\\dagger} d_{1} + \\gamma_{2} \\Pi_{q1}^{\\dagger} e_{211}^{\\dagger} \\pi_{c} d_{2} - 0.5 \\gamma_{2} \\Pi_{q1}^{\\dagger} e_{211}^{\\dagger} d_{2} \\pi_{c} - 0.5 \\gamma_{2} \\pi_{c} \\Pi_{q1}^{\\dagger} e_{211}^{\\dagger} d_{2}$"
      ],
      "text/plain": [
       "\\gamma_{0}*Dagger(\\Pi_{q1})*Dagger(e_{011})*\\pi_c*d_{0} - 0.5*\\gamma_{0}*Dagger(\\Pi_{q1})*Dagger(e_{011})*d_{0}*\\pi_c - 0.5*\\gamma_{0}*\\pi_c*Dagger(\\Pi_{q1})*Dagger(e_{011})*d_{0} + \\gamma_{1}*Dagger(\\Pi_{q1})*Dagger(e_{111})*\\pi_c*d_{1} - 0.5*\\gamma_{1}*Dagger(\\Pi_{q1})*Dagger(e_{111})*d_{1}*\\pi_c - 0.5*\\gamma_{1}*\\pi_c*Dagger(\\Pi_{q1})*Dagger(e_{111})*d_{1} + \\gamma_{2}*Dagger(\\Pi_{q1})*Dagger(e_{211})*\\pi_c*d_{2} - 0.5*\\gamma_{2}*Dagger(\\Pi_{q1})*Dagger(e_{211})*d_{2}*\\pi_c - 0.5*\\gamma_{2}*\\pi_c*Dagger(\\Pi_{q1})*Dagger(e_{211})*d_{2}"
      ]
     },
     "metadata": {},
     "output_type": "display_data"
    },
    {
     "name": "stdout",
     "output_type": "stream",
     "text": [
      "------------\n"
     ]
    },
    {
     "data": {
      "text/latex": [
       "$\\displaystyle \\gamma_{0} \\Pi_{p1}^{\\dagger} e_{021}^{\\dagger} \\pi_{c} d_{0} - 0.5 \\gamma_{0} \\Pi_{p1}^{\\dagger} e_{021}^{\\dagger} d_{0} \\pi_{c} - 0.5 \\gamma_{0} \\pi_{c} \\Pi_{p1}^{\\dagger} e_{021}^{\\dagger} d_{0} + \\gamma_{1} \\Pi_{p1}^{\\dagger} e_{121}^{\\dagger} \\pi_{c} d_{1} - 0.5 \\gamma_{1} \\Pi_{p1}^{\\dagger} e_{121}^{\\dagger} d_{1} \\pi_{c} - 0.5 \\gamma_{1} \\pi_{c} \\Pi_{p1}^{\\dagger} e_{121}^{\\dagger} d_{1} + \\gamma_{2} \\Pi_{p1}^{\\dagger} e_{221}^{\\dagger} \\pi_{c} d_{2} - 0.5 \\gamma_{2} \\Pi_{p1}^{\\dagger} e_{221}^{\\dagger} d_{2} \\pi_{c} - 0.5 \\gamma_{2} \\pi_{c} \\Pi_{p1}^{\\dagger} e_{221}^{\\dagger} d_{2}$"
      ],
      "text/plain": [
       "\\gamma_{0}*Dagger(\\Pi_{p1})*Dagger(e_{021})*\\pi_c*d_{0} - 0.5*\\gamma_{0}*Dagger(\\Pi_{p1})*Dagger(e_{021})*d_{0}*\\pi_c - 0.5*\\gamma_{0}*\\pi_c*Dagger(\\Pi_{p1})*Dagger(e_{021})*d_{0} + \\gamma_{1}*Dagger(\\Pi_{p1})*Dagger(e_{121})*\\pi_c*d_{1} - 0.5*\\gamma_{1}*Dagger(\\Pi_{p1})*Dagger(e_{121})*d_{1}*\\pi_c - 0.5*\\gamma_{1}*\\pi_c*Dagger(\\Pi_{p1})*Dagger(e_{121})*d_{1} + \\gamma_{2}*Dagger(\\Pi_{p1})*Dagger(e_{221})*\\pi_c*d_{2} - 0.5*\\gamma_{2}*Dagger(\\Pi_{p1})*Dagger(e_{221})*d_{2}*\\pi_c - 0.5*\\gamma_{2}*\\pi_c*Dagger(\\Pi_{p1})*Dagger(e_{221})*d_{2}"
      ]
     },
     "metadata": {},
     "output_type": "display_data"
    },
    {
     "name": "stdout",
     "output_type": "stream",
     "text": [
      "------------\n"
     ]
    },
    {
     "data": {
      "text/latex": [
       "$\\displaystyle \\gamma_{0} \\Pi_{q2}^{\\dagger} e_{012}^{\\dagger} \\pi_{c} d_{0} - 0.5 \\gamma_{0} \\Pi_{q2}^{\\dagger} e_{012}^{\\dagger} d_{0} \\pi_{c} - 0.5 \\gamma_{0} \\pi_{c} \\Pi_{q2}^{\\dagger} e_{012}^{\\dagger} d_{0} + \\gamma_{1} \\Pi_{q2}^{\\dagger} e_{112}^{\\dagger} \\pi_{c} d_{1} - 0.5 \\gamma_{1} \\Pi_{q2}^{\\dagger} e_{112}^{\\dagger} d_{1} \\pi_{c} - 0.5 \\gamma_{1} \\pi_{c} \\Pi_{q2}^{\\dagger} e_{112}^{\\dagger} d_{1} + \\gamma_{2} \\Pi_{q2}^{\\dagger} e_{212}^{\\dagger} \\pi_{c} d_{2} - 0.5 \\gamma_{2} \\Pi_{q2}^{\\dagger} e_{212}^{\\dagger} d_{2} \\pi_{c} - 0.5 \\gamma_{2} \\pi_{c} \\Pi_{q2}^{\\dagger} e_{212}^{\\dagger} d_{2}$"
      ],
      "text/plain": [
       "\\gamma_{0}*Dagger(\\Pi_{q2})*Dagger(e_{012})*\\pi_c*d_{0} - 0.5*\\gamma_{0}*Dagger(\\Pi_{q2})*Dagger(e_{012})*d_{0}*\\pi_c - 0.5*\\gamma_{0}*\\pi_c*Dagger(\\Pi_{q2})*Dagger(e_{012})*d_{0} + \\gamma_{1}*Dagger(\\Pi_{q2})*Dagger(e_{112})*\\pi_c*d_{1} - 0.5*\\gamma_{1}*Dagger(\\Pi_{q2})*Dagger(e_{112})*d_{1}*\\pi_c - 0.5*\\gamma_{1}*\\pi_c*Dagger(\\Pi_{q2})*Dagger(e_{112})*d_{1} + \\gamma_{2}*Dagger(\\Pi_{q2})*Dagger(e_{212})*\\pi_c*d_{2} - 0.5*\\gamma_{2}*Dagger(\\Pi_{q2})*Dagger(e_{212})*d_{2}*\\pi_c - 0.5*\\gamma_{2}*\\pi_c*Dagger(\\Pi_{q2})*Dagger(e_{212})*d_{2}"
      ]
     },
     "metadata": {},
     "output_type": "display_data"
    },
    {
     "name": "stdout",
     "output_type": "stream",
     "text": [
      "------------\n"
     ]
    },
    {
     "data": {
      "text/latex": [
       "$\\displaystyle \\gamma_{0} \\Pi_{p2}^{\\dagger} e_{022}^{\\dagger} \\pi_{c} d_{0} - 0.5 \\gamma_{0} \\Pi_{p2}^{\\dagger} e_{022}^{\\dagger} d_{0} \\pi_{c} - 0.5 \\gamma_{0} \\pi_{c} \\Pi_{p2}^{\\dagger} e_{022}^{\\dagger} d_{0} + \\gamma_{1} \\Pi_{p2}^{\\dagger} e_{122}^{\\dagger} \\pi_{c} d_{1} - 0.5 \\gamma_{1} \\Pi_{p2}^{\\dagger} e_{122}^{\\dagger} d_{1} \\pi_{c} - 0.5 \\gamma_{1} \\pi_{c} \\Pi_{p2}^{\\dagger} e_{122}^{\\dagger} d_{1} + \\gamma_{2} \\Pi_{p2}^{\\dagger} e_{222}^{\\dagger} \\pi_{c} d_{2} - 0.5 \\gamma_{2} \\Pi_{p2}^{\\dagger} e_{222}^{\\dagger} d_{2} \\pi_{c} - 0.5 \\gamma_{2} \\pi_{c} \\Pi_{p2}^{\\dagger} e_{222}^{\\dagger} d_{2}$"
      ],
      "text/plain": [
       "\\gamma_{0}*Dagger(\\Pi_{p2})*Dagger(e_{022})*\\pi_c*d_{0} - 0.5*\\gamma_{0}*Dagger(\\Pi_{p2})*Dagger(e_{022})*d_{0}*\\pi_c - 0.5*\\gamma_{0}*\\pi_c*Dagger(\\Pi_{p2})*Dagger(e_{022})*d_{0} + \\gamma_{1}*Dagger(\\Pi_{p2})*Dagger(e_{122})*\\pi_c*d_{1} - 0.5*\\gamma_{1}*Dagger(\\Pi_{p2})*Dagger(e_{122})*d_{1}*\\pi_c - 0.5*\\gamma_{1}*\\pi_c*Dagger(\\Pi_{p2})*Dagger(e_{122})*d_{1} + \\gamma_{2}*Dagger(\\Pi_{p2})*Dagger(e_{222})*\\pi_c*d_{2} - 0.5*\\gamma_{2}*Dagger(\\Pi_{p2})*Dagger(e_{222})*d_{2}*\\pi_c - 0.5*\\gamma_{2}*\\pi_c*Dagger(\\Pi_{p2})*Dagger(e_{222})*d_{2}"
      ]
     },
     "metadata": {},
     "output_type": "display_data"
    },
    {
     "name": "stdout",
     "output_type": "stream",
     "text": [
      "------------\n"
     ]
    }
   ],
   "source": [
    "for condi in condicion_ND:\n",
    "    display(condi)\n",
    "    print(\"------------\")"
   ]
  },
  {
   "cell_type": "code",
   "execution_count": 26,
   "id": "ea94915f-7167-45c5-adfb-fdc644ee587a",
   "metadata": {},
   "outputs": [
    {
     "ename": "NameError",
     "evalue": "name 'tp' is not defined",
     "output_type": "error",
     "traceback": [
      "\u001b[1;31m---------------------------------------------------------------------------\u001b[0m",
      "\u001b[1;31mNameError\u001b[0m                                 Traceback (most recent call last)",
      "\u001b[1;32m~\\AppData\\Local\\Temp/ipykernel_15020/1580902349.py\u001b[0m in \u001b[0;36m<module>\u001b[1;34m\u001b[0m\n\u001b[1;32m----> 1\u001b[1;33m \u001b[0mG2\u001b[0m\u001b[1;33m=\u001b[0m\u001b[0mG2\u001b[0m\u001b[1;33m.\u001b[0m\u001b[0mexpand\u001b[0m\u001b[1;33m(\u001b[0m\u001b[1;33m)\u001b[0m\u001b[1;33m.\u001b[0m\u001b[0mcollect\u001b[0m\u001b[1;33m(\u001b[0m\u001b[0mtp\u001b[0m\u001b[1;33m)\u001b[0m\u001b[1;33m.\u001b[0m\u001b[0mcollect\u001b[0m\u001b[1;33m(\u001b[0m\u001b[0mtq\u001b[0m\u001b[1;33m)\u001b[0m\u001b[1;33m.\u001b[0m\u001b[0mcollect\u001b[0m\u001b[1;33m(\u001b[0m\u001b[0mDagger\u001b[0m\u001b[1;33m(\u001b[0m\u001b[0mtp\u001b[0m\u001b[1;33m)\u001b[0m\u001b[1;33m)\u001b[0m\u001b[1;33m.\u001b[0m\u001b[0mcollect\u001b[0m\u001b[1;33m(\u001b[0m\u001b[0mDagger\u001b[0m\u001b[1;33m(\u001b[0m\u001b[0mtq\u001b[0m\u001b[1;33m)\u001b[0m\u001b[1;33m)\u001b[0m\u001b[1;33m.\u001b[0m\u001b[0mcollect\u001b[0m\u001b[1;33m(\u001b[0m\u001b[0mtp\u001b[0m\u001b[1;33m**\u001b[0m\u001b[1;36m2\u001b[0m\u001b[1;33m)\u001b[0m\u001b[1;33m.\u001b[0m\u001b[0mcollect\u001b[0m\u001b[1;33m(\u001b[0m\u001b[0mtq\u001b[0m\u001b[1;33m**\u001b[0m\u001b[1;36m2\u001b[0m\u001b[1;33m)\u001b[0m\u001b[1;33m.\u001b[0m\u001b[0mcollect\u001b[0m\u001b[1;33m(\u001b[0m\u001b[0mDagger\u001b[0m\u001b[1;33m(\u001b[0m\u001b[0mtp\u001b[0m\u001b[1;33m)\u001b[0m\u001b[1;33m**\u001b[0m\u001b[1;36m2\u001b[0m\u001b[1;33m)\u001b[0m\u001b[1;33m.\u001b[0m\u001b[0mcollect\u001b[0m\u001b[1;33m(\u001b[0m\u001b[0mDagger\u001b[0m\u001b[1;33m(\u001b[0m\u001b[0mtq\u001b[0m\u001b[1;33m)\u001b[0m\u001b[1;33m**\u001b[0m\u001b[1;36m2\u001b[0m\u001b[1;33m)\u001b[0m\u001b[1;33m\u001b[0m\u001b[1;33m\u001b[0m\u001b[0m\n\u001b[0m\u001b[0;32m      2\u001b[0m \u001b[0mG2\u001b[0m\u001b[1;33m\u001b[0m\u001b[1;33m\u001b[0m\u001b[0m\n",
      "\u001b[1;31mNameError\u001b[0m: name 'tp' is not defined"
     ]
    }
   ],
   "source": [
    "G2=G2.expand().collect(tp).collect(tq).collect(Dagger(tp)).collect(Dagger(tq)).collect(tp**2).collect(tq**2).collect(Dagger(tp)**2).collect(Dagger(tq)**2)\n",
    "G2"
   ]
  },
  {
   "cell_type": "code",
   "execution_count": 18,
   "id": "f7829051-ff09-4206-a95e-800ea9dded30",
   "metadata": {},
   "outputs": [
    {
     "name": "stdout",
     "output_type": "stream",
     "text": [
      "8\n"
     ]
    }
   ],
   "source": [
    "etiqueta=[tq,tp,Dagger(tq),Dagger(tp)]\n",
    "etiqueta2=[tq**2,tp**2,Dagger(tq)**2,Dagger(tp)**2]\n",
    "etiqueta_total=[tq,tp,Dagger(tq),Dagger(tp),tq**2,tp**2,Dagger(tq)**2,Dagger(tp)**2]\n",
    "condicion2=[]\n",
    "\n",
    "#aux=G.expand()\n",
    "#for g in etiqueta_total:\n",
    "#    aux2=aux.expand().coeff(g)\n",
    "#    aux=(aux-g*aux2).expand()\n",
    "#if aux!=0:\n",
    "#    condicion.append(aux.expand()) \n",
    "\n",
    "\n",
    "for i in etiqueta2:\n",
    "        aux=G2.expand().coeff(i)\n",
    "        for g in etiqueta_total:\n",
    "            aux2=aux.expand().coeff(g)\n",
    "            aux=(aux-g*aux2).expand()\n",
    "        if aux!=0:\n",
    "            condicion2.append(aux.expand()) \n",
    "        \n",
    "for i in etiqueta2:\n",
    "    for jj in etiqueta:\n",
    "        aux=G2.expand().coeff(i).coeff(jj)\n",
    "        for g in etiqueta_total:\n",
    "            aux2=aux.expand().coeff(g)\n",
    "            aux=(aux-g*aux2).expand()\n",
    "        if aux!=0:\n",
    "            condicion2.append(aux.expand()) \n",
    "            \n",
    "for i in etiqueta:\n",
    "    for jj in etiqueta:\n",
    "        aux=G2.expand().coeff(i).coeff(jj)\n",
    "        for g in etiqueta_total:\n",
    "            aux2=aux.expand().coeff(g)\n",
    "            aux=(aux-g*aux2).expand()\n",
    "        if aux!=0:\n",
    "            condicion2.append(aux.expand())            \n",
    "            \n",
    "for i in etiqueta:\n",
    "    for jj in etiqueta:\n",
    "        for k in etiqueta:\n",
    "                aux=G2.expand().coeff(i).coeff(jj).coeff(k)\n",
    "                for g in etiqueta_total:\n",
    "                    aux2=aux.expand().coeff(g)\n",
    "                    aux=(aux-g*aux2).expand()                        \n",
    "                if aux!=0 :\n",
    "                    condicion2.append(aux.expand()) \n",
    "    \n",
    "                    \n",
    "for i in etiqueta:\n",
    "        aux=G2.expand().coeff(i)\n",
    "        flag=False\n",
    "        for g in etiqueta_total:\n",
    "            aux=(aux-g*(aux.expand().coeff(g))).expand()\n",
    "        if aux!=0:\n",
    "            condicion2.append(aux.expand())\n",
    "\n",
    "condicion_ND2=[]\n",
    "\n",
    "for c in condicion2:\n",
    "    if c not in condicion_ND2:\n",
    "        condicion_ND2.append(c)\n",
    "    \n",
    "\n",
    "print(len(condicion_ND2))"
   ]
  },
  {
   "cell_type": "code",
   "execution_count": 19,
   "id": "ffd684ab-a2ff-40e3-87d4-01f01d373e1b",
   "metadata": {},
   "outputs": [
    {
     "data": {
      "text/latex": [
       "$\\displaystyle \\gamma_{0} \\Gamma_{q}^{\\dagger} e_{01}^{\\dagger} \\pi_{c} e_{01} \\Gamma_{q} - 0.5 \\gamma_{0} \\Gamma_{q}^{\\dagger} e_{01}^{\\dagger} e_{01} \\Gamma_{q} \\pi_{c} - 0.5 \\gamma_{0} \\pi_{c} \\Gamma_{q}^{\\dagger} e_{01}^{\\dagger} e_{01} \\Gamma_{q} + \\gamma_{1} \\Gamma_{q}^{\\dagger} e_{11}^{\\dagger} \\pi_{c} e_{11} \\Gamma_{q} - 0.5 \\gamma_{1} \\Gamma_{q}^{\\dagger} e_{11}^{\\dagger} e_{11} \\Gamma_{q} \\pi_{c} - 0.5 \\gamma_{1} \\pi_{c} \\Gamma_{q}^{\\dagger} e_{11}^{\\dagger} e_{11} \\Gamma_{q} + \\gamma_{2} \\Gamma_{q}^{\\dagger} e_{21}^{\\dagger} \\pi_{c} e_{21} \\Gamma_{q} - 0.5 \\gamma_{2} \\Gamma_{q}^{\\dagger} e_{21}^{\\dagger} e_{21} \\Gamma_{q} \\pi_{c} - 0.5 \\gamma_{2} \\pi_{c} \\Gamma_{q}^{\\dagger} e_{21}^{\\dagger} e_{21} \\Gamma_{q} + i \\Gamma_{q}^{\\dagger} b_{1}^{\\dagger} b_{1} \\Gamma_{q} \\pi_{c} - i \\pi_{c} \\Gamma_{q}^{\\dagger} b_{1}^{\\dagger} b_{1} \\Gamma_{q}$"
      ],
      "text/plain": [
       "\\gamma_{0}*Dagger(\\Gamma_q)*Dagger(e_{01})*\\pi_c*e_{01}*\\Gamma_q - 0.5*\\gamma_{0}*Dagger(\\Gamma_q)*Dagger(e_{01})*e_{01}*\\Gamma_q*\\pi_c - 0.5*\\gamma_{0}*\\pi_c*Dagger(\\Gamma_q)*Dagger(e_{01})*e_{01}*\\Gamma_q + \\gamma_{1}*Dagger(\\Gamma_q)*Dagger(e_{11})*\\pi_c*e_{11}*\\Gamma_q - 0.5*\\gamma_{1}*Dagger(\\Gamma_q)*Dagger(e_{11})*e_{11}*\\Gamma_q*\\pi_c - 0.5*\\gamma_{1}*\\pi_c*Dagger(\\Gamma_q)*Dagger(e_{11})*e_{11}*\\Gamma_q + \\gamma_{2}*Dagger(\\Gamma_q)*Dagger(e_{21})*\\pi_c*e_{21}*\\Gamma_q - 0.5*\\gamma_{2}*Dagger(\\Gamma_q)*Dagger(e_{21})*e_{21}*\\Gamma_q*\\pi_c - 0.5*\\gamma_{2}*\\pi_c*Dagger(\\Gamma_q)*Dagger(e_{21})*e_{21}*\\Gamma_q + i*Dagger(\\Gamma_q)*Dagger(b_1)*b_1*\\Gamma_q*\\pi_c - i*\\pi_c*Dagger(\\Gamma_q)*Dagger(b_1)*b_1*\\Gamma_q"
      ]
     },
     "metadata": {},
     "output_type": "display_data"
    },
    {
     "name": "stdout",
     "output_type": "stream",
     "text": [
      "------------\n"
     ]
    },
    {
     "data": {
      "text/latex": [
       "$\\displaystyle \\gamma_{0} \\Gamma_{p}^{\\dagger} e_{02}^{\\dagger} \\pi_{c} e_{01} \\Gamma_{q} - 0.5 \\gamma_{0} \\Gamma_{p}^{\\dagger} e_{02}^{\\dagger} e_{01} \\Gamma_{q} \\pi_{c} - 0.5 \\gamma_{0} \\pi_{c} \\Gamma_{p}^{\\dagger} e_{02}^{\\dagger} e_{01} \\Gamma_{q} + \\gamma_{1} \\Gamma_{p}^{\\dagger} e_{12}^{\\dagger} \\pi_{c} e_{11} \\Gamma_{q} - 0.5 \\gamma_{1} \\Gamma_{p}^{\\dagger} e_{12}^{\\dagger} e_{11} \\Gamma_{q} \\pi_{c} - 0.5 \\gamma_{1} \\pi_{c} \\Gamma_{p}^{\\dagger} e_{12}^{\\dagger} e_{11} \\Gamma_{q} + \\gamma_{2} \\Gamma_{p}^{\\dagger} e_{22}^{\\dagger} \\pi_{c} e_{21} \\Gamma_{q} - 0.5 \\gamma_{2} \\Gamma_{p}^{\\dagger} e_{22}^{\\dagger} e_{21} \\Gamma_{q} \\pi_{c} - 0.5 \\gamma_{2} \\pi_{c} \\Gamma_{p}^{\\dagger} e_{22}^{\\dagger} e_{21} \\Gamma_{q}$"
      ],
      "text/plain": [
       "\\gamma_{0}*Dagger(\\Gamma_p)*Dagger(e_{02})*\\pi_c*e_{01}*\\Gamma_q - 0.5*\\gamma_{0}*Dagger(\\Gamma_p)*Dagger(e_{02})*e_{01}*\\Gamma_q*\\pi_c - 0.5*\\gamma_{0}*\\pi_c*Dagger(\\Gamma_p)*Dagger(e_{02})*e_{01}*\\Gamma_q + \\gamma_{1}*Dagger(\\Gamma_p)*Dagger(e_{12})*\\pi_c*e_{11}*\\Gamma_q - 0.5*\\gamma_{1}*Dagger(\\Gamma_p)*Dagger(e_{12})*e_{11}*\\Gamma_q*\\pi_c - 0.5*\\gamma_{1}*\\pi_c*Dagger(\\Gamma_p)*Dagger(e_{12})*e_{11}*\\Gamma_q + \\gamma_{2}*Dagger(\\Gamma_p)*Dagger(e_{22})*\\pi_c*e_{21}*\\Gamma_q - 0.5*\\gamma_{2}*Dagger(\\Gamma_p)*Dagger(e_{22})*e_{21}*\\Gamma_q*\\pi_c - 0.5*\\gamma_{2}*\\pi_c*Dagger(\\Gamma_p)*Dagger(e_{22})*e_{21}*\\Gamma_q"
      ]
     },
     "metadata": {},
     "output_type": "display_data"
    },
    {
     "name": "stdout",
     "output_type": "stream",
     "text": [
      "------------\n"
     ]
    },
    {
     "data": {
      "text/latex": [
       "$\\displaystyle \\gamma_{0} \\Gamma_{q}^{\\dagger} e_{01}^{\\dagger} \\pi_{c} e_{02} \\Gamma_{p} - 0.5 \\gamma_{0} \\Gamma_{q}^{\\dagger} e_{01}^{\\dagger} e_{02} \\Gamma_{p} \\pi_{c} - 0.5 \\gamma_{0} \\pi_{c} \\Gamma_{q}^{\\dagger} e_{01}^{\\dagger} e_{02} \\Gamma_{p} + \\gamma_{1} \\Gamma_{q}^{\\dagger} e_{11}^{\\dagger} \\pi_{c} e_{12} \\Gamma_{p} - 0.5 \\gamma_{1} \\Gamma_{q}^{\\dagger} e_{11}^{\\dagger} e_{12} \\Gamma_{p} \\pi_{c} - 0.5 \\gamma_{1} \\pi_{c} \\Gamma_{q}^{\\dagger} e_{11}^{\\dagger} e_{12} \\Gamma_{p} + \\gamma_{2} \\Gamma_{q}^{\\dagger} e_{21}^{\\dagger} \\pi_{c} e_{22} \\Gamma_{p} - 0.5 \\gamma_{2} \\Gamma_{q}^{\\dagger} e_{21}^{\\dagger} e_{22} \\Gamma_{p} \\pi_{c} - 0.5 \\gamma_{2} \\pi_{c} \\Gamma_{q}^{\\dagger} e_{21}^{\\dagger} e_{22} \\Gamma_{p}$"
      ],
      "text/plain": [
       "\\gamma_{0}*Dagger(\\Gamma_q)*Dagger(e_{01})*\\pi_c*e_{02}*\\Gamma_p - 0.5*\\gamma_{0}*Dagger(\\Gamma_q)*Dagger(e_{01})*e_{02}*\\Gamma_p*\\pi_c - 0.5*\\gamma_{0}*\\pi_c*Dagger(\\Gamma_q)*Dagger(e_{01})*e_{02}*\\Gamma_p + \\gamma_{1}*Dagger(\\Gamma_q)*Dagger(e_{11})*\\pi_c*e_{12}*\\Gamma_p - 0.5*\\gamma_{1}*Dagger(\\Gamma_q)*Dagger(e_{11})*e_{12}*\\Gamma_p*\\pi_c - 0.5*\\gamma_{1}*\\pi_c*Dagger(\\Gamma_q)*Dagger(e_{11})*e_{12}*\\Gamma_p + \\gamma_{2}*Dagger(\\Gamma_q)*Dagger(e_{21})*\\pi_c*e_{22}*\\Gamma_p - 0.5*\\gamma_{2}*Dagger(\\Gamma_q)*Dagger(e_{21})*e_{22}*\\Gamma_p*\\pi_c - 0.5*\\gamma_{2}*\\pi_c*Dagger(\\Gamma_q)*Dagger(e_{21})*e_{22}*\\Gamma_p"
      ]
     },
     "metadata": {},
     "output_type": "display_data"
    },
    {
     "name": "stdout",
     "output_type": "stream",
     "text": [
      "------------\n"
     ]
    },
    {
     "data": {
      "text/latex": [
       "$\\displaystyle \\gamma_{0} \\Gamma_{p}^{\\dagger} e_{02}^{\\dagger} \\pi_{c} e_{02} \\Gamma_{p} - 0.5 \\gamma_{0} \\Gamma_{p}^{\\dagger} e_{02}^{\\dagger} e_{02} \\Gamma_{p} \\pi_{c} - 0.5 \\gamma_{0} \\pi_{c} \\Gamma_{p}^{\\dagger} e_{02}^{\\dagger} e_{02} \\Gamma_{p} + \\gamma_{1} \\Gamma_{p}^{\\dagger} e_{12}^{\\dagger} \\pi_{c} e_{12} \\Gamma_{p} - 0.5 \\gamma_{1} \\Gamma_{p}^{\\dagger} e_{12}^{\\dagger} e_{12} \\Gamma_{p} \\pi_{c} - 0.5 \\gamma_{1} \\pi_{c} \\Gamma_{p}^{\\dagger} e_{12}^{\\dagger} e_{12} \\Gamma_{p} + \\gamma_{2} \\Gamma_{p}^{\\dagger} e_{22}^{\\dagger} \\pi_{c} e_{22} \\Gamma_{p} - 0.5 \\gamma_{2} \\Gamma_{p}^{\\dagger} e_{22}^{\\dagger} e_{22} \\Gamma_{p} \\pi_{c} - 0.5 \\gamma_{2} \\pi_{c} \\Gamma_{p}^{\\dagger} e_{22}^{\\dagger} e_{22} \\Gamma_{p}$"
      ],
      "text/plain": [
       "\\gamma_{0}*Dagger(\\Gamma_p)*Dagger(e_{02})*\\pi_c*e_{02}*\\Gamma_p - 0.5*\\gamma_{0}*Dagger(\\Gamma_p)*Dagger(e_{02})*e_{02}*\\Gamma_p*\\pi_c - 0.5*\\gamma_{0}*\\pi_c*Dagger(\\Gamma_p)*Dagger(e_{02})*e_{02}*\\Gamma_p + \\gamma_{1}*Dagger(\\Gamma_p)*Dagger(e_{12})*\\pi_c*e_{12}*\\Gamma_p - 0.5*\\gamma_{1}*Dagger(\\Gamma_p)*Dagger(e_{12})*e_{12}*\\Gamma_p*\\pi_c - 0.5*\\gamma_{1}*\\pi_c*Dagger(\\Gamma_p)*Dagger(e_{12})*e_{12}*\\Gamma_p + \\gamma_{2}*Dagger(\\Gamma_p)*Dagger(e_{22})*\\pi_c*e_{22}*\\Gamma_p - 0.5*\\gamma_{2}*Dagger(\\Gamma_p)*Dagger(e_{22})*e_{22}*\\Gamma_p*\\pi_c - 0.5*\\gamma_{2}*\\pi_c*Dagger(\\Gamma_p)*Dagger(e_{22})*e_{22}*\\Gamma_p"
      ]
     },
     "metadata": {},
     "output_type": "display_data"
    },
    {
     "name": "stdout",
     "output_type": "stream",
     "text": [
      "------------\n"
     ]
    },
    {
     "data": {
      "text/latex": [
       "$\\displaystyle \\gamma_{0} d_{0}^{\\dagger} \\pi_{c} e_{01} \\Gamma_{q} - 0.5 \\gamma_{0} d_{0}^{\\dagger} e_{01} \\Gamma_{q} \\pi_{c} - 0.5 \\gamma_{0} \\pi_{c} d_{0}^{\\dagger} e_{01} \\Gamma_{q} + \\gamma_{1} d_{1}^{\\dagger} \\pi_{c} e_{11} \\Gamma_{q} - 0.5 \\gamma_{1} d_{1}^{\\dagger} e_{11} \\Gamma_{q} \\pi_{c} - 0.5 \\gamma_{1} \\pi_{c} d_{1}^{\\dagger} e_{11} \\Gamma_{q} + \\gamma_{2} d_{2}^{\\dagger} \\pi_{c} e_{21} \\Gamma_{q} - 0.5 \\gamma_{2} d_{2}^{\\dagger} e_{21} \\Gamma_{q} \\pi_{c} - 0.5 \\gamma_{2} \\pi_{c} d_{2}^{\\dagger} e_{21} \\Gamma_{q} + i a^{\\dagger} b_{1} \\Gamma_{q} \\pi_{c} - i \\pi_{c} a^{\\dagger} b_{1} \\Gamma_{q}$"
      ],
      "text/plain": [
       "\\gamma_{0}*Dagger(d_{0})*\\pi_c*e_{01}*\\Gamma_q - 0.5*\\gamma_{0}*Dagger(d_{0})*e_{01}*\\Gamma_q*\\pi_c - 0.5*\\gamma_{0}*\\pi_c*Dagger(d_{0})*e_{01}*\\Gamma_q + \\gamma_{1}*Dagger(d_{1})*\\pi_c*e_{11}*\\Gamma_q - 0.5*\\gamma_{1}*Dagger(d_{1})*e_{11}*\\Gamma_q*\\pi_c - 0.5*\\gamma_{1}*\\pi_c*Dagger(d_{1})*e_{11}*\\Gamma_q + \\gamma_{2}*Dagger(d_{2})*\\pi_c*e_{21}*\\Gamma_q - 0.5*\\gamma_{2}*Dagger(d_{2})*e_{21}*\\Gamma_q*\\pi_c - 0.5*\\gamma_{2}*\\pi_c*Dagger(d_{2})*e_{21}*\\Gamma_q + i*Dagger(a)*b_1*\\Gamma_q*\\pi_c - i*\\pi_c*Dagger(a)*b_1*\\Gamma_q"
      ]
     },
     "metadata": {},
     "output_type": "display_data"
    },
    {
     "name": "stdout",
     "output_type": "stream",
     "text": [
      "------------\n"
     ]
    },
    {
     "data": {
      "text/latex": [
       "$\\displaystyle \\gamma_{0} d_{0}^{\\dagger} \\pi_{c} e_{02} \\Gamma_{p} - 0.5 \\gamma_{0} d_{0}^{\\dagger} e_{02} \\Gamma_{p} \\pi_{c} - 0.5 \\gamma_{0} \\pi_{c} d_{0}^{\\dagger} e_{02} \\Gamma_{p} + \\gamma_{1} d_{1}^{\\dagger} \\pi_{c} e_{12} \\Gamma_{p} - 0.5 \\gamma_{1} d_{1}^{\\dagger} e_{12} \\Gamma_{p} \\pi_{c} - 0.5 \\gamma_{1} \\pi_{c} d_{1}^{\\dagger} e_{12} \\Gamma_{p} + \\gamma_{2} d_{2}^{\\dagger} \\pi_{c} e_{22} \\Gamma_{p} - 0.5 \\gamma_{2} d_{2}^{\\dagger} e_{22} \\Gamma_{p} \\pi_{c} - 0.5 \\gamma_{2} \\pi_{c} d_{2}^{\\dagger} e_{22} \\Gamma_{p}$"
      ],
      "text/plain": [
       "\\gamma_{0}*Dagger(d_{0})*\\pi_c*e_{02}*\\Gamma_p - 0.5*\\gamma_{0}*Dagger(d_{0})*e_{02}*\\Gamma_p*\\pi_c - 0.5*\\gamma_{0}*\\pi_c*Dagger(d_{0})*e_{02}*\\Gamma_p + \\gamma_{1}*Dagger(d_{1})*\\pi_c*e_{12}*\\Gamma_p - 0.5*\\gamma_{1}*Dagger(d_{1})*e_{12}*\\Gamma_p*\\pi_c - 0.5*\\gamma_{1}*\\pi_c*Dagger(d_{1})*e_{12}*\\Gamma_p + \\gamma_{2}*Dagger(d_{2})*\\pi_c*e_{22}*\\Gamma_p - 0.5*\\gamma_{2}*Dagger(d_{2})*e_{22}*\\Gamma_p*\\pi_c - 0.5*\\gamma_{2}*\\pi_c*Dagger(d_{2})*e_{22}*\\Gamma_p"
      ]
     },
     "metadata": {},
     "output_type": "display_data"
    },
    {
     "name": "stdout",
     "output_type": "stream",
     "text": [
      "------------\n"
     ]
    },
    {
     "data": {
      "text/latex": [
       "$\\displaystyle \\gamma_{0} \\Gamma_{q}^{\\dagger} e_{01}^{\\dagger} \\pi_{c} d_{0} - 0.5 \\gamma_{0} \\Gamma_{q}^{\\dagger} e_{01}^{\\dagger} d_{0} \\pi_{c} - 0.5 \\gamma_{0} \\pi_{c} \\Gamma_{q}^{\\dagger} e_{01}^{\\dagger} d_{0} + \\gamma_{1} \\Gamma_{q}^{\\dagger} e_{11}^{\\dagger} \\pi_{c} d_{1} - 0.5 \\gamma_{1} \\Gamma_{q}^{\\dagger} e_{11}^{\\dagger} d_{1} \\pi_{c} - 0.5 \\gamma_{1} \\pi_{c} \\Gamma_{q}^{\\dagger} e_{11}^{\\dagger} d_{1} + \\gamma_{2} \\Gamma_{q}^{\\dagger} e_{21}^{\\dagger} \\pi_{c} d_{2} - 0.5 \\gamma_{2} \\Gamma_{q}^{\\dagger} e_{21}^{\\dagger} d_{2} \\pi_{c} - 0.5 \\gamma_{2} \\pi_{c} \\Gamma_{q}^{\\dagger} e_{21}^{\\dagger} d_{2} + i \\Gamma_{q}^{\\dagger} b_{1}^{\\dagger} a \\pi_{c} - i \\pi_{c} \\Gamma_{q}^{\\dagger} b_{1}^{\\dagger} a$"
      ],
      "text/plain": [
       "\\gamma_{0}*Dagger(\\Gamma_q)*Dagger(e_{01})*\\pi_c*d_{0} - 0.5*\\gamma_{0}*Dagger(\\Gamma_q)*Dagger(e_{01})*d_{0}*\\pi_c - 0.5*\\gamma_{0}*\\pi_c*Dagger(\\Gamma_q)*Dagger(e_{01})*d_{0} + \\gamma_{1}*Dagger(\\Gamma_q)*Dagger(e_{11})*\\pi_c*d_{1} - 0.5*\\gamma_{1}*Dagger(\\Gamma_q)*Dagger(e_{11})*d_{1}*\\pi_c - 0.5*\\gamma_{1}*\\pi_c*Dagger(\\Gamma_q)*Dagger(e_{11})*d_{1} + \\gamma_{2}*Dagger(\\Gamma_q)*Dagger(e_{21})*\\pi_c*d_{2} - 0.5*\\gamma_{2}*Dagger(\\Gamma_q)*Dagger(e_{21})*d_{2}*\\pi_c - 0.5*\\gamma_{2}*\\pi_c*Dagger(\\Gamma_q)*Dagger(e_{21})*d_{2} + i*Dagger(\\Gamma_q)*Dagger(b_1)*a*\\pi_c - i*\\pi_c*Dagger(\\Gamma_q)*Dagger(b_1)*a"
      ]
     },
     "metadata": {},
     "output_type": "display_data"
    },
    {
     "name": "stdout",
     "output_type": "stream",
     "text": [
      "------------\n"
     ]
    },
    {
     "data": {
      "text/latex": [
       "$\\displaystyle \\gamma_{0} \\Gamma_{p}^{\\dagger} e_{02}^{\\dagger} \\pi_{c} d_{0} - 0.5 \\gamma_{0} \\Gamma_{p}^{\\dagger} e_{02}^{\\dagger} d_{0} \\pi_{c} - 0.5 \\gamma_{0} \\pi_{c} \\Gamma_{p}^{\\dagger} e_{02}^{\\dagger} d_{0} + \\gamma_{1} \\Gamma_{p}^{\\dagger} e_{12}^{\\dagger} \\pi_{c} d_{1} - 0.5 \\gamma_{1} \\Gamma_{p}^{\\dagger} e_{12}^{\\dagger} d_{1} \\pi_{c} - 0.5 \\gamma_{1} \\pi_{c} \\Gamma_{p}^{\\dagger} e_{12}^{\\dagger} d_{1} + \\gamma_{2} \\Gamma_{p}^{\\dagger} e_{22}^{\\dagger} \\pi_{c} d_{2} - 0.5 \\gamma_{2} \\Gamma_{p}^{\\dagger} e_{22}^{\\dagger} d_{2} \\pi_{c} - 0.5 \\gamma_{2} \\pi_{c} \\Gamma_{p}^{\\dagger} e_{22}^{\\dagger} d_{2}$"
      ],
      "text/plain": [
       "\\gamma_{0}*Dagger(\\Gamma_p)*Dagger(e_{02})*\\pi_c*d_{0} - 0.5*\\gamma_{0}*Dagger(\\Gamma_p)*Dagger(e_{02})*d_{0}*\\pi_c - 0.5*\\gamma_{0}*\\pi_c*Dagger(\\Gamma_p)*Dagger(e_{02})*d_{0} + \\gamma_{1}*Dagger(\\Gamma_p)*Dagger(e_{12})*\\pi_c*d_{1} - 0.5*\\gamma_{1}*Dagger(\\Gamma_p)*Dagger(e_{12})*d_{1}*\\pi_c - 0.5*\\gamma_{1}*\\pi_c*Dagger(\\Gamma_p)*Dagger(e_{12})*d_{1} + \\gamma_{2}*Dagger(\\Gamma_p)*Dagger(e_{22})*\\pi_c*d_{2} - 0.5*\\gamma_{2}*Dagger(\\Gamma_p)*Dagger(e_{22})*d_{2}*\\pi_c - 0.5*\\gamma_{2}*\\pi_c*Dagger(\\Gamma_p)*Dagger(e_{22})*d_{2}"
      ]
     },
     "metadata": {},
     "output_type": "display_data"
    },
    {
     "name": "stdout",
     "output_type": "stream",
     "text": [
      "------------\n"
     ]
    }
   ],
   "source": [
    "for condi2 in condicion_ND2:\n",
    "    display(condi2)\n",
    "    print(\"------------\")"
   ]
  },
  {
   "cell_type": "code",
   "execution_count": 39,
   "id": "ae541602-7b75-404e-becc-3359a624493f",
   "metadata": {},
   "outputs": [
    {
     "data": {
      "text/latex": [
       "$\\displaystyle t_{q} t_{q}^{\\dagger} \\Gamma_{q}^{\\dagger} b_{1}^{\\dagger} b_{1} \\Gamma_{q} + t_{q} a^{\\dagger} b_{1} \\Gamma_{q} + t_{q}^{\\dagger} \\Gamma_{q}^{\\dagger} b_{1}^{\\dagger} a + a^{\\dagger} a$"
      ],
      "text/plain": [
       "t_q*Dagger(t_q)*Dagger(\\Gamma_q)*Dagger(b_1)*b_1*\\Gamma_q + t_q*Dagger(a)*b_1*\\Gamma_q + Dagger(t_q)*Dagger(\\Gamma_q)*Dagger(b_1)*a + Dagger(a)*a"
      ]
     },
     "execution_count": 39,
     "metadata": {},
     "output_type": "execute_result"
    }
   ],
   "source": [
    "Hc.expand()"
   ]
  },
  {
   "cell_type": "code",
   "execution_count": 40,
   "id": "14bdb9e6-ba83-4c36-ba34-51cdf29d87f8",
   "metadata": {},
   "outputs": [],
   "source": [
    "def sustituir_lista(lista,variable,valor):\n",
    "    lista2=[i.subs(variable,valor) for i in lista]\n",
    "    return lista2"
   ]
  },
  {
   "cell_type": "code",
   "execution_count": 109,
   "id": "41df415c-6860-4de9-808c-9270c1c721c4",
   "metadata": {},
   "outputs": [],
   "source": [
    "cond=condicion\n",
    "for k in range(orden):\n",
    "    exec(f\"cond=sustituir_lista(cond,gamma{k},1)\")\n",
    "    exec(f\"cond=sustituir_lista(cond,e{k}1,1)\")\n",
    "    exec(f\"cond=sustituir_lista(cond,e{k}2,1)\")\n",
    "    exec(f\"cond=sustituir_lista(cond,e{k}3,1)\")\n",
    "    exec(f\"cond=sustituir_lista(cond,e{k}4,1)\")\n",
    "    exec(f\"cond=sustituir_lista(cond,d{k},1)\")\n"
   ]
  },
  {
   "cell_type": "code",
   "execution_count": 110,
   "id": "efd738d9-cb90-4f27-866e-8b6115886745",
   "metadata": {},
   "outputs": [
    {
     "data": {
      "text/latex": [
       "$\\displaystyle - 1.0 \\Gamma_{q}^{\\dagger} \\Gamma_{q} \\pi_{c} + 2 \\Gamma_{q}^{\\dagger} \\pi_{c} \\Gamma_{q} - 1.0 \\pi_{c} \\Gamma_{q}^{\\dagger} \\Gamma_{q}$"
      ],
      "text/plain": [
       "-1.0*Dagger(\\Gamma_q)*\\Gamma_q*\\pi_c + 2*Dagger(\\Gamma_q)*\\pi_c*\\Gamma_q - 1.0*\\pi_c*Dagger(\\Gamma_q)*\\Gamma_q"
      ]
     },
     "execution_count": 110,
     "metadata": {},
     "output_type": "execute_result"
    }
   ],
   "source": [
    "cond[0]"
   ]
  },
  {
   "cell_type": "code",
   "execution_count": 111,
   "id": "85fcd79a-f60a-4242-b318-04b5f1d2b754",
   "metadata": {},
   "outputs": [
    {
     "data": {
      "text/latex": [
       "$\\displaystyle - 1.0 \\Gamma_{q}^{\\dagger} \\Gamma_{q} \\pi_{c} + 2 \\Gamma_{q}^{\\dagger} \\pi_{c} \\Gamma_{q} - 1.0 \\pi_{c} \\Gamma_{q}^{\\dagger} \\Gamma_{q}$"
      ],
      "text/plain": [
       "-1.0*Dagger(\\Gamma_q)*\\Gamma_q*\\pi_c + 2*Dagger(\\Gamma_q)*\\pi_c*\\Gamma_q - 1.0*\\pi_c*Dagger(\\Gamma_q)*\\Gamma_q"
      ]
     },
     "metadata": {},
     "output_type": "display_data"
    },
    {
     "name": "stdout",
     "output_type": "stream",
     "text": [
      "------------\n"
     ]
    },
    {
     "data": {
      "text/latex": [
       "$\\displaystyle - 1.0 \\Gamma_{p}^{\\dagger} \\Gamma_{q} \\pi_{c} + 2 \\Gamma_{p}^{\\dagger} \\pi_{c} \\Gamma_{q} - 1.0 \\pi_{c} \\Gamma_{p}^{\\dagger} \\Gamma_{q}$"
      ],
      "text/plain": [
       "-1.0*Dagger(\\Gamma_p)*\\Gamma_q*\\pi_c + 2*Dagger(\\Gamma_p)*\\pi_c*\\Gamma_q - 1.0*\\pi_c*Dagger(\\Gamma_p)*\\Gamma_q"
      ]
     },
     "metadata": {},
     "output_type": "display_data"
    },
    {
     "name": "stdout",
     "output_type": "stream",
     "text": [
      "------------\n"
     ]
    },
    {
     "data": {
      "text/latex": [
       "$\\displaystyle - 1.0 \\Gamma_{q}^{\\dagger} \\Gamma_{p} \\pi_{c} + 2 \\Gamma_{q}^{\\dagger} \\pi_{c} \\Gamma_{p} - 1.0 \\pi_{c} \\Gamma_{q}^{\\dagger} \\Gamma_{p}$"
      ],
      "text/plain": [
       "-1.0*Dagger(\\Gamma_q)*\\Gamma_p*\\pi_c + 2*Dagger(\\Gamma_q)*\\pi_c*\\Gamma_p - 1.0*\\pi_c*Dagger(\\Gamma_q)*\\Gamma_p"
      ]
     },
     "metadata": {},
     "output_type": "display_data"
    },
    {
     "name": "stdout",
     "output_type": "stream",
     "text": [
      "------------\n"
     ]
    },
    {
     "data": {
      "text/latex": [
       "$\\displaystyle - 1.0 \\Gamma_{p}^{\\dagger} \\Gamma_{p} \\pi_{c} + 2 \\Gamma_{p}^{\\dagger} \\pi_{c} \\Gamma_{p} - 1.0 \\pi_{c} \\Gamma_{p}^{\\dagger} \\Gamma_{p}$"
      ],
      "text/plain": [
       "-1.0*Dagger(\\Gamma_p)*\\Gamma_p*\\pi_c + 2*Dagger(\\Gamma_p)*\\pi_c*\\Gamma_p - 1.0*\\pi_c*Dagger(\\Gamma_p)*\\Gamma_p"
      ]
     },
     "metadata": {},
     "output_type": "display_data"
    },
    {
     "name": "stdout",
     "output_type": "stream",
     "text": [
      "------------\n"
     ]
    },
    {
     "data": {
      "text/latex": [
       "$\\displaystyle - 1.0 \\Gamma_{q}^{\\dagger} \\Gamma_{q} \\pi_{c} + 2 \\Gamma_{q}^{\\dagger} \\pi_{c} \\Gamma_{q} - 1.0 \\pi_{c} \\Gamma_{q}^{\\dagger} \\Gamma_{q}$"
      ],
      "text/plain": [
       "-1.0*Dagger(\\Gamma_q)*\\Gamma_q*\\pi_c + 2*Dagger(\\Gamma_q)*\\pi_c*\\Gamma_q - 1.0*\\pi_c*Dagger(\\Gamma_q)*\\Gamma_q"
      ]
     },
     "metadata": {},
     "output_type": "display_data"
    },
    {
     "name": "stdout",
     "output_type": "stream",
     "text": [
      "------------\n"
     ]
    },
    {
     "data": {
      "text/latex": [
       "$\\displaystyle - 1.0 \\Gamma_{q}^{\\dagger} \\Gamma_{p} \\pi_{c} + 2 \\Gamma_{q}^{\\dagger} \\pi_{c} \\Gamma_{p} - 1.0 \\pi_{c} \\Gamma_{q}^{\\dagger} \\Gamma_{p}$"
      ],
      "text/plain": [
       "-1.0*Dagger(\\Gamma_q)*\\Gamma_p*\\pi_c + 2*Dagger(\\Gamma_q)*\\pi_c*\\Gamma_p - 1.0*\\pi_c*Dagger(\\Gamma_q)*\\Gamma_p"
      ]
     },
     "metadata": {},
     "output_type": "display_data"
    },
    {
     "name": "stdout",
     "output_type": "stream",
     "text": [
      "------------\n"
     ]
    },
    {
     "data": {
      "text/latex": [
       "$\\displaystyle - 1.0 \\Gamma_{p}^{\\dagger} \\Gamma_{q} \\pi_{c} + 2 \\Gamma_{p}^{\\dagger} \\pi_{c} \\Gamma_{q} - 1.0 \\pi_{c} \\Gamma_{p}^{\\dagger} \\Gamma_{q}$"
      ],
      "text/plain": [
       "-1.0*Dagger(\\Gamma_p)*\\Gamma_q*\\pi_c + 2*Dagger(\\Gamma_p)*\\pi_c*\\Gamma_q - 1.0*\\pi_c*Dagger(\\Gamma_p)*\\Gamma_q"
      ]
     },
     "metadata": {},
     "output_type": "display_data"
    },
    {
     "name": "stdout",
     "output_type": "stream",
     "text": [
      "------------\n"
     ]
    },
    {
     "data": {
      "text/latex": [
       "$\\displaystyle - 1.0 \\Gamma_{p}^{\\dagger} \\Gamma_{p} \\pi_{c} + 2 \\Gamma_{p}^{\\dagger} \\pi_{c} \\Gamma_{p} - 1.0 \\pi_{c} \\Gamma_{p}^{\\dagger} \\Gamma_{p}$"
      ],
      "text/plain": [
       "-1.0*Dagger(\\Gamma_p)*\\Gamma_p*\\pi_c + 2*Dagger(\\Gamma_p)*\\pi_c*\\Gamma_p - 1.0*\\pi_c*Dagger(\\Gamma_p)*\\Gamma_p"
      ]
     },
     "metadata": {},
     "output_type": "display_data"
    },
    {
     "name": "stdout",
     "output_type": "stream",
     "text": [
      "------------\n"
     ]
    },
    {
     "data": {
      "text/latex": [
       "$\\displaystyle - 1.0 \\Gamma_{q} \\pi_{c} + 1.0 \\pi_{c} \\Gamma_{q}$"
      ],
      "text/plain": [
       "-1.0*\\Gamma_q*\\pi_c + 1.0*\\pi_c*\\Gamma_q"
      ]
     },
     "metadata": {},
     "output_type": "display_data"
    },
    {
     "name": "stdout",
     "output_type": "stream",
     "text": [
      "------------\n"
     ]
    },
    {
     "data": {
      "text/latex": [
       "$\\displaystyle - 1.0 \\Gamma_{p} \\pi_{c} + 1.0 \\pi_{c} \\Gamma_{p}$"
      ],
      "text/plain": [
       "-1.0*\\Gamma_p*\\pi_c + 1.0*\\pi_c*\\Gamma_p"
      ]
     },
     "metadata": {},
     "output_type": "display_data"
    },
    {
     "name": "stdout",
     "output_type": "stream",
     "text": [
      "------------\n"
     ]
    },
    {
     "data": {
      "text/latex": [
       "$\\displaystyle 1.0 \\Gamma_{q}^{\\dagger} \\pi_{c} - 1.0 \\pi_{c} \\Gamma_{q}^{\\dagger}$"
      ],
      "text/plain": [
       "1.0*Dagger(\\Gamma_q)*\\pi_c - 1.0*\\pi_c*Dagger(\\Gamma_q)"
      ]
     },
     "metadata": {},
     "output_type": "display_data"
    },
    {
     "name": "stdout",
     "output_type": "stream",
     "text": [
      "------------\n"
     ]
    },
    {
     "data": {
      "text/latex": [
       "$\\displaystyle 1.0 \\Gamma_{p}^{\\dagger} \\pi_{c} - 1.0 \\pi_{c} \\Gamma_{p}^{\\dagger}$"
      ],
      "text/plain": [
       "1.0*Dagger(\\Gamma_p)*\\pi_c - 1.0*\\pi_c*Dagger(\\Gamma_p)"
      ]
     },
     "metadata": {},
     "output_type": "display_data"
    },
    {
     "name": "stdout",
     "output_type": "stream",
     "text": [
      "------------\n"
     ]
    }
   ],
   "source": [
    "for condi in cond:\n",
    "    display(condi)\n",
    "    print(\"------------\")"
   ]
  },
  {
   "cell_type": "code",
   "execution_count": 112,
   "id": "caeca20b-a0bf-4bd6-9d43-092c253e26fc",
   "metadata": {},
   "outputs": [
    {
     "data": {
      "text/latex": [
       "$\\displaystyle - 1.0 \\Gamma_{q}^{\\dagger} \\Gamma_{q} \\pi_{c} + 2 \\Gamma_{q}^{\\dagger} \\pi_{c} \\Gamma_{q} - 1.0 \\pi_{c} \\Gamma_{q}^{\\dagger} \\Gamma_{q}$"
      ],
      "text/plain": [
       "-1.0*Dagger(\\Gamma_q)*\\Gamma_q*\\pi_c + 2*Dagger(\\Gamma_q)*\\pi_c*\\Gamma_q - 1.0*\\pi_c*Dagger(\\Gamma_q)*\\Gamma_q"
      ]
     },
     "execution_count": 112,
     "metadata": {},
     "output_type": "execute_result"
    }
   ],
   "source": [
    "cond[0].collect(piq)"
   ]
  },
  {
   "cell_type": "code",
   "execution_count": null,
   "id": "62e53b83-2e2e-45f1-9ee2-b753724d0c0f",
   "metadata": {},
   "outputs": [],
   "source": []
  }
 ],
 "metadata": {
  "kernelspec": {
   "display_name": "Python 3 (ipykernel)",
   "language": "python",
   "name": "python3"
  },
  "language_info": {
   "codemirror_mode": {
    "name": "ipython",
    "version": 3
   },
   "file_extension": ".py",
   "mimetype": "text/x-python",
   "name": "python",
   "nbconvert_exporter": "python",
   "pygments_lexer": "ipython3",
   "version": "3.8.5"
  }
 },
 "nbformat": 4,
 "nbformat_minor": 5
}
